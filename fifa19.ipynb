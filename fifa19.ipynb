{
 "cells": [
  {
   "cell_type": "code",
   "execution_count": 1,
   "id": "44f843d1",
   "metadata": {
    "execution": {
     "iopub.execute_input": "2023-07-24T11:06:15.656795Z",
     "iopub.status.busy": "2023-07-24T11:06:15.656318Z",
     "iopub.status.idle": "2023-07-24T11:06:17.336817Z",
     "shell.execute_reply": "2023-07-24T11:06:17.335378Z"
    },
    "papermill": {
     "duration": 1.690626,
     "end_time": "2023-07-24T11:06:17.339635",
     "exception": false,
     "start_time": "2023-07-24T11:06:15.649009",
     "status": "completed"
    },
    "tags": []
   },
   "outputs": [
    {
     "name": "stderr",
     "output_type": "stream",
     "text": [
      "/opt/conda/lib/python3.10/site-packages/scipy/__init__.py:146: UserWarning: A NumPy version >=1.16.5 and <1.23.0 is required for this version of SciPy (detected version 1.23.5\n",
      "  warnings.warn(f\"A NumPy version >={np_minversion} and <{np_maxversion}\"\n"
     ]
    }
   ],
   "source": [
    "import numpy as np\n",
    "import pandas as pd\n",
    "import matplotlib.pyplot as plt\n",
    "import seaborn as sns"
   ]
  },
  {
   "cell_type": "code",
   "execution_count": 2,
   "id": "3765ff14",
   "metadata": {
    "execution": {
     "iopub.execute_input": "2023-07-24T11:06:17.352073Z",
     "iopub.status.busy": "2023-07-24T11:06:17.351593Z",
     "iopub.status.idle": "2023-07-24T11:06:17.474486Z",
     "shell.execute_reply": "2023-07-24T11:06:17.473014Z"
    },
    "papermill": {
     "duration": 0.132443,
     "end_time": "2023-07-24T11:06:17.477281",
     "exception": false,
     "start_time": "2023-07-24T11:06:17.344838",
     "status": "completed"
    },
    "tags": []
   },
   "outputs": [],
   "source": [
    "df = pd.read_csv(\"/kaggle/input/fifa19eda/fifa_eda.csv\")"
   ]
  },
  {
   "cell_type": "code",
   "execution_count": 3,
   "id": "d524672c",
   "metadata": {
    "execution": {
     "iopub.execute_input": "2023-07-24T11:06:17.489465Z",
     "iopub.status.busy": "2023-07-24T11:06:17.488928Z",
     "iopub.status.idle": "2023-07-24T11:06:17.525780Z",
     "shell.execute_reply": "2023-07-24T11:06:17.524526Z"
    },
    "papermill": {
     "duration": 0.04619,
     "end_time": "2023-07-24T11:06:17.528411",
     "exception": false,
     "start_time": "2023-07-24T11:06:17.482221",
     "status": "completed"
    },
    "tags": []
   },
   "outputs": [
    {
     "data": {
      "text/html": [
       "<div>\n",
       "<style scoped>\n",
       "    .dataframe tbody tr th:only-of-type {\n",
       "        vertical-align: middle;\n",
       "    }\n",
       "\n",
       "    .dataframe tbody tr th {\n",
       "        vertical-align: top;\n",
       "    }\n",
       "\n",
       "    .dataframe thead th {\n",
       "        text-align: right;\n",
       "    }\n",
       "</style>\n",
       "<table border=\"1\" class=\"dataframe\">\n",
       "  <thead>\n",
       "    <tr style=\"text-align: right;\">\n",
       "      <th></th>\n",
       "      <th>ID</th>\n",
       "      <th>Name</th>\n",
       "      <th>Age</th>\n",
       "      <th>Nationality</th>\n",
       "      <th>Overall</th>\n",
       "      <th>Potential</th>\n",
       "      <th>Club</th>\n",
       "      <th>Value</th>\n",
       "      <th>Wage</th>\n",
       "      <th>Preferred Foot</th>\n",
       "      <th>International Reputation</th>\n",
       "      <th>Skill Moves</th>\n",
       "      <th>Position</th>\n",
       "      <th>Joined</th>\n",
       "      <th>Contract Valid Until</th>\n",
       "      <th>Height</th>\n",
       "      <th>Weight</th>\n",
       "      <th>Release Clause</th>\n",
       "    </tr>\n",
       "  </thead>\n",
       "  <tbody>\n",
       "    <tr>\n",
       "      <th>0</th>\n",
       "      <td>158023</td>\n",
       "      <td>L. Messi</td>\n",
       "      <td>31</td>\n",
       "      <td>Argentina</td>\n",
       "      <td>94</td>\n",
       "      <td>94</td>\n",
       "      <td>FC Barcelona</td>\n",
       "      <td>110500.0</td>\n",
       "      <td>565.0</td>\n",
       "      <td>Left</td>\n",
       "      <td>5.0</td>\n",
       "      <td>4.0</td>\n",
       "      <td>RF</td>\n",
       "      <td>2004</td>\n",
       "      <td>2021-01-01</td>\n",
       "      <td>5.583333</td>\n",
       "      <td>159.0</td>\n",
       "      <td>226500.0</td>\n",
       "    </tr>\n",
       "    <tr>\n",
       "      <th>1</th>\n",
       "      <td>20801</td>\n",
       "      <td>Cristiano Ronaldo</td>\n",
       "      <td>33</td>\n",
       "      <td>Portugal</td>\n",
       "      <td>94</td>\n",
       "      <td>94</td>\n",
       "      <td>Juventus</td>\n",
       "      <td>77000.0</td>\n",
       "      <td>405.0</td>\n",
       "      <td>Right</td>\n",
       "      <td>5.0</td>\n",
       "      <td>5.0</td>\n",
       "      <td>ST</td>\n",
       "      <td>2018</td>\n",
       "      <td>2022-01-01</td>\n",
       "      <td>6.166667</td>\n",
       "      <td>183.0</td>\n",
       "      <td>127100.0</td>\n",
       "    </tr>\n",
       "    <tr>\n",
       "      <th>2</th>\n",
       "      <td>190871</td>\n",
       "      <td>Neymar Jr</td>\n",
       "      <td>26</td>\n",
       "      <td>Brazil</td>\n",
       "      <td>92</td>\n",
       "      <td>93</td>\n",
       "      <td>Paris Saint-Germain</td>\n",
       "      <td>118500.0</td>\n",
       "      <td>290.0</td>\n",
       "      <td>Right</td>\n",
       "      <td>5.0</td>\n",
       "      <td>5.0</td>\n",
       "      <td>LW</td>\n",
       "      <td>2017</td>\n",
       "      <td>2022-01-01</td>\n",
       "      <td>5.750000</td>\n",
       "      <td>150.0</td>\n",
       "      <td>228100.0</td>\n",
       "    </tr>\n",
       "    <tr>\n",
       "      <th>3</th>\n",
       "      <td>193080</td>\n",
       "      <td>De Gea</td>\n",
       "      <td>27</td>\n",
       "      <td>Spain</td>\n",
       "      <td>91</td>\n",
       "      <td>93</td>\n",
       "      <td>Manchester United</td>\n",
       "      <td>72000.0</td>\n",
       "      <td>260.0</td>\n",
       "      <td>Right</td>\n",
       "      <td>4.0</td>\n",
       "      <td>1.0</td>\n",
       "      <td>GK</td>\n",
       "      <td>2011</td>\n",
       "      <td>2020-01-01</td>\n",
       "      <td>6.333333</td>\n",
       "      <td>168.0</td>\n",
       "      <td>138600.0</td>\n",
       "    </tr>\n",
       "    <tr>\n",
       "      <th>4</th>\n",
       "      <td>192985</td>\n",
       "      <td>K. De Bruyne</td>\n",
       "      <td>27</td>\n",
       "      <td>Belgium</td>\n",
       "      <td>91</td>\n",
       "      <td>92</td>\n",
       "      <td>Manchester City</td>\n",
       "      <td>102000.0</td>\n",
       "      <td>355.0</td>\n",
       "      <td>Right</td>\n",
       "      <td>4.0</td>\n",
       "      <td>4.0</td>\n",
       "      <td>RCM</td>\n",
       "      <td>2015</td>\n",
       "      <td>2023-01-01</td>\n",
       "      <td>5.916667</td>\n",
       "      <td>154.0</td>\n",
       "      <td>196400.0</td>\n",
       "    </tr>\n",
       "  </tbody>\n",
       "</table>\n",
       "</div>"
      ],
      "text/plain": [
       "       ID               Name  Age Nationality  Overall  Potential  \\\n",
       "0  158023           L. Messi   31   Argentina       94         94   \n",
       "1   20801  Cristiano Ronaldo   33    Portugal       94         94   \n",
       "2  190871          Neymar Jr   26      Brazil       92         93   \n",
       "3  193080             De Gea   27       Spain       91         93   \n",
       "4  192985       K. De Bruyne   27     Belgium       91         92   \n",
       "\n",
       "                  Club     Value   Wage Preferred Foot  \\\n",
       "0         FC Barcelona  110500.0  565.0           Left   \n",
       "1             Juventus   77000.0  405.0          Right   \n",
       "2  Paris Saint-Germain  118500.0  290.0          Right   \n",
       "3    Manchester United   72000.0  260.0          Right   \n",
       "4      Manchester City  102000.0  355.0          Right   \n",
       "\n",
       "   International Reputation  Skill Moves Position  Joined  \\\n",
       "0                       5.0          4.0       RF    2004   \n",
       "1                       5.0          5.0       ST    2018   \n",
       "2                       5.0          5.0       LW    2017   \n",
       "3                       4.0          1.0       GK    2011   \n",
       "4                       4.0          4.0      RCM    2015   \n",
       "\n",
       "  Contract Valid Until    Height  Weight  Release Clause  \n",
       "0           2021-01-01  5.583333   159.0        226500.0  \n",
       "1           2022-01-01  6.166667   183.0        127100.0  \n",
       "2           2022-01-01  5.750000   150.0        228100.0  \n",
       "3           2020-01-01  6.333333   168.0        138600.0  \n",
       "4           2023-01-01  5.916667   154.0        196400.0  "
      ]
     },
     "execution_count": 3,
     "metadata": {},
     "output_type": "execute_result"
    }
   ],
   "source": [
    "df.head()"
   ]
  },
  {
   "cell_type": "code",
   "execution_count": 4,
   "id": "9e45fbac",
   "metadata": {
    "execution": {
     "iopub.execute_input": "2023-07-24T11:06:17.541453Z",
     "iopub.status.busy": "2023-07-24T11:06:17.540553Z",
     "iopub.status.idle": "2023-07-24T11:06:17.590513Z",
     "shell.execute_reply": "2023-07-24T11:06:17.588463Z"
    },
    "papermill": {
     "duration": 0.059702,
     "end_time": "2023-07-24T11:06:17.593395",
     "exception": false,
     "start_time": "2023-07-24T11:06:17.533693",
     "status": "completed"
    },
    "tags": []
   },
   "outputs": [
    {
     "name": "stdout",
     "output_type": "stream",
     "text": [
      "<class 'pandas.core.frame.DataFrame'>\n",
      "RangeIndex: 18207 entries, 0 to 18206\n",
      "Data columns (total 18 columns):\n",
      " #   Column                    Non-Null Count  Dtype  \n",
      "---  ------                    --------------  -----  \n",
      " 0   ID                        18207 non-null  int64  \n",
      " 1   Name                      18207 non-null  object \n",
      " 2   Age                       18207 non-null  int64  \n",
      " 3   Nationality               18207 non-null  object \n",
      " 4   Overall                   18207 non-null  int64  \n",
      " 5   Potential                 18207 non-null  int64  \n",
      " 6   Club                      17966 non-null  object \n",
      " 7   Value                     17955 non-null  float64\n",
      " 8   Wage                      18207 non-null  float64\n",
      " 9   Preferred Foot            18207 non-null  object \n",
      " 10  International Reputation  18159 non-null  float64\n",
      " 11  Skill Moves               18159 non-null  float64\n",
      " 12  Position                  18207 non-null  object \n",
      " 13  Joined                    18207 non-null  int64  \n",
      " 14  Contract Valid Until      17918 non-null  object \n",
      " 15  Height                    18207 non-null  float64\n",
      " 16  Weight                    18207 non-null  float64\n",
      " 17  Release Clause            18207 non-null  float64\n",
      "dtypes: float64(7), int64(5), object(6)\n",
      "memory usage: 2.5+ MB\n"
     ]
    }
   ],
   "source": [
    "df.info()"
   ]
  },
  {
   "cell_type": "code",
   "execution_count": 5,
   "id": "afb2c461",
   "metadata": {
    "execution": {
     "iopub.execute_input": "2023-07-24T11:06:17.606649Z",
     "iopub.status.busy": "2023-07-24T11:06:17.605701Z",
     "iopub.status.idle": "2023-07-24T11:06:17.633853Z",
     "shell.execute_reply": "2023-07-24T11:06:17.632629Z"
    },
    "papermill": {
     "duration": 0.037167,
     "end_time": "2023-07-24T11:06:17.636075",
     "exception": false,
     "start_time": "2023-07-24T11:06:17.598908",
     "status": "completed"
    },
    "tags": []
   },
   "outputs": [
    {
     "data": {
      "text/plain": [
       "ID                            0\n",
       "Name                          0\n",
       "Age                           0\n",
       "Nationality                   0\n",
       "Overall                       0\n",
       "Potential                     0\n",
       "Club                        241\n",
       "Value                       252\n",
       "Wage                          0\n",
       "Preferred Foot                0\n",
       "International Reputation     48\n",
       "Skill Moves                  48\n",
       "Position                      0\n",
       "Joined                        0\n",
       "Contract Valid Until        289\n",
       "Height                        0\n",
       "Weight                        0\n",
       "Release Clause                0\n",
       "dtype: int64"
      ]
     },
     "execution_count": 5,
     "metadata": {},
     "output_type": "execute_result"
    }
   ],
   "source": [
    "df.isnull().sum()"
   ]
  },
  {
   "cell_type": "code",
   "execution_count": 6,
   "id": "b6cd4962",
   "metadata": {
    "execution": {
     "iopub.execute_input": "2023-07-24T11:06:17.650188Z",
     "iopub.status.busy": "2023-07-24T11:06:17.649061Z",
     "iopub.status.idle": "2023-07-24T11:06:17.678524Z",
     "shell.execute_reply": "2023-07-24T11:06:17.677264Z"
    },
    "papermill": {
     "duration": 0.039216,
     "end_time": "2023-07-24T11:06:17.681301",
     "exception": false,
     "start_time": "2023-07-24T11:06:17.642085",
     "status": "completed"
    },
    "tags": []
   },
   "outputs": [],
   "source": [
    "df.dropna(axis = 0,inplace = True)"
   ]
  },
  {
   "cell_type": "code",
   "execution_count": 7,
   "id": "0afa6b16",
   "metadata": {
    "execution": {
     "iopub.execute_input": "2023-07-24T11:06:17.695267Z",
     "iopub.status.busy": "2023-07-24T11:06:17.694799Z",
     "iopub.status.idle": "2023-07-24T11:06:17.720540Z",
     "shell.execute_reply": "2023-07-24T11:06:17.719722Z"
    },
    "papermill": {
     "duration": 0.035505,
     "end_time": "2023-07-24T11:06:17.722711",
     "exception": false,
     "start_time": "2023-07-24T11:06:17.687206",
     "status": "completed"
    },
    "tags": []
   },
   "outputs": [
    {
     "data": {
      "text/plain": [
       "ID                          0\n",
       "Name                        0\n",
       "Age                         0\n",
       "Nationality                 0\n",
       "Overall                     0\n",
       "Potential                   0\n",
       "Club                        0\n",
       "Value                       0\n",
       "Wage                        0\n",
       "Preferred Foot              0\n",
       "International Reputation    0\n",
       "Skill Moves                 0\n",
       "Position                    0\n",
       "Joined                      0\n",
       "Contract Valid Until        0\n",
       "Height                      0\n",
       "Weight                      0\n",
       "Release Clause              0\n",
       "dtype: int64"
      ]
     },
     "execution_count": 7,
     "metadata": {},
     "output_type": "execute_result"
    }
   ],
   "source": [
    "df.isnull().sum()"
   ]
  },
  {
   "cell_type": "code",
   "execution_count": 8,
   "id": "bebb7e21",
   "metadata": {
    "execution": {
     "iopub.execute_input": "2023-07-24T11:06:17.736725Z",
     "iopub.status.busy": "2023-07-24T11:06:17.736034Z",
     "iopub.status.idle": "2023-07-24T11:06:17.794068Z",
     "shell.execute_reply": "2023-07-24T11:06:17.792520Z"
    },
    "papermill": {
     "duration": 0.068178,
     "end_time": "2023-07-24T11:06:17.796865",
     "exception": false,
     "start_time": "2023-07-24T11:06:17.728687",
     "status": "completed"
    },
    "tags": []
   },
   "outputs": [
    {
     "data": {
      "text/html": [
       "<div>\n",
       "<style scoped>\n",
       "    .dataframe tbody tr th:only-of-type {\n",
       "        vertical-align: middle;\n",
       "    }\n",
       "\n",
       "    .dataframe tbody tr th {\n",
       "        vertical-align: top;\n",
       "    }\n",
       "\n",
       "    .dataframe thead th {\n",
       "        text-align: right;\n",
       "    }\n",
       "</style>\n",
       "<table border=\"1\" class=\"dataframe\">\n",
       "  <thead>\n",
       "    <tr style=\"text-align: right;\">\n",
       "      <th></th>\n",
       "      <th>ID</th>\n",
       "      <th>Age</th>\n",
       "      <th>Overall</th>\n",
       "      <th>Potential</th>\n",
       "      <th>Value</th>\n",
       "      <th>Wage</th>\n",
       "      <th>International Reputation</th>\n",
       "      <th>Skill Moves</th>\n",
       "      <th>Joined</th>\n",
       "      <th>Height</th>\n",
       "      <th>Weight</th>\n",
       "      <th>Release Clause</th>\n",
       "    </tr>\n",
       "  </thead>\n",
       "  <tbody>\n",
       "    <tr>\n",
       "      <th>count</th>\n",
       "      <td>17907.000000</td>\n",
       "      <td>17907.000000</td>\n",
       "      <td>17907.000000</td>\n",
       "      <td>17907.000000</td>\n",
       "      <td>17907.000000</td>\n",
       "      <td>17907.000000</td>\n",
       "      <td>17907.000000</td>\n",
       "      <td>17907.000000</td>\n",
       "      <td>17907.000000</td>\n",
       "      <td>17907.000000</td>\n",
       "      <td>17907.000000</td>\n",
       "      <td>17907.000000</td>\n",
       "    </tr>\n",
       "    <tr>\n",
       "      <th>mean</th>\n",
       "      <td>214286.938795</td>\n",
       "      <td>25.095605</td>\n",
       "      <td>66.239571</td>\n",
       "      <td>71.335232</td>\n",
       "      <td>2450.132909</td>\n",
       "      <td>9.887753</td>\n",
       "      <td>1.113699</td>\n",
       "      <td>2.363042</td>\n",
       "      <td>2016.429553</td>\n",
       "      <td>5.946711</td>\n",
       "      <td>165.964316</td>\n",
       "      <td>4585.060974</td>\n",
       "    </tr>\n",
       "    <tr>\n",
       "      <th>std</th>\n",
       "      <td>29885.734201</td>\n",
       "      <td>4.660388</td>\n",
       "      <td>6.926818</td>\n",
       "      <td>6.137251</td>\n",
       "      <td>5633.206685</td>\n",
       "      <td>22.148656</td>\n",
       "      <td>0.395193</td>\n",
       "      <td>0.756256</td>\n",
       "      <td>2.027399</td>\n",
       "      <td>0.220812</td>\n",
       "      <td>15.602524</td>\n",
       "      <td>10719.096361</td>\n",
       "    </tr>\n",
       "    <tr>\n",
       "      <th>min</th>\n",
       "      <td>16.000000</td>\n",
       "      <td>16.000000</td>\n",
       "      <td>46.000000</td>\n",
       "      <td>48.000000</td>\n",
       "      <td>10.000000</td>\n",
       "      <td>1.000000</td>\n",
       "      <td>1.000000</td>\n",
       "      <td>1.000000</td>\n",
       "      <td>1991.000000</td>\n",
       "      <td>5.083333</td>\n",
       "      <td>110.000000</td>\n",
       "      <td>13.000000</td>\n",
       "    </tr>\n",
       "    <tr>\n",
       "      <th>25%</th>\n",
       "      <td>200257.500000</td>\n",
       "      <td>21.000000</td>\n",
       "      <td>62.000000</td>\n",
       "      <td>67.000000</td>\n",
       "      <td>325.000000</td>\n",
       "      <td>1.000000</td>\n",
       "      <td>1.000000</td>\n",
       "      <td>2.000000</td>\n",
       "      <td>2016.000000</td>\n",
       "      <td>5.750000</td>\n",
       "      <td>154.000000</td>\n",
       "      <td>563.000000</td>\n",
       "    </tr>\n",
       "    <tr>\n",
       "      <th>50%</th>\n",
       "      <td>221710.000000</td>\n",
       "      <td>25.000000</td>\n",
       "      <td>66.000000</td>\n",
       "      <td>71.000000</td>\n",
       "      <td>700.000000</td>\n",
       "      <td>3.000000</td>\n",
       "      <td>1.000000</td>\n",
       "      <td>2.000000</td>\n",
       "      <td>2017.000000</td>\n",
       "      <td>5.916667</td>\n",
       "      <td>165.000000</td>\n",
       "      <td>1300.000000</td>\n",
       "    </tr>\n",
       "    <tr>\n",
       "      <th>75%</th>\n",
       "      <td>236512.500000</td>\n",
       "      <td>28.000000</td>\n",
       "      <td>71.000000</td>\n",
       "      <td>75.000000</td>\n",
       "      <td>2100.000000</td>\n",
       "      <td>9.000000</td>\n",
       "      <td>1.000000</td>\n",
       "      <td>3.000000</td>\n",
       "      <td>2018.000000</td>\n",
       "      <td>6.083333</td>\n",
       "      <td>176.000000</td>\n",
       "      <td>4585.060806</td>\n",
       "    </tr>\n",
       "    <tr>\n",
       "      <th>max</th>\n",
       "      <td>246620.000000</td>\n",
       "      <td>45.000000</td>\n",
       "      <td>94.000000</td>\n",
       "      <td>95.000000</td>\n",
       "      <td>118500.000000</td>\n",
       "      <td>565.000000</td>\n",
       "      <td>5.000000</td>\n",
       "      <td>5.000000</td>\n",
       "      <td>2018.000000</td>\n",
       "      <td>6.750000</td>\n",
       "      <td>243.000000</td>\n",
       "      <td>228100.000000</td>\n",
       "    </tr>\n",
       "  </tbody>\n",
       "</table>\n",
       "</div>"
      ],
      "text/plain": [
       "                  ID           Age       Overall     Potential          Value  \\\n",
       "count   17907.000000  17907.000000  17907.000000  17907.000000   17907.000000   \n",
       "mean   214286.938795     25.095605     66.239571     71.335232    2450.132909   \n",
       "std     29885.734201      4.660388      6.926818      6.137251    5633.206685   \n",
       "min        16.000000     16.000000     46.000000     48.000000      10.000000   \n",
       "25%    200257.500000     21.000000     62.000000     67.000000     325.000000   \n",
       "50%    221710.000000     25.000000     66.000000     71.000000     700.000000   \n",
       "75%    236512.500000     28.000000     71.000000     75.000000    2100.000000   \n",
       "max    246620.000000     45.000000     94.000000     95.000000  118500.000000   \n",
       "\n",
       "               Wage  International Reputation   Skill Moves        Joined  \\\n",
       "count  17907.000000              17907.000000  17907.000000  17907.000000   \n",
       "mean       9.887753                  1.113699      2.363042   2016.429553   \n",
       "std       22.148656                  0.395193      0.756256      2.027399   \n",
       "min        1.000000                  1.000000      1.000000   1991.000000   \n",
       "25%        1.000000                  1.000000      2.000000   2016.000000   \n",
       "50%        3.000000                  1.000000      2.000000   2017.000000   \n",
       "75%        9.000000                  1.000000      3.000000   2018.000000   \n",
       "max      565.000000                  5.000000      5.000000   2018.000000   \n",
       "\n",
       "             Height        Weight  Release Clause  \n",
       "count  17907.000000  17907.000000    17907.000000  \n",
       "mean       5.946711    165.964316     4585.060974  \n",
       "std        0.220812     15.602524    10719.096361  \n",
       "min        5.083333    110.000000       13.000000  \n",
       "25%        5.750000    154.000000      563.000000  \n",
       "50%        5.916667    165.000000     1300.000000  \n",
       "75%        6.083333    176.000000     4585.060806  \n",
       "max        6.750000    243.000000   228100.000000  "
      ]
     },
     "execution_count": 8,
     "metadata": {},
     "output_type": "execute_result"
    }
   ],
   "source": [
    "df.describe()"
   ]
  },
  {
   "cell_type": "code",
   "execution_count": 9,
   "id": "c6f903e5",
   "metadata": {
    "execution": {
     "iopub.execute_input": "2023-07-24T11:06:17.813344Z",
     "iopub.status.busy": "2023-07-24T11:06:17.812887Z",
     "iopub.status.idle": "2023-07-24T11:06:17.838453Z",
     "shell.execute_reply": "2023-07-24T11:06:17.837129Z"
    },
    "papermill": {
     "duration": 0.037852,
     "end_time": "2023-07-24T11:06:17.841101",
     "exception": false,
     "start_time": "2023-07-24T11:06:17.803249",
     "status": "completed"
    },
    "tags": []
   },
   "outputs": [
    {
     "name": "stdout",
     "output_type": "stream",
     "text": [
      "ID :- 17907\n",
      "Name :- 16913\n",
      "Age :- 28\n",
      "Nationality :- 163\n",
      "Overall :- 48\n",
      "Potential :- 47\n",
      "Club :- 651\n",
      "Value :- 216\n",
      "Wage :- 143\n",
      "Preferred Foot :- 2\n",
      "International Reputation :- 5\n",
      "Skill Moves :- 5\n",
      "Position :- 27\n",
      "Joined :- 22\n",
      "Contract Valid Until :- 35\n",
      "Height :- 21\n",
      "Weight :- 57\n",
      "Release Clause :- 1245\n"
     ]
    }
   ],
   "source": [
    "for i in df.columns:\n",
    "    a = df[i].nunique()\n",
    "    print(f\"{i} :- {a}\")"
   ]
  },
  {
   "cell_type": "code",
   "execution_count": 10,
   "id": "eb417849",
   "metadata": {
    "execution": {
     "iopub.execute_input": "2023-07-24T11:06:17.856933Z",
     "iopub.status.busy": "2023-07-24T11:06:17.855564Z",
     "iopub.status.idle": "2023-07-24T11:06:17.876303Z",
     "shell.execute_reply": "2023-07-24T11:06:17.874893Z"
    },
    "papermill": {
     "duration": 0.031749,
     "end_time": "2023-07-24T11:06:17.879020",
     "exception": false,
     "start_time": "2023-07-24T11:06:17.847271",
     "status": "completed"
    },
    "tags": []
   },
   "outputs": [
    {
     "data": {
      "text/html": [
       "<div>\n",
       "<style scoped>\n",
       "    .dataframe tbody tr th:only-of-type {\n",
       "        vertical-align: middle;\n",
       "    }\n",
       "\n",
       "    .dataframe tbody tr th {\n",
       "        vertical-align: top;\n",
       "    }\n",
       "\n",
       "    .dataframe thead th {\n",
       "        text-align: right;\n",
       "    }\n",
       "</style>\n",
       "<table border=\"1\" class=\"dataframe\">\n",
       "  <thead>\n",
       "    <tr style=\"text-align: right;\">\n",
       "      <th></th>\n",
       "      <th>ID</th>\n",
       "      <th>Name</th>\n",
       "      <th>Age</th>\n",
       "      <th>Nationality</th>\n",
       "      <th>Overall</th>\n",
       "      <th>Potential</th>\n",
       "      <th>Club</th>\n",
       "      <th>Value</th>\n",
       "      <th>Wage</th>\n",
       "      <th>Preferred Foot</th>\n",
       "      <th>International Reputation</th>\n",
       "      <th>Skill Moves</th>\n",
       "      <th>Position</th>\n",
       "      <th>Joined</th>\n",
       "      <th>Contract Valid Until</th>\n",
       "      <th>Height</th>\n",
       "      <th>Weight</th>\n",
       "      <th>Release Clause</th>\n",
       "    </tr>\n",
       "  </thead>\n",
       "  <tbody>\n",
       "    <tr>\n",
       "      <th>0</th>\n",
       "      <td>158023</td>\n",
       "      <td>L. Messi</td>\n",
       "      <td>31</td>\n",
       "      <td>Argentina</td>\n",
       "      <td>94</td>\n",
       "      <td>94</td>\n",
       "      <td>FC Barcelona</td>\n",
       "      <td>110500.0</td>\n",
       "      <td>565.0</td>\n",
       "      <td>Left</td>\n",
       "      <td>5.0</td>\n",
       "      <td>4.0</td>\n",
       "      <td>RF</td>\n",
       "      <td>2004</td>\n",
       "      <td>2021-01-01</td>\n",
       "      <td>5.583333</td>\n",
       "      <td>159.0</td>\n",
       "      <td>226500.0</td>\n",
       "    </tr>\n",
       "    <tr>\n",
       "      <th>1</th>\n",
       "      <td>20801</td>\n",
       "      <td>Cristiano Ronaldo</td>\n",
       "      <td>33</td>\n",
       "      <td>Portugal</td>\n",
       "      <td>94</td>\n",
       "      <td>94</td>\n",
       "      <td>Juventus</td>\n",
       "      <td>77000.0</td>\n",
       "      <td>405.0</td>\n",
       "      <td>Right</td>\n",
       "      <td>5.0</td>\n",
       "      <td>5.0</td>\n",
       "      <td>ST</td>\n",
       "      <td>2018</td>\n",
       "      <td>2022-01-01</td>\n",
       "      <td>6.166667</td>\n",
       "      <td>183.0</td>\n",
       "      <td>127100.0</td>\n",
       "    </tr>\n",
       "  </tbody>\n",
       "</table>\n",
       "</div>"
      ],
      "text/plain": [
       "       ID               Name  Age Nationality  Overall  Potential  \\\n",
       "0  158023           L. Messi   31   Argentina       94         94   \n",
       "1   20801  Cristiano Ronaldo   33    Portugal       94         94   \n",
       "\n",
       "           Club     Value   Wage Preferred Foot  International Reputation  \\\n",
       "0  FC Barcelona  110500.0  565.0           Left                       5.0   \n",
       "1      Juventus   77000.0  405.0          Right                       5.0   \n",
       "\n",
       "   Skill Moves Position  Joined Contract Valid Until    Height  Weight  \\\n",
       "0          4.0       RF    2004           2021-01-01  5.583333   159.0   \n",
       "1          5.0       ST    2018           2022-01-01  6.166667   183.0   \n",
       "\n",
       "   Release Clause  \n",
       "0        226500.0  \n",
       "1        127100.0  "
      ]
     },
     "execution_count": 10,
     "metadata": {},
     "output_type": "execute_result"
    }
   ],
   "source": [
    "df.head(2)"
   ]
  },
  {
   "cell_type": "code",
   "execution_count": 11,
   "id": "d555bef4",
   "metadata": {
    "execution": {
     "iopub.execute_input": "2023-07-24T11:06:17.894566Z",
     "iopub.status.busy": "2023-07-24T11:06:17.893591Z",
     "iopub.status.idle": "2023-07-24T11:06:17.903037Z",
     "shell.execute_reply": "2023-07-24T11:06:17.902019Z"
    },
    "papermill": {
     "duration": 0.019987,
     "end_time": "2023-07-24T11:06:17.905682",
     "exception": false,
     "start_time": "2023-07-24T11:06:17.885695",
     "status": "completed"
    },
    "tags": []
   },
   "outputs": [
    {
     "data": {
      "text/plain": [
       "Right    13748\n",
       "Left      4159\n",
       "Name: Preferred Foot, dtype: int64"
      ]
     },
     "execution_count": 11,
     "metadata": {},
     "output_type": "execute_result"
    }
   ],
   "source": [
    "#max player in Preferred Foot FIFA19\n",
    "df['Preferred Foot'].value_counts()"
   ]
  },
  {
   "cell_type": "code",
   "execution_count": 12,
   "id": "9febd20c",
   "metadata": {
    "execution": {
     "iopub.execute_input": "2023-07-24T11:06:17.920954Z",
     "iopub.status.busy": "2023-07-24T11:06:17.920490Z",
     "iopub.status.idle": "2023-07-24T11:06:18.291750Z",
     "shell.execute_reply": "2023-07-24T11:06:18.290331Z"
    },
    "papermill": {
     "duration": 0.381653,
     "end_time": "2023-07-24T11:06:18.294251",
     "exception": false,
     "start_time": "2023-07-24T11:06:17.912598",
     "status": "completed"
    },
    "tags": []
   },
   "outputs": [
    {
     "data": {
      "text/plain": [
       "<Axes: xlabel='Name'>"
      ]
     },
     "execution_count": 12,
     "metadata": {},
     "output_type": "execute_result"
    },
    {
     "data": {
      "image/png": "[encoded data removed]",
      "text/plain": [
       "<Figure size 640x480 with 1 Axes>"
      ]
     },
     "metadata": {},
     "output_type": "display_data"
    }
   ],
   "source": [
    "# top 10 most international reputation player\n",
    "reputation_player = df.groupby('Name')['International Reputation'].sum().sort_values(ascending = False).head(10)\n",
    "reputation_player.plot(kind = 'bar')"
   ]
  },
  {
   "cell_type": "code",
   "execution_count": 13,
   "id": "69e15592",
   "metadata": {
    "execution": {
     "iopub.execute_input": "2023-07-24T11:06:18.310780Z",
     "iopub.status.busy": "2023-07-24T11:06:18.309744Z",
     "iopub.status.idle": "2023-07-24T11:06:18.319143Z",
     "shell.execute_reply": "2023-07-24T11:06:18.318043Z"
    },
    "papermill": {
     "duration": 0.019905,
     "end_time": "2023-07-24T11:06:18.321209",
     "exception": false,
     "start_time": "2023-07-24T11:06:18.301304",
     "status": "completed"
    },
    "tags": []
   },
   "outputs": [
    {
     "data": {
      "text/plain": [
       "2018    6566\n",
       "2017    4305\n",
       "2016    3509\n",
       "2015    1336\n",
       "2014     818\n",
       "2013     458\n",
       "2012     339\n",
       "2011     199\n",
       "2010     131\n",
       "2009      78\n",
       "2008      53\n",
       "2007      38\n",
       "2006      18\n",
       "2005      17\n",
       "2003      13\n",
       "2004      12\n",
       "2002       8\n",
       "1998       3\n",
       "2001       2\n",
       "2000       2\n",
       "1991       1\n",
       "1999       1\n",
       "Name: Joined, dtype: int64"
      ]
     },
     "execution_count": 13,
     "metadata": {},
     "output_type": "execute_result"
    }
   ],
   "source": [
    "# max player join in 2018\n",
    "df['Joined'].value_counts()"
   ]
  },
  {
   "cell_type": "code",
   "execution_count": 14,
   "id": "4c799b09",
   "metadata": {
    "execution": {
     "iopub.execute_input": "2023-07-24T11:06:18.337213Z",
     "iopub.status.busy": "2023-07-24T11:06:18.336266Z",
     "iopub.status.idle": "2023-07-24T11:06:18.347963Z",
     "shell.execute_reply": "2023-07-24T11:06:18.346604Z"
    },
    "papermill": {
     "duration": 0.02229,
     "end_time": "2023-07-24T11:06:18.350394",
     "exception": false,
     "start_time": "2023-07-24T11:06:18.328104",
     "status": "completed"
    },
    "tags": []
   },
   "outputs": [
    {
     "data": {
      "text/plain": [
       "2019-01-01    4865\n",
       "2021-01-01    4358\n",
       "2020-01-01    4027\n",
       "2022-01-01    1475\n",
       "2023-01-01    1051\n",
       "2019-06-30     931\n",
       "2018-01-01     886\n",
       "2018-12-31     144\n",
       "2019-05-31      60\n",
       "2024-01-01      23\n",
       "2020-06-30      14\n",
       "2019-01-31      13\n",
       "2025-01-01       7\n",
       "2019-01-05       6\n",
       "2019-01-02       6\n",
       "2019-10-14       5\n",
       "2019-01-12       5\n",
       "2019-01-06       4\n",
       "2019-12-31       3\n",
       "2019-01-07       3\n",
       "2019-01-25       3\n",
       "2026-01-01       2\n",
       "2019-12-01       2\n",
       "2020-05-31       2\n",
       "2018-11-30       2\n",
       "2019-01-15       1\n",
       "2020-02-27       1\n",
       "2019-01-30       1\n",
       "2019-01-11       1\n",
       "2019-05-04       1\n",
       "2019-01-18       1\n",
       "2019-01-03       1\n",
       "2019-01-04       1\n",
       "2019-06-01       1\n",
       "2019-01-20       1\n",
       "Name: Contract Valid Until, dtype: int64"
      ]
     },
     "execution_count": 14,
     "metadata": {},
     "output_type": "execute_result"
    }
   ],
   "source": [
    "# The year until which the player's contract with the club is valid \n",
    "df['Contract Valid Until'].value_counts()"
   ]
  },
  {
   "cell_type": "code",
   "execution_count": 15,
   "id": "33f5f01c",
   "metadata": {
    "execution": {
     "iopub.execute_input": "2023-07-24T11:06:18.366514Z",
     "iopub.status.busy": "2023-07-24T11:06:18.366144Z",
     "iopub.status.idle": "2023-07-24T11:06:18.732154Z",
     "shell.execute_reply": "2023-07-24T11:06:18.730841Z"
    },
    "papermill": {
     "duration": 0.377379,
     "end_time": "2023-07-24T11:06:18.734870",
     "exception": false,
     "start_time": "2023-07-24T11:06:18.357491",
     "status": "completed"
    },
    "tags": []
   },
   "outputs": [
    {
     "data": {
      "image/png": "[encoded data removed]",
      "text/plain": [
       "<Figure size 1000x400 with 1 Axes>"
      ]
     },
     "metadata": {},
     "output_type": "display_data"
    }
   ],
   "source": [
    "#hight value player\n",
    "height_value_player = df.groupby('Name')['Value'].sum().sort_values(ascending = False).head(10)\n",
    "plt.figure(figsize=(10,4))\n",
    "sns.barplot(x = height_value_player.index,y = height_value_player.values)\n",
    "plt.xlabel(\"Player Name\")\n",
    "plt.ylabel(\"Value of player\")\n",
    "plt.tight_layout()"
   ]
  },
  {
   "cell_type": "code",
   "execution_count": 16,
   "id": "e6ccad25",
   "metadata": {
    "execution": {
     "iopub.execute_input": "2023-07-24T11:06:18.752454Z",
     "iopub.status.busy": "2023-07-24T11:06:18.752071Z",
     "iopub.status.idle": "2023-07-24T11:06:19.107815Z",
     "shell.execute_reply": "2023-07-24T11:06:19.106540Z"
    },
    "papermill": {
     "duration": 0.367525,
     "end_time": "2023-07-24T11:06:19.110472",
     "exception": false,
     "start_time": "2023-07-24T11:06:18.742947",
     "status": "completed"
    },
    "tags": []
   },
   "outputs": [
    {
     "data": {
      "text/plain": [
       "Text(0.5, 1.0, 'Name vs height')"
      ]
     },
     "execution_count": 16,
     "metadata": {},
     "output_type": "execute_result"
    },
    {
     "data": {
      "image/png": "[encoded data removed]",
      "text/plain": [
       "<Figure size 1000x500 with 1 Axes>"
      ]
     },
     "metadata": {},
     "output_type": "display_data"
    }
   ],
   "source": [
    "# top hight player\n",
    "top_height = df.sort_values(\"Height\",ascending = False).head(5)\n",
    "plt.figure(figsize=(10,5))\n",
    "sns.barplot(x = 'Name',y = 'Height',data = top_height)\n",
    "plt.tight_layout()\n",
    "plt.title(\"Name vs height\")"
   ]
  },
  {
   "cell_type": "code",
   "execution_count": 17,
   "id": "1754b28c",
   "metadata": {
    "execution": {
     "iopub.execute_input": "2023-07-24T11:06:19.129272Z",
     "iopub.status.busy": "2023-07-24T11:06:19.128821Z",
     "iopub.status.idle": "2023-07-24T11:06:19.429036Z",
     "shell.execute_reply": "2023-07-24T11:06:19.427950Z"
    },
    "papermill": {
     "duration": 0.313174,
     "end_time": "2023-07-24T11:06:19.432031",
     "exception": false,
     "start_time": "2023-07-24T11:06:19.118857",
     "status": "completed"
    },
    "tags": []
   },
   "outputs": [
    {
     "data": {
      "image/png": "[encoded data removed]",
      "text/plain": [
       "<Figure size 640x480 with 1 Axes>"
      ]
     },
     "metadata": {},
     "output_type": "display_data"
    }
   ],
   "source": [
    "# high Overall:rating player\n",
    "high_rating_player = df.sort_values('Overall',ascending = False).head(5)\n",
    "sns.barplot(x = 'Name' ,y = 'Overall',data = high_rating_player)\n",
    "plt.title(\"Top Ten rating Player\")\n",
    "plt.tight_layout()"
   ]
  },
  {
   "cell_type": "code",
   "execution_count": 18,
   "id": "d3ecef47",
   "metadata": {
    "execution": {
     "iopub.execute_input": "2023-07-24T11:06:19.451829Z",
     "iopub.status.busy": "2023-07-24T11:06:19.451404Z",
     "iopub.status.idle": "2023-07-24T11:06:19.768554Z",
     "shell.execute_reply": "2023-07-24T11:06:19.767145Z"
    },
    "papermill": {
     "duration": 0.331,
     "end_time": "2023-07-24T11:06:19.772217",
     "exception": false,
     "start_time": "2023-07-24T11:06:19.441217",
     "status": "completed"
    },
    "tags": []
   },
   "outputs": [
    {
     "data": {
      "image/png": "[encoded data removed]",
      "text/plain": [
       "<Figure size 640x480 with 1 Axes>"
      ]
     },
     "metadata": {},
     "output_type": "display_data"
    }
   ],
   "source": [
    "# high skill plaayer\n",
    "high_Skill_Moves = df.sort_values('Skill Moves',ascending = False).head(5)\n",
    "sns.barplot(x = 'Name' ,y = 'Skill Moves',data = high_Skill_Moves)\n",
    "plt.title(\"Top Ten Skill Moves Player\")\n",
    "plt.tight_layout()"
   ]
  },
  {
   "cell_type": "code",
   "execution_count": 19,
   "id": "6dc0eb38",
   "metadata": {
    "execution": {
     "iopub.execute_input": "2023-07-24T11:06:19.792573Z",
     "iopub.status.busy": "2023-07-24T11:06:19.792169Z",
     "iopub.status.idle": "2023-07-24T11:06:20.173292Z",
     "shell.execute_reply": "2023-07-24T11:06:20.172031Z"
    },
    "papermill": {
     "duration": 0.395252,
     "end_time": "2023-07-24T11:06:20.176587",
     "exception": false,
     "start_time": "2023-07-24T11:06:19.781335",
     "status": "completed"
    },
    "tags": []
   },
   "outputs": [
    {
     "data": {
      "image/png": "[encoded data removed]",
      "text/plain": [
       "<Figure size 1000x400 with 1 Axes>"
      ]
     },
     "metadata": {},
     "output_type": "display_data"
    }
   ],
   "source": [
    "# top 10 the amount a club must pay to buy out the player's contract.\n",
    "high_buy_out_the_player = df.sort_values('Release Clause',ascending = False).head(10)\n",
    "plt.figure(figsize=(10,4))\n",
    "sns.barplot(x = 'Name' ,y = 'Release Clause',data = high_buy_out_the_player)\n",
    "plt.title(\"Top Ten club must pay to buy out the player's contract.\")\n",
    "plt.tight_layout()"
   ]
  }
 ],
 "metadata": {
  "kernelspec": {
   "display_name": "Python 3",
   "language": "python",
   "name": "python3"
  },
  "language_info": {
   "codemirror_mode": {
    "name": "ipython",
    "version": 3
   },
   "file_extension": ".py",
   "mimetype": "text/x-python",
   "name": "python",
   "nbconvert_exporter": "python",
   "pygments_lexer": "ipython3",
   "version": "3.10.12"
  },
  "papermill": {
   "default_parameters": {},
   "duration": 16.507639,
   "end_time": "2023-07-24T11:06:21.513189",
   "environment_variables": {},
   "exception": null,
   "input_path": "__notebook__.ipynb",
   "output_path": "__notebook__.ipynb",
   "parameters": {},
   "start_time": "2023-07-24T11:06:05.005550",
   "version": "2.4.0"
  }
 },
 "nbformat": 4,
 "nbformat_minor": 5
}
