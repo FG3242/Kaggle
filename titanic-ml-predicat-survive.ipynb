{
 "cells": [
  {
   "cell_type": "markdown",
   "id": "e330d405",
   "metadata": {
    "papermill": {
     "duration": 0.016569,
     "end_time": "2023-05-25T06:23:37.519536",
     "exception": false,
     "start_time": "2023-05-25T06:23:37.502967",
     "status": "completed"
    },
    "tags": []
   },
   "source": [
    "# Importing library"
   ]
  },
  {
   "cell_type": "code",
   "execution_count": 1,
   "id": "177176d8",
   "metadata": {
    "_cell_guid": "b1076dfc-b9ad-4769-8c92-a6c4dae69d19",
    "_uuid": "8f2839f25d086af736a60e9eeb907d3b93b6e0e5",
    "execution": {
     "iopub.execute_input": "2023-05-25T06:23:37.554121Z",
     "iopub.status.busy": "2023-05-25T06:23:37.553788Z",
     "iopub.status.idle": "2023-05-25T06:23:38.801713Z",
     "shell.execute_reply": "2023-05-25T06:23:38.800393Z"
    },
    "papermill": {
     "duration": 1.268369,
     "end_time": "2023-05-25T06:23:38.804289",
     "exception": false,
     "start_time": "2023-05-25T06:23:37.535920",
     "status": "completed"
    },
    "tags": []
   },
   "outputs": [
    {
     "name": "stderr",
     "output_type": "stream",
     "text": [
      "/opt/conda/lib/python3.10/site-packages/scipy/__init__.py:146: UserWarning: A NumPy version >=1.16.5 and <1.23.0 is required for this version of SciPy (detected version 1.23.5\n",
      "  warnings.warn(f\"A NumPy version >={np_minversion} and <{np_maxversion}\"\n"
     ]
    }
   ],
   "source": [
    "import numpy as np\n",
    "import pandas as pd\n",
    "import matplotlib.pyplot as plt\n",
    "import seaborn as sns\n",
    "sns.set_style('whitegrid')\n",
    "%matplotlib inline"
   ]
  },
  {
   "cell_type": "markdown",
   "id": "a871fec0",
   "metadata": {
    "papermill": {
     "duration": 0.015828,
     "end_time": "2023-05-25T06:23:38.836718",
     "exception": false,
     "start_time": "2023-05-25T06:23:38.820890",
     "status": "completed"
    },
    "tags": []
   },
   "source": [
    "# Read dataset"
   ]
  },
  {
   "cell_type": "code",
   "execution_count": 2,
   "id": "6c135367",
   "metadata": {
    "execution": {
     "iopub.execute_input": "2023-05-25T06:23:38.870985Z",
     "iopub.status.busy": "2023-05-25T06:23:38.870372Z",
     "iopub.status.idle": "2023-05-25T06:23:38.895597Z",
     "shell.execute_reply": "2023-05-25T06:23:38.894834Z"
    },
    "papermill": {
     "duration": 0.044703,
     "end_time": "2023-05-25T06:23:38.897664",
     "exception": false,
     "start_time": "2023-05-25T06:23:38.852961",
     "status": "completed"
    },
    "tags": []
   },
   "outputs": [],
   "source": [
    "train_df = pd.read_csv(\"/kaggle/input/titanic/train.csv\")"
   ]
  },
  {
   "cell_type": "markdown",
   "id": "ecedb91a",
   "metadata": {
    "papermill": {
     "duration": 0.015917,
     "end_time": "2023-05-25T06:23:38.930082",
     "exception": false,
     "start_time": "2023-05-25T06:23:38.914165",
     "status": "completed"
    },
    "tags": []
   },
   "source": [
    "# Showing Head"
   ]
  },
  {
   "cell_type": "code",
   "execution_count": 3,
   "id": "2b1b571b",
   "metadata": {
    "execution": {
     "iopub.execute_input": "2023-05-25T06:23:38.964593Z",
     "iopub.status.busy": "2023-05-25T06:23:38.963417Z",
     "iopub.status.idle": "2023-05-25T06:23:38.996930Z",
     "shell.execute_reply": "2023-05-25T06:23:38.995716Z"
    },
    "papermill": {
     "duration": 0.052784,
     "end_time": "2023-05-25T06:23:38.998946",
     "exception": false,
     "start_time": "2023-05-25T06:23:38.946162",
     "status": "completed"
    },
    "tags": []
   },
   "outputs": [
    {
     "data": {
      "text/html": [
       "<div>\n",
       "<style scoped>\n",
       "    .dataframe tbody tr th:only-of-type {\n",
       "        vertical-align: middle;\n",
       "    }\n",
       "\n",
       "    .dataframe tbody tr th {\n",
       "        vertical-align: top;\n",
       "    }\n",
       "\n",
       "    .dataframe thead th {\n",
       "        text-align: right;\n",
       "    }\n",
       "</style>\n",
       "<table border=\"1\" class=\"dataframe\">\n",
       "  <thead>\n",
       "    <tr style=\"text-align: right;\">\n",
       "      <th></th>\n",
       "      <th>PassengerId</th>\n",
       "      <th>Survived</th>\n",
       "      <th>Pclass</th>\n",
       "      <th>Name</th>\n",
       "      <th>Sex</th>\n",
       "      <th>Age</th>\n",
       "      <th>SibSp</th>\n",
       "      <th>Parch</th>\n",
       "      <th>Ticket</th>\n",
       "      <th>Fare</th>\n",
       "      <th>Cabin</th>\n",
       "      <th>Embarked</th>\n",
       "    </tr>\n",
       "  </thead>\n",
       "  <tbody>\n",
       "    <tr>\n",
       "      <th>0</th>\n",
       "      <td>1</td>\n",
       "      <td>0</td>\n",
       "      <td>3</td>\n",
       "      <td>Braund, Mr. Owen Harris</td>\n",
       "      <td>male</td>\n",
       "      <td>22.0</td>\n",
       "      <td>1</td>\n",
       "      <td>0</td>\n",
       "      <td>A/5 21171</td>\n",
       "      <td>7.2500</td>\n",
       "      <td>NaN</td>\n",
       "      <td>S</td>\n",
       "    </tr>\n",
       "    <tr>\n",
       "      <th>1</th>\n",
       "      <td>2</td>\n",
       "      <td>1</td>\n",
       "      <td>1</td>\n",
       "      <td>Cumings, Mrs. John Bradley (Florence Briggs Th...</td>\n",
       "      <td>female</td>\n",
       "      <td>38.0</td>\n",
       "      <td>1</td>\n",
       "      <td>0</td>\n",
       "      <td>PC 17599</td>\n",
       "      <td>71.2833</td>\n",
       "      <td>C85</td>\n",
       "      <td>C</td>\n",
       "    </tr>\n",
       "    <tr>\n",
       "      <th>2</th>\n",
       "      <td>3</td>\n",
       "      <td>1</td>\n",
       "      <td>3</td>\n",
       "      <td>Heikkinen, Miss. Laina</td>\n",
       "      <td>female</td>\n",
       "      <td>26.0</td>\n",
       "      <td>0</td>\n",
       "      <td>0</td>\n",
       "      <td>STON/O2. 3101282</td>\n",
       "      <td>7.9250</td>\n",
       "      <td>NaN</td>\n",
       "      <td>S</td>\n",
       "    </tr>\n",
       "    <tr>\n",
       "      <th>3</th>\n",
       "      <td>4</td>\n",
       "      <td>1</td>\n",
       "      <td>1</td>\n",
       "      <td>Futrelle, Mrs. Jacques Heath (Lily May Peel)</td>\n",
       "      <td>female</td>\n",
       "      <td>35.0</td>\n",
       "      <td>1</td>\n",
       "      <td>0</td>\n",
       "      <td>113803</td>\n",
       "      <td>53.1000</td>\n",
       "      <td>C123</td>\n",
       "      <td>S</td>\n",
       "    </tr>\n",
       "    <tr>\n",
       "      <th>4</th>\n",
       "      <td>5</td>\n",
       "      <td>0</td>\n",
       "      <td>3</td>\n",
       "      <td>Allen, Mr. William Henry</td>\n",
       "      <td>male</td>\n",
       "      <td>35.0</td>\n",
       "      <td>0</td>\n",
       "      <td>0</td>\n",
       "      <td>373450</td>\n",
       "      <td>8.0500</td>\n",
       "      <td>NaN</td>\n",
       "      <td>S</td>\n",
       "    </tr>\n",
       "  </tbody>\n",
       "</table>\n",
       "</div>"
      ],
      "text/plain": [
       "   PassengerId  Survived  Pclass  \\\n",
       "0            1         0       3   \n",
       "1            2         1       1   \n",
       "2            3         1       3   \n",
       "3            4         1       1   \n",
       "4            5         0       3   \n",
       "\n",
       "                                                Name     Sex   Age  SibSp  \\\n",
       "0                            Braund, Mr. Owen Harris    male  22.0      1   \n",
       "1  Cumings, Mrs. John Bradley (Florence Briggs Th...  female  38.0      1   \n",
       "2                             Heikkinen, Miss. Laina  female  26.0      0   \n",
       "3       Futrelle, Mrs. Jacques Heath (Lily May Peel)  female  35.0      1   \n",
       "4                           Allen, Mr. William Henry    male  35.0      0   \n",
       "\n",
       "   Parch            Ticket     Fare Cabin Embarked  \n",
       "0      0         A/5 21171   7.2500   NaN        S  \n",
       "1      0          PC 17599  71.2833   C85        C  \n",
       "2      0  STON/O2. 3101282   7.9250   NaN        S  \n",
       "3      0            113803  53.1000  C123        S  \n",
       "4      0            373450   8.0500   NaN        S  "
      ]
     },
     "execution_count": 3,
     "metadata": {},
     "output_type": "execute_result"
    }
   ],
   "source": [
    "train_df.head()"
   ]
  },
  {
   "cell_type": "markdown",
   "id": "89ce6315",
   "metadata": {
    "papermill": {
     "duration": 0.017461,
     "end_time": "2023-05-25T06:23:39.032978",
     "exception": false,
     "start_time": "2023-05-25T06:23:39.015517",
     "status": "completed"
    },
    "tags": []
   },
   "source": [
    "# Showing Shape of dataframe"
   ]
  },
  {
   "cell_type": "code",
   "execution_count": 4,
   "id": "1bbf1904",
   "metadata": {
    "execution": {
     "iopub.execute_input": "2023-05-25T06:23:39.069044Z",
     "iopub.status.busy": "2023-05-25T06:23:39.068526Z",
     "iopub.status.idle": "2023-05-25T06:23:39.072868Z",
     "shell.execute_reply": "2023-05-25T06:23:39.072325Z"
    },
    "papermill": {
     "duration": 0.023837,
     "end_time": "2023-05-25T06:23:39.074801",
     "exception": false,
     "start_time": "2023-05-25T06:23:39.050964",
     "status": "completed"
    },
    "tags": []
   },
   "outputs": [
    {
     "data": {
      "text/plain": [
       "(891, 12)"
      ]
     },
     "execution_count": 4,
     "metadata": {},
     "output_type": "execute_result"
    }
   ],
   "source": [
    "train_df.shape"
   ]
  },
  {
   "cell_type": "markdown",
   "id": "97edeeef",
   "metadata": {
    "papermill": {
     "duration": 0.016376,
     "end_time": "2023-05-25T06:23:39.107802",
     "exception": false,
     "start_time": "2023-05-25T06:23:39.091426",
     "status": "completed"
    },
    "tags": []
   },
   "source": [
    "# Showing null values by columns"
   ]
  },
  {
   "cell_type": "code",
   "execution_count": 5,
   "id": "70eb3e73",
   "metadata": {
    "execution": {
     "iopub.execute_input": "2023-05-25T06:23:39.142593Z",
     "iopub.status.busy": "2023-05-25T06:23:39.142061Z",
     "iopub.status.idle": "2023-05-25T06:23:39.152664Z",
     "shell.execute_reply": "2023-05-25T06:23:39.151806Z"
    },
    "papermill": {
     "duration": 0.030482,
     "end_time": "2023-05-25T06:23:39.154651",
     "exception": false,
     "start_time": "2023-05-25T06:23:39.124169",
     "status": "completed"
    },
    "tags": []
   },
   "outputs": [
    {
     "data": {
      "text/plain": [
       "PassengerId      0\n",
       "Survived         0\n",
       "Pclass           0\n",
       "Name             0\n",
       "Sex              0\n",
       "Age            177\n",
       "SibSp            0\n",
       "Parch            0\n",
       "Ticket           0\n",
       "Fare             0\n",
       "Cabin          687\n",
       "Embarked         2\n",
       "dtype: int64"
      ]
     },
     "execution_count": 5,
     "metadata": {},
     "output_type": "execute_result"
    }
   ],
   "source": [
    "train_df.isnull().sum()"
   ]
  },
  {
   "cell_type": "markdown",
   "id": "511c976f",
   "metadata": {
    "papermill": {
     "duration": 0.016203,
     "end_time": "2023-05-25T06:23:39.187355",
     "exception": false,
     "start_time": "2023-05-25T06:23:39.171152",
     "status": "completed"
    },
    "tags": []
   },
   "source": [
    "# Visualize null values by heatmap"
   ]
  },
  {
   "cell_type": "code",
   "execution_count": 6,
   "id": "1f7a2dad",
   "metadata": {
    "execution": {
     "iopub.execute_input": "2023-05-25T06:23:39.221355Z",
     "iopub.status.busy": "2023-05-25T06:23:39.221024Z",
     "iopub.status.idle": "2023-05-25T06:23:39.573336Z",
     "shell.execute_reply": "2023-05-25T06:23:39.572106Z"
    },
    "papermill": {
     "duration": 0.372003,
     "end_time": "2023-05-25T06:23:39.575459",
     "exception": false,
     "start_time": "2023-05-25T06:23:39.203456",
     "status": "completed"
    },
    "tags": []
   },
   "outputs": [
    {
     "data": {
      "text/plain": [
       "<AxesSubplot: >"
      ]
     },
     "execution_count": 6,
     "metadata": {},
     "output_type": "execute_result"
    },
    {
     "data": {
      "image/png": "[encoded data removed]",
      "text/plain": [
       "<Figure size 640x480 with 2 Axes>"
      ]
     },
     "metadata": {},
     "output_type": "display_data"
    }
   ],
   "source": [
    "sns.heatmap(train_df.isnull(),yticklabels=False,cmap = 'viridis')"
   ]
  },
  {
   "cell_type": "markdown",
   "id": "7c532391",
   "metadata": {
    "papermill": {
     "duration": 0.016986,
     "end_time": "2023-05-25T06:23:39.609955",
     "exception": false,
     "start_time": "2023-05-25T06:23:39.592969",
     "status": "completed"
    },
    "tags": []
   },
   "source": [
    "There are some null values in Age, Cabin and Embarked"
   ]
  },
  {
   "cell_type": "markdown",
   "id": "cace2fc7",
   "metadata": {
    "papermill": {
     "duration": 0.015944,
     "end_time": "2023-05-25T06:23:39.642789",
     "exception": false,
     "start_time": "2023-05-25T06:23:39.626845",
     "status": "completed"
    },
    "tags": []
   },
   "source": [
    "# First fill all Age null values by useing avg of Pclass. Showing in boxplot"
   ]
  },
  {
   "cell_type": "code",
   "execution_count": 7,
   "id": "adcedb0a",
   "metadata": {
    "execution": {
     "iopub.execute_input": "2023-05-25T06:23:39.678209Z",
     "iopub.status.busy": "2023-05-25T06:23:39.677873Z",
     "iopub.status.idle": "2023-05-25T06:23:39.886973Z",
     "shell.execute_reply": "2023-05-25T06:23:39.886083Z"
    },
    "papermill": {
     "duration": 0.229669,
     "end_time": "2023-05-25T06:23:39.888772",
     "exception": false,
     "start_time": "2023-05-25T06:23:39.659103",
     "status": "completed"
    },
    "tags": []
   },
   "outputs": [
    {
     "data": {
      "text/plain": [
       "<AxesSubplot: xlabel='Pclass', ylabel='Age'>"
      ]
     },
     "execution_count": 7,
     "metadata": {},
     "output_type": "execute_result"
    },
    {
     "data": {
      "image/png": "[encoded data removed]",
      "text/plain": [
       "<Figure size 640x480 with 1 Axes>"
      ]
     },
     "metadata": {},
     "output_type": "display_data"
    }
   ],
   "source": [
    "sns.boxplot(x = train_df['Pclass'],y=train_df['Age'])"
   ]
  },
  {
   "cell_type": "markdown",
   "id": "e67b60a6",
   "metadata": {
    "papermill": {
     "duration": 0.016473,
     "end_time": "2023-05-25T06:23:39.922435",
     "exception": false,
     "start_time": "2023-05-25T06:23:39.905962",
     "status": "completed"
    },
    "tags": []
   },
   "source": [
    "# Filling all null values in age"
   ]
  },
  {
   "cell_type": "code",
   "execution_count": 8,
   "id": "712928da",
   "metadata": {
    "execution": {
     "iopub.execute_input": "2023-05-25T06:23:39.957090Z",
     "iopub.status.busy": "2023-05-25T06:23:39.956697Z",
     "iopub.status.idle": "2023-05-25T06:23:39.962276Z",
     "shell.execute_reply": "2023-05-25T06:23:39.961185Z"
    },
    "papermill": {
     "duration": 0.025421,
     "end_time": "2023-05-25T06:23:39.964379",
     "exception": false,
     "start_time": "2023-05-25T06:23:39.938958",
     "status": "completed"
    },
    "tags": []
   },
   "outputs": [],
   "source": [
    "def fill_age_null_value(col):\n",
    "    Age = col[0]\n",
    "    Pclass = col[1]\n",
    "    \n",
    "    if pd.isnull(Age):\n",
    "        if Pclass == 1:\n",
    "            return 37\n",
    "        elif Pclass == 2:\n",
    "            return 28\n",
    "        else:\n",
    "            return 25\n",
    "    else:\n",
    "        return Age"
   ]
  },
  {
   "cell_type": "code",
   "execution_count": 9,
   "id": "0c6c8db2",
   "metadata": {
    "execution": {
     "iopub.execute_input": "2023-05-25T06:23:40.000418Z",
     "iopub.status.busy": "2023-05-25T06:23:39.999508Z",
     "iopub.status.idle": "2023-05-25T06:23:40.015780Z",
     "shell.execute_reply": "2023-05-25T06:23:40.014846Z"
    },
    "papermill": {
     "duration": 0.036201,
     "end_time": "2023-05-25T06:23:40.017893",
     "exception": false,
     "start_time": "2023-05-25T06:23:39.981692",
     "status": "completed"
    },
    "tags": []
   },
   "outputs": [],
   "source": [
    "train_df['Age'] = train_df[['Age','Pclass']].apply(fill_age_null_value,axis=1)"
   ]
  },
  {
   "cell_type": "code",
   "execution_count": 10,
   "id": "983669e8",
   "metadata": {
    "execution": {
     "iopub.execute_input": "2023-05-25T06:23:40.053337Z",
     "iopub.status.busy": "2023-05-25T06:23:40.052975Z",
     "iopub.status.idle": "2023-05-25T06:23:40.387660Z",
     "shell.execute_reply": "2023-05-25T06:23:40.386562Z"
    },
    "papermill": {
     "duration": 0.35456,
     "end_time": "2023-05-25T06:23:40.389592",
     "exception": false,
     "start_time": "2023-05-25T06:23:40.035032",
     "status": "completed"
    },
    "tags": []
   },
   "outputs": [
    {
     "data": {
      "text/plain": [
       "<AxesSubplot: >"
      ]
     },
     "execution_count": 10,
     "metadata": {},
     "output_type": "execute_result"
    },
    {
     "data": {
      "image/png": "[encoded data removed]",
      "text/plain": [
       "<Figure size 640x480 with 2 Axes>"
      ]
     },
     "metadata": {},
     "output_type": "display_data"
    }
   ],
   "source": [
    "sns.heatmap(train_df.isnull(),yticklabels=False,cmap = 'viridis')"
   ]
  },
  {
   "cell_type": "markdown",
   "id": "fed62d9f",
   "metadata": {
    "papermill": {
     "duration": 0.016798,
     "end_time": "2023-05-25T06:23:40.423786",
     "exception": false,
     "start_time": "2023-05-25T06:23:40.406988",
     "status": "completed"
    },
    "tags": []
   },
   "source": [
    "# In age columns all null value filled"
   ]
  },
  {
   "cell_type": "code",
   "execution_count": 11,
   "id": "00a37268",
   "metadata": {
    "execution": {
     "iopub.execute_input": "2023-05-25T06:23:40.459594Z",
     "iopub.status.busy": "2023-05-25T06:23:40.459267Z",
     "iopub.status.idle": "2023-05-25T06:23:40.467591Z",
     "shell.execute_reply": "2023-05-25T06:23:40.466609Z"
    },
    "papermill": {
     "duration": 0.028244,
     "end_time": "2023-05-25T06:23:40.469217",
     "exception": false,
     "start_time": "2023-05-25T06:23:40.440973",
     "status": "completed"
    },
    "tags": []
   },
   "outputs": [
    {
     "data": {
      "text/plain": [
       "0      22.0\n",
       "1      38.0\n",
       "2      26.0\n",
       "3      35.0\n",
       "4      35.0\n",
       "       ... \n",
       "886    27.0\n",
       "887    19.0\n",
       "888    25.0\n",
       "889    26.0\n",
       "890    32.0\n",
       "Name: Age, Length: 891, dtype: float64"
      ]
     },
     "execution_count": 11,
     "metadata": {},
     "output_type": "execute_result"
    }
   ],
   "source": [
    "train_df['Age']"
   ]
  },
  {
   "cell_type": "markdown",
   "id": "8d1c82b7",
   "metadata": {
    "papermill": {
     "duration": 0.017159,
     "end_time": "2023-05-25T06:23:40.503670",
     "exception": false,
     "start_time": "2023-05-25T06:23:40.486511",
     "status": "completed"
    },
    "tags": []
   },
   "source": [
    "# There are too many null values in cabin so it good to remove this column and all null values"
   ]
  },
  {
   "cell_type": "code",
   "execution_count": 12,
   "id": "1a8b4ffa",
   "metadata": {
    "execution": {
     "iopub.execute_input": "2023-05-25T06:23:40.540655Z",
     "iopub.status.busy": "2023-05-25T06:23:40.539937Z",
     "iopub.status.idle": "2023-05-25T06:23:40.547554Z",
     "shell.execute_reply": "2023-05-25T06:23:40.546841Z"
    },
    "papermill": {
     "duration": 0.028262,
     "end_time": "2023-05-25T06:23:40.549405",
     "exception": false,
     "start_time": "2023-05-25T06:23:40.521143",
     "status": "completed"
    },
    "tags": []
   },
   "outputs": [],
   "source": [
    "train_df.drop('Cabin',axis = 1,inplace = True)\n",
    "train_df.dropna(inplace = True)"
   ]
  },
  {
   "cell_type": "markdown",
   "id": "9ce72616",
   "metadata": {
    "papermill": {
     "duration": 0.01671,
     "end_time": "2023-05-25T06:23:40.583627",
     "exception": false,
     "start_time": "2023-05-25T06:23:40.566917",
     "status": "completed"
    },
    "tags": []
   },
   "source": [
    "# visualize null values by heatmap"
   ]
  },
  {
   "cell_type": "code",
   "execution_count": 13,
   "id": "d7fbdbb9",
   "metadata": {
    "execution": {
     "iopub.execute_input": "2023-05-25T06:23:40.620208Z",
     "iopub.status.busy": "2023-05-25T06:23:40.619563Z",
     "iopub.status.idle": "2023-05-25T06:23:40.968616Z",
     "shell.execute_reply": "2023-05-25T06:23:40.967218Z"
    },
    "papermill": {
     "duration": 0.369517,
     "end_time": "2023-05-25T06:23:40.970695",
     "exception": false,
     "start_time": "2023-05-25T06:23:40.601178",
     "status": "completed"
    },
    "tags": []
   },
   "outputs": [
    {
     "data": {
      "text/plain": [
       "<AxesSubplot: >"
      ]
     },
     "execution_count": 13,
     "metadata": {},
     "output_type": "execute_result"
    },
    {
     "data": {
      "image/png": "[encoded data removed]",
      "text/plain": [
       "<Figure size 640x480 with 2 Axes>"
      ]
     },
     "metadata": {},
     "output_type": "display_data"
    }
   ],
   "source": [
    "sns.heatmap(train_df.isnull(), yticklabels=False, cmap='viridis')"
   ]
  },
  {
   "cell_type": "markdown",
   "id": "686dfc9c",
   "metadata": {
    "papermill": {
     "duration": 0.017427,
     "end_time": "2023-05-25T06:23:41.005931",
     "exception": false,
     "start_time": "2023-05-25T06:23:40.988504",
     "status": "completed"
    },
    "tags": []
   },
   "source": [
    "No null values in this DataFrame"
   ]
  },
  {
   "cell_type": "code",
   "execution_count": 14,
   "id": "e9684c13",
   "metadata": {
    "execution": {
     "iopub.execute_input": "2023-05-25T06:23:41.043853Z",
     "iopub.status.busy": "2023-05-25T06:23:41.043207Z",
     "iopub.status.idle": "2023-05-25T06:23:41.055409Z",
     "shell.execute_reply": "2023-05-25T06:23:41.054677Z"
    },
    "papermill": {
     "duration": 0.033188,
     "end_time": "2023-05-25T06:23:41.057000",
     "exception": false,
     "start_time": "2023-05-25T06:23:41.023812",
     "status": "completed"
    },
    "tags": []
   },
   "outputs": [
    {
     "data": {
      "text/html": [
       "<div>\n",
       "<style scoped>\n",
       "    .dataframe tbody tr th:only-of-type {\n",
       "        vertical-align: middle;\n",
       "    }\n",
       "\n",
       "    .dataframe tbody tr th {\n",
       "        vertical-align: top;\n",
       "    }\n",
       "\n",
       "    .dataframe thead th {\n",
       "        text-align: right;\n",
       "    }\n",
       "</style>\n",
       "<table border=\"1\" class=\"dataframe\">\n",
       "  <thead>\n",
       "    <tr style=\"text-align: right;\">\n",
       "      <th></th>\n",
       "      <th>PassengerId</th>\n",
       "      <th>Survived</th>\n",
       "      <th>Pclass</th>\n",
       "      <th>Name</th>\n",
       "      <th>Sex</th>\n",
       "      <th>Age</th>\n",
       "      <th>SibSp</th>\n",
       "      <th>Parch</th>\n",
       "      <th>Ticket</th>\n",
       "      <th>Fare</th>\n",
       "      <th>Embarked</th>\n",
       "    </tr>\n",
       "  </thead>\n",
       "  <tbody>\n",
       "    <tr>\n",
       "      <th>0</th>\n",
       "      <td>1</td>\n",
       "      <td>0</td>\n",
       "      <td>3</td>\n",
       "      <td>Braund, Mr. Owen Harris</td>\n",
       "      <td>male</td>\n",
       "      <td>22.0</td>\n",
       "      <td>1</td>\n",
       "      <td>0</td>\n",
       "      <td>A/5 21171</td>\n",
       "      <td>7.2500</td>\n",
       "      <td>S</td>\n",
       "    </tr>\n",
       "    <tr>\n",
       "      <th>1</th>\n",
       "      <td>2</td>\n",
       "      <td>1</td>\n",
       "      <td>1</td>\n",
       "      <td>Cumings, Mrs. John Bradley (Florence Briggs Th...</td>\n",
       "      <td>female</td>\n",
       "      <td>38.0</td>\n",
       "      <td>1</td>\n",
       "      <td>0</td>\n",
       "      <td>PC 17599</td>\n",
       "      <td>71.2833</td>\n",
       "      <td>C</td>\n",
       "    </tr>\n",
       "    <tr>\n",
       "      <th>2</th>\n",
       "      <td>3</td>\n",
       "      <td>1</td>\n",
       "      <td>3</td>\n",
       "      <td>Heikkinen, Miss. Laina</td>\n",
       "      <td>female</td>\n",
       "      <td>26.0</td>\n",
       "      <td>0</td>\n",
       "      <td>0</td>\n",
       "      <td>STON/O2. 3101282</td>\n",
       "      <td>7.9250</td>\n",
       "      <td>S</td>\n",
       "    </tr>\n",
       "    <tr>\n",
       "      <th>3</th>\n",
       "      <td>4</td>\n",
       "      <td>1</td>\n",
       "      <td>1</td>\n",
       "      <td>Futrelle, Mrs. Jacques Heath (Lily May Peel)</td>\n",
       "      <td>female</td>\n",
       "      <td>35.0</td>\n",
       "      <td>1</td>\n",
       "      <td>0</td>\n",
       "      <td>113803</td>\n",
       "      <td>53.1000</td>\n",
       "      <td>S</td>\n",
       "    </tr>\n",
       "    <tr>\n",
       "      <th>4</th>\n",
       "      <td>5</td>\n",
       "      <td>0</td>\n",
       "      <td>3</td>\n",
       "      <td>Allen, Mr. William Henry</td>\n",
       "      <td>male</td>\n",
       "      <td>35.0</td>\n",
       "      <td>0</td>\n",
       "      <td>0</td>\n",
       "      <td>373450</td>\n",
       "      <td>8.0500</td>\n",
       "      <td>S</td>\n",
       "    </tr>\n",
       "  </tbody>\n",
       "</table>\n",
       "</div>"
      ],
      "text/plain": [
       "   PassengerId  Survived  Pclass  \\\n",
       "0            1         0       3   \n",
       "1            2         1       1   \n",
       "2            3         1       3   \n",
       "3            4         1       1   \n",
       "4            5         0       3   \n",
       "\n",
       "                                                Name     Sex   Age  SibSp  \\\n",
       "0                            Braund, Mr. Owen Harris    male  22.0      1   \n",
       "1  Cumings, Mrs. John Bradley (Florence Briggs Th...  female  38.0      1   \n",
       "2                             Heikkinen, Miss. Laina  female  26.0      0   \n",
       "3       Futrelle, Mrs. Jacques Heath (Lily May Peel)  female  35.0      1   \n",
       "4                           Allen, Mr. William Henry    male  35.0      0   \n",
       "\n",
       "   Parch            Ticket     Fare Embarked  \n",
       "0      0         A/5 21171   7.2500        S  \n",
       "1      0          PC 17599  71.2833        C  \n",
       "2      0  STON/O2. 3101282   7.9250        S  \n",
       "3      0            113803  53.1000        S  \n",
       "4      0            373450   8.0500        S  "
      ]
     },
     "execution_count": 14,
     "metadata": {},
     "output_type": "execute_result"
    }
   ],
   "source": [
    "# head of df\n",
    "train_df.head()"
   ]
  },
  {
   "cell_type": "markdown",
   "id": "23bfbafe",
   "metadata": {
    "papermill": {
     "duration": 0.018114,
     "end_time": "2023-05-25T06:23:41.093475",
     "exception": false,
     "start_time": "2023-05-25T06:23:41.075361",
     "status": "completed"
    },
    "tags": []
   },
   "source": [
    "# Showing shape"
   ]
  },
  {
   "cell_type": "code",
   "execution_count": 15,
   "id": "48c56c09",
   "metadata": {
    "execution": {
     "iopub.execute_input": "2023-05-25T06:23:41.131788Z",
     "iopub.status.busy": "2023-05-25T06:23:41.131184Z",
     "iopub.status.idle": "2023-05-25T06:23:41.135837Z",
     "shell.execute_reply": "2023-05-25T06:23:41.135253Z"
    },
    "papermill": {
     "duration": 0.025875,
     "end_time": "2023-05-25T06:23:41.137319",
     "exception": false,
     "start_time": "2023-05-25T06:23:41.111444",
     "status": "completed"
    },
    "tags": []
   },
   "outputs": [
    {
     "data": {
      "text/plain": [
       "(889, 11)"
      ]
     },
     "execution_count": 15,
     "metadata": {},
     "output_type": "execute_result"
    }
   ],
   "source": [
    "train_df.shape"
   ]
  },
  {
   "cell_type": "markdown",
   "id": "4fa234a3",
   "metadata": {
    "papermill": {
     "duration": 0.01774,
     "end_time": "2023-05-25T06:23:41.173517",
     "exception": false,
     "start_time": "2023-05-25T06:23:41.155777",
     "status": "completed"
    },
    "tags": []
   },
   "source": [
    "# Count Pclass"
   ]
  },
  {
   "cell_type": "code",
   "execution_count": 16,
   "id": "ba234a03",
   "metadata": {
    "execution": {
     "iopub.execute_input": "2023-05-25T06:23:41.212245Z",
     "iopub.status.busy": "2023-05-25T06:23:41.211589Z",
     "iopub.status.idle": "2023-05-25T06:23:41.373418Z",
     "shell.execute_reply": "2023-05-25T06:23:41.372780Z"
    },
    "papermill": {
     "duration": 0.183131,
     "end_time": "2023-05-25T06:23:41.374999",
     "exception": false,
     "start_time": "2023-05-25T06:23:41.191868",
     "status": "completed"
    },
    "tags": []
   },
   "outputs": [
    {
     "data": {
      "text/plain": [
       "<AxesSubplot: xlabel='Pclass', ylabel='count'>"
      ]
     },
     "execution_count": 16,
     "metadata": {},
     "output_type": "execute_result"
    },
    {
     "data": {
      "image/png": "[encoded data removed]",
      "text/plain": [
       "<Figure size 640x480 with 1 Axes>"
      ]
     },
     "metadata": {},
     "output_type": "display_data"
    }
   ],
   "source": [
    "sns.countplot(x='Pclass',data=train_df)"
   ]
  },
  {
   "cell_type": "markdown",
   "id": "e3e90612",
   "metadata": {
    "papermill": {
     "duration": 0.017947,
     "end_time": "2023-05-25T06:23:41.411505",
     "exception": false,
     "start_time": "2023-05-25T06:23:41.393558",
     "status": "completed"
    },
    "tags": []
   },
   "source": [
    "# Count Sibsp"
   ]
  },
  {
   "cell_type": "code",
   "execution_count": 17,
   "id": "61d73029",
   "metadata": {
    "execution": {
     "iopub.execute_input": "2023-05-25T06:23:41.454482Z",
     "iopub.status.busy": "2023-05-25T06:23:41.453995Z",
     "iopub.status.idle": "2023-05-25T06:23:41.682403Z",
     "shell.execute_reply": "2023-05-25T06:23:41.681355Z"
    },
    "papermill": {
     "duration": 0.255101,
     "end_time": "2023-05-25T06:23:41.685039",
     "exception": false,
     "start_time": "2023-05-25T06:23:41.429938",
     "status": "completed"
    },
    "tags": []
   },
   "outputs": [
    {
     "data": {
      "text/plain": [
       "<AxesSubplot: xlabel='SibSp', ylabel='count'>"
      ]
     },
     "execution_count": 17,
     "metadata": {},
     "output_type": "execute_result"
    },
    {
     "data": {
      "image/png": "[encoded data removed]",
      "text/plain": [
       "<Figure size 640x480 with 1 Axes>"
      ]
     },
     "metadata": {},
     "output_type": "display_data"
    }
   ],
   "source": [
    "sns.countplot(x='SibSp',data=train_df)"
   ]
  },
  {
   "cell_type": "markdown",
   "id": "89413173",
   "metadata": {
    "papermill": {
     "duration": 0.020107,
     "end_time": "2023-05-25T06:23:41.727420",
     "exception": false,
     "start_time": "2023-05-25T06:23:41.707313",
     "status": "completed"
    },
    "tags": []
   },
   "source": [
    "# Count Survied by SibSp"
   ]
  },
  {
   "cell_type": "code",
   "execution_count": 18,
   "id": "64c82303",
   "metadata": {
    "execution": {
     "iopub.execute_input": "2023-05-25T06:23:41.768259Z",
     "iopub.status.busy": "2023-05-25T06:23:41.767551Z",
     "iopub.status.idle": "2023-05-25T06:23:42.017544Z",
     "shell.execute_reply": "2023-05-25T06:23:42.016585Z"
    },
    "papermill": {
     "duration": 0.273442,
     "end_time": "2023-05-25T06:23:42.019560",
     "exception": false,
     "start_time": "2023-05-25T06:23:41.746118",
     "status": "completed"
    },
    "tags": []
   },
   "outputs": [
    {
     "data": {
      "text/plain": [
       "<AxesSubplot: xlabel='Survived', ylabel='count'>"
      ]
     },
     "execution_count": 18,
     "metadata": {},
     "output_type": "execute_result"
    },
    {
     "data": {
      "image/png": "[encoded data removed]",
      "text/plain": [
       "<Figure size 640x480 with 1 Axes>"
      ]
     },
     "metadata": {},
     "output_type": "display_data"
    }
   ],
   "source": [
    "sns.countplot(x='Survived',hue='SibSp',data=train_df)"
   ]
  },
  {
   "cell_type": "markdown",
   "id": "572f5ed1",
   "metadata": {
    "papermill": {
     "duration": 0.01914,
     "end_time": "2023-05-25T06:23:42.058473",
     "exception": false,
     "start_time": "2023-05-25T06:23:42.039333",
     "status": "completed"
    },
    "tags": []
   },
   "source": [
    "# Count Survied by Sex"
   ]
  },
  {
   "cell_type": "code",
   "execution_count": 19,
   "id": "a7db5fde",
   "metadata": {
    "execution": {
     "iopub.execute_input": "2023-05-25T06:23:42.100096Z",
     "iopub.status.busy": "2023-05-25T06:23:42.099017Z",
     "iopub.status.idle": "2023-05-25T06:23:42.276725Z",
     "shell.execute_reply": "2023-05-25T06:23:42.275895Z"
    },
    "papermill": {
     "duration": 0.200706,
     "end_time": "2023-05-25T06:23:42.278908",
     "exception": false,
     "start_time": "2023-05-25T06:23:42.078202",
     "status": "completed"
    },
    "tags": []
   },
   "outputs": [
    {
     "data": {
      "text/plain": [
       "<AxesSubplot: xlabel='Survived', ylabel='count'>"
      ]
     },
     "execution_count": 19,
     "metadata": {},
     "output_type": "execute_result"
    },
    {
     "data": {
      "image/png": "[encoded data removed]",
      "text/plain": [
       "<Figure size 640x480 with 1 Axes>"
      ]
     },
     "metadata": {},
     "output_type": "display_data"
    }
   ],
   "source": [
    "sns.countplot(x='Survived',hue='Sex',data=train_df)"
   ]
  },
  {
   "cell_type": "markdown",
   "id": "6bba09f2",
   "metadata": {
    "papermill": {
     "duration": 0.01915,
     "end_time": "2023-05-25T06:23:42.317658",
     "exception": false,
     "start_time": "2023-05-25T06:23:42.298508",
     "status": "completed"
    },
    "tags": []
   },
   "source": [
    "# Count Survied by Pclass"
   ]
  },
  {
   "cell_type": "code",
   "execution_count": 20,
   "id": "e194a272",
   "metadata": {
    "execution": {
     "iopub.execute_input": "2023-05-25T06:23:42.361963Z",
     "iopub.status.busy": "2023-05-25T06:23:42.360851Z",
     "iopub.status.idle": "2023-05-25T06:23:42.541630Z",
     "shell.execute_reply": "2023-05-25T06:23:42.540604Z"
    },
    "papermill": {
     "duration": 0.204167,
     "end_time": "2023-05-25T06:23:42.543501",
     "exception": false,
     "start_time": "2023-05-25T06:23:42.339334",
     "status": "completed"
    },
    "tags": []
   },
   "outputs": [
    {
     "data": {
      "text/plain": [
       "<AxesSubplot: xlabel='Survived', ylabel='count'>"
      ]
     },
     "execution_count": 20,
     "metadata": {},
     "output_type": "execute_result"
    },
    {
     "data": {
      "image/png": "[encoded data removed]",
      "text/plain": [
       "<Figure size 640x480 with 1 Axes>"
      ]
     },
     "metadata": {},
     "output_type": "display_data"
    }
   ],
   "source": [
    "sns.countplot(x='Survived',hue='Pclass',data=train_df)"
   ]
  },
  {
   "cell_type": "markdown",
   "id": "3f7e3b4c",
   "metadata": {
    "papermill": {
     "duration": 0.02177,
     "end_time": "2023-05-25T06:23:42.585850",
     "exception": false,
     "start_time": "2023-05-25T06:23:42.564080",
     "status": "completed"
    },
    "tags": []
   },
   "source": [
    "# Visualize Fare"
   ]
  },
  {
   "cell_type": "code",
   "execution_count": 21,
   "id": "a6f181b2",
   "metadata": {
    "execution": {
     "iopub.execute_input": "2023-05-25T06:23:42.627312Z",
     "iopub.status.busy": "2023-05-25T06:23:42.626988Z",
     "iopub.status.idle": "2023-05-25T06:23:42.914432Z",
     "shell.execute_reply": "2023-05-25T06:23:42.913444Z"
    },
    "papermill": {
     "duration": 0.310391,
     "end_time": "2023-05-25T06:23:42.916288",
     "exception": false,
     "start_time": "2023-05-25T06:23:42.605897",
     "status": "completed"
    },
    "tags": []
   },
   "outputs": [
    {
     "data": {
      "text/plain": [
       "<AxesSubplot: xlabel='Fare', ylabel='Count'>"
      ]
     },
     "execution_count": 21,
     "metadata": {},
     "output_type": "execute_result"
    },
    {
     "data": {
      "image/png": "[encoded data removed]",
      "text/plain": [
       "<Figure size 640x480 with 1 Axes>"
      ]
     },
     "metadata": {},
     "output_type": "display_data"
    }
   ],
   "source": [
    "sns.histplot(x='Fare',data=train_df,bins=50)"
   ]
  },
  {
   "cell_type": "markdown",
   "id": "f62db492",
   "metadata": {
    "papermill": {
     "duration": 0.021498,
     "end_time": "2023-05-25T06:23:42.958989",
     "exception": false,
     "start_time": "2023-05-25T06:23:42.937491",
     "status": "completed"
    },
    "tags": []
   },
   "source": [
    "# Visualize Age"
   ]
  },
  {
   "cell_type": "code",
   "execution_count": 22,
   "id": "076beb3e",
   "metadata": {
    "execution": {
     "iopub.execute_input": "2023-05-25T06:23:43.005027Z",
     "iopub.status.busy": "2023-05-25T06:23:43.004623Z",
     "iopub.status.idle": "2023-05-25T06:23:43.470838Z",
     "shell.execute_reply": "2023-05-25T06:23:43.469748Z"
    },
    "papermill": {
     "duration": 0.491505,
     "end_time": "2023-05-25T06:23:43.472857",
     "exception": false,
     "start_time": "2023-05-25T06:23:42.981352",
     "status": "completed"
    },
    "tags": []
   },
   "outputs": [
    {
     "data": {
      "text/plain": [
       "<AxesSubplot: xlabel='Age', ylabel='Count'>"
      ]
     },
     "execution_count": 22,
     "metadata": {},
     "output_type": "execute_result"
    },
    {
     "data": {
      "image/png": "[encoded data removed]",
      "text/plain": [
       "<Figure size 640x480 with 1 Axes>"
      ]
     },
     "metadata": {},
     "output_type": "display_data"
    }
   ],
   "source": [
    "sns.histplot(x='Age',data=train_df,bins=50)"
   ]
  },
  {
   "cell_type": "markdown",
   "id": "c648a44f",
   "metadata": {
    "papermill": {
     "duration": 0.020504,
     "end_time": "2023-05-25T06:23:43.514611",
     "exception": false,
     "start_time": "2023-05-25T06:23:43.494107",
     "status": "completed"
    },
    "tags": []
   },
   "source": [
    "# Create dummies sex and embarked columns for LogisticRegression"
   ]
  },
  {
   "cell_type": "code",
   "execution_count": 23,
   "id": "40e4a061",
   "metadata": {
    "execution": {
     "iopub.execute_input": "2023-05-25T06:23:43.556438Z",
     "iopub.status.busy": "2023-05-25T06:23:43.556105Z",
     "iopub.status.idle": "2023-05-25T06:23:43.562427Z",
     "shell.execute_reply": "2023-05-25T06:23:43.561815Z"
    },
    "papermill": {
     "duration": 0.029392,
     "end_time": "2023-05-25T06:23:43.563941",
     "exception": false,
     "start_time": "2023-05-25T06:23:43.534549",
     "status": "completed"
    },
    "tags": []
   },
   "outputs": [],
   "source": [
    "sex = pd.get_dummies(train_df['Sex'],drop_first=True)\n",
    "Embarked = pd.get_dummies(train_df['Embarked'],drop_first= True)"
   ]
  },
  {
   "cell_type": "markdown",
   "id": "0bf6f12f",
   "metadata": {
    "papermill": {
     "duration": 0.0213,
     "end_time": "2023-05-25T06:23:43.606626",
     "exception": false,
     "start_time": "2023-05-25T06:23:43.585326",
     "status": "completed"
    },
    "tags": []
   },
   "source": [
    "# Drop String columns for logistic Predication"
   ]
  },
  {
   "cell_type": "code",
   "execution_count": 24,
   "id": "be9a86e3",
   "metadata": {
    "execution": {
     "iopub.execute_input": "2023-05-25T06:23:43.648328Z",
     "iopub.status.busy": "2023-05-25T06:23:43.648012Z",
     "iopub.status.idle": "2023-05-25T06:23:43.653166Z",
     "shell.execute_reply": "2023-05-25T06:23:43.652340Z"
    },
    "papermill": {
     "duration": 0.027778,
     "end_time": "2023-05-25T06:23:43.654655",
     "exception": false,
     "start_time": "2023-05-25T06:23:43.626877",
     "status": "completed"
    },
    "tags": []
   },
   "outputs": [],
   "source": [
    "train_df.drop(['Sex','Embarked','Name','Ticket','PassengerId'],axis = 1,inplace = True)"
   ]
  },
  {
   "cell_type": "markdown",
   "id": "3d271238",
   "metadata": {
    "papermill": {
     "duration": 0.020036,
     "end_time": "2023-05-25T06:23:43.695143",
     "exception": false,
     "start_time": "2023-05-25T06:23:43.675107",
     "status": "completed"
    },
    "tags": []
   },
   "source": [
    "# Concat dummies columns with Dataframe"
   ]
  },
  {
   "cell_type": "code",
   "execution_count": 25,
   "id": "1aaa14a9",
   "metadata": {
    "execution": {
     "iopub.execute_input": "2023-05-25T06:23:43.737805Z",
     "iopub.status.busy": "2023-05-25T06:23:43.737438Z",
     "iopub.status.idle": "2023-05-25T06:23:43.744430Z",
     "shell.execute_reply": "2023-05-25T06:23:43.743187Z"
    },
    "papermill": {
     "duration": 0.030371,
     "end_time": "2023-05-25T06:23:43.746173",
     "exception": false,
     "start_time": "2023-05-25T06:23:43.715802",
     "status": "completed"
    },
    "tags": []
   },
   "outputs": [],
   "source": [
    "train_df = pd.concat([train_df,sex,Embarked],axis = 1)"
   ]
  },
  {
   "cell_type": "markdown",
   "id": "450fdf73",
   "metadata": {
    "papermill": {
     "duration": 0.020089,
     "end_time": "2023-05-25T06:23:43.786816",
     "exception": false,
     "start_time": "2023-05-25T06:23:43.766727",
     "status": "completed"
    },
    "tags": []
   },
   "source": [
    "# Showing latest columns"
   ]
  },
  {
   "cell_type": "code",
   "execution_count": 26,
   "id": "17196754",
   "metadata": {
    "execution": {
     "iopub.execute_input": "2023-05-25T06:23:43.829041Z",
     "iopub.status.busy": "2023-05-25T06:23:43.828223Z",
     "iopub.status.idle": "2023-05-25T06:23:43.843170Z",
     "shell.execute_reply": "2023-05-25T06:23:43.842052Z"
    },
    "papermill": {
     "duration": 0.038512,
     "end_time": "2023-05-25T06:23:43.845433",
     "exception": false,
     "start_time": "2023-05-25T06:23:43.806921",
     "status": "completed"
    },
    "tags": []
   },
   "outputs": [
    {
     "data": {
      "text/html": [
       "<div>\n",
       "<style scoped>\n",
       "    .dataframe tbody tr th:only-of-type {\n",
       "        vertical-align: middle;\n",
       "    }\n",
       "\n",
       "    .dataframe tbody tr th {\n",
       "        vertical-align: top;\n",
       "    }\n",
       "\n",
       "    .dataframe thead th {\n",
       "        text-align: right;\n",
       "    }\n",
       "</style>\n",
       "<table border=\"1\" class=\"dataframe\">\n",
       "  <thead>\n",
       "    <tr style=\"text-align: right;\">\n",
       "      <th></th>\n",
       "      <th>Survived</th>\n",
       "      <th>Pclass</th>\n",
       "      <th>Age</th>\n",
       "      <th>SibSp</th>\n",
       "      <th>Parch</th>\n",
       "      <th>Fare</th>\n",
       "      <th>male</th>\n",
       "      <th>Q</th>\n",
       "      <th>S</th>\n",
       "    </tr>\n",
       "  </thead>\n",
       "  <tbody>\n",
       "    <tr>\n",
       "      <th>0</th>\n",
       "      <td>0</td>\n",
       "      <td>3</td>\n",
       "      <td>22.0</td>\n",
       "      <td>1</td>\n",
       "      <td>0</td>\n",
       "      <td>7.2500</td>\n",
       "      <td>1</td>\n",
       "      <td>0</td>\n",
       "      <td>1</td>\n",
       "    </tr>\n",
       "    <tr>\n",
       "      <th>1</th>\n",
       "      <td>1</td>\n",
       "      <td>1</td>\n",
       "      <td>38.0</td>\n",
       "      <td>1</td>\n",
       "      <td>0</td>\n",
       "      <td>71.2833</td>\n",
       "      <td>0</td>\n",
       "      <td>0</td>\n",
       "      <td>0</td>\n",
       "    </tr>\n",
       "    <tr>\n",
       "      <th>2</th>\n",
       "      <td>1</td>\n",
       "      <td>3</td>\n",
       "      <td>26.0</td>\n",
       "      <td>0</td>\n",
       "      <td>0</td>\n",
       "      <td>7.9250</td>\n",
       "      <td>0</td>\n",
       "      <td>0</td>\n",
       "      <td>1</td>\n",
       "    </tr>\n",
       "    <tr>\n",
       "      <th>3</th>\n",
       "      <td>1</td>\n",
       "      <td>1</td>\n",
       "      <td>35.0</td>\n",
       "      <td>1</td>\n",
       "      <td>0</td>\n",
       "      <td>53.1000</td>\n",
       "      <td>0</td>\n",
       "      <td>0</td>\n",
       "      <td>1</td>\n",
       "    </tr>\n",
       "    <tr>\n",
       "      <th>4</th>\n",
       "      <td>0</td>\n",
       "      <td>3</td>\n",
       "      <td>35.0</td>\n",
       "      <td>0</td>\n",
       "      <td>0</td>\n",
       "      <td>8.0500</td>\n",
       "      <td>1</td>\n",
       "      <td>0</td>\n",
       "      <td>1</td>\n",
       "    </tr>\n",
       "    <tr>\n",
       "      <th>...</th>\n",
       "      <td>...</td>\n",
       "      <td>...</td>\n",
       "      <td>...</td>\n",
       "      <td>...</td>\n",
       "      <td>...</td>\n",
       "      <td>...</td>\n",
       "      <td>...</td>\n",
       "      <td>...</td>\n",
       "      <td>...</td>\n",
       "    </tr>\n",
       "    <tr>\n",
       "      <th>886</th>\n",
       "      <td>0</td>\n",
       "      <td>2</td>\n",
       "      <td>27.0</td>\n",
       "      <td>0</td>\n",
       "      <td>0</td>\n",
       "      <td>13.0000</td>\n",
       "      <td>1</td>\n",
       "      <td>0</td>\n",
       "      <td>1</td>\n",
       "    </tr>\n",
       "    <tr>\n",
       "      <th>887</th>\n",
       "      <td>1</td>\n",
       "      <td>1</td>\n",
       "      <td>19.0</td>\n",
       "      <td>0</td>\n",
       "      <td>0</td>\n",
       "      <td>30.0000</td>\n",
       "      <td>0</td>\n",
       "      <td>0</td>\n",
       "      <td>1</td>\n",
       "    </tr>\n",
       "    <tr>\n",
       "      <th>888</th>\n",
       "      <td>0</td>\n",
       "      <td>3</td>\n",
       "      <td>25.0</td>\n",
       "      <td>1</td>\n",
       "      <td>2</td>\n",
       "      <td>23.4500</td>\n",
       "      <td>0</td>\n",
       "      <td>0</td>\n",
       "      <td>1</td>\n",
       "    </tr>\n",
       "    <tr>\n",
       "      <th>889</th>\n",
       "      <td>1</td>\n",
       "      <td>1</td>\n",
       "      <td>26.0</td>\n",
       "      <td>0</td>\n",
       "      <td>0</td>\n",
       "      <td>30.0000</td>\n",
       "      <td>1</td>\n",
       "      <td>0</td>\n",
       "      <td>0</td>\n",
       "    </tr>\n",
       "    <tr>\n",
       "      <th>890</th>\n",
       "      <td>0</td>\n",
       "      <td>3</td>\n",
       "      <td>32.0</td>\n",
       "      <td>0</td>\n",
       "      <td>0</td>\n",
       "      <td>7.7500</td>\n",
       "      <td>1</td>\n",
       "      <td>1</td>\n",
       "      <td>0</td>\n",
       "    </tr>\n",
       "  </tbody>\n",
       "</table>\n",
       "<p>889 rows × 9 columns</p>\n",
       "</div>"
      ],
      "text/plain": [
       "     Survived  Pclass   Age  SibSp  Parch     Fare  male  Q  S\n",
       "0           0       3  22.0      1      0   7.2500     1  0  1\n",
       "1           1       1  38.0      1      0  71.2833     0  0  0\n",
       "2           1       3  26.0      0      0   7.9250     0  0  1\n",
       "3           1       1  35.0      1      0  53.1000     0  0  1\n",
       "4           0       3  35.0      0      0   8.0500     1  0  1\n",
       "..        ...     ...   ...    ...    ...      ...   ... .. ..\n",
       "886         0       2  27.0      0      0  13.0000     1  0  1\n",
       "887         1       1  19.0      0      0  30.0000     0  0  1\n",
       "888         0       3  25.0      1      2  23.4500     0  0  1\n",
       "889         1       1  26.0      0      0  30.0000     1  0  0\n",
       "890         0       3  32.0      0      0   7.7500     1  1  0\n",
       "\n",
       "[889 rows x 9 columns]"
      ]
     },
     "execution_count": 26,
     "metadata": {},
     "output_type": "execute_result"
    }
   ],
   "source": [
    "train_df"
   ]
  },
  {
   "cell_type": "markdown",
   "id": "f0f314eb",
   "metadata": {
    "papermill": {
     "duration": 0.021092,
     "end_time": "2023-05-25T06:23:43.888160",
     "exception": false,
     "start_time": "2023-05-25T06:23:43.867068",
     "status": "completed"
    },
    "tags": []
   },
   "source": [
    "# Import training library"
   ]
  },
  {
   "cell_type": "code",
   "execution_count": 27,
   "id": "0b6dba05",
   "metadata": {
    "execution": {
     "iopub.execute_input": "2023-05-25T06:23:43.933319Z",
     "iopub.status.busy": "2023-05-25T06:23:43.932721Z",
     "iopub.status.idle": "2023-05-25T06:23:44.166493Z",
     "shell.execute_reply": "2023-05-25T06:23:44.165537Z"
    },
    "papermill": {
     "duration": 0.259132,
     "end_time": "2023-05-25T06:23:44.168869",
     "exception": false,
     "start_time": "2023-05-25T06:23:43.909737",
     "status": "completed"
    },
    "tags": []
   },
   "outputs": [],
   "source": [
    "from sklearn.model_selection import train_test_split"
   ]
  },
  {
   "cell_type": "markdown",
   "id": "bb921f47",
   "metadata": {
    "papermill": {
     "duration": 0.02056,
     "end_time": "2023-05-25T06:23:44.210357",
     "exception": false,
     "start_time": "2023-05-25T06:23:44.189797",
     "status": "completed"
    },
    "tags": []
   },
   "source": [
    "# Select all integer columns in x only remove Predict column. \n",
    "# In Y only Predict column\n"
   ]
  },
  {
   "cell_type": "code",
   "execution_count": 28,
   "id": "6c9f9ac1",
   "metadata": {
    "execution": {
     "iopub.execute_input": "2023-05-25T06:23:44.254839Z",
     "iopub.status.busy": "2023-05-25T06:23:44.254525Z",
     "iopub.status.idle": "2023-05-25T06:23:44.259282Z",
     "shell.execute_reply": "2023-05-25T06:23:44.258495Z"
    },
    "papermill": {
     "duration": 0.028727,
     "end_time": "2023-05-25T06:23:44.260839",
     "exception": false,
     "start_time": "2023-05-25T06:23:44.232112",
     "status": "completed"
    },
    "tags": []
   },
   "outputs": [],
   "source": [
    "x = train_df.drop('Survived',axis = 1)\n",
    "y = train_df['Survived']"
   ]
  },
  {
   "cell_type": "code",
   "execution_count": 29,
   "id": "687e6743",
   "metadata": {
    "execution": {
     "iopub.execute_input": "2023-05-25T06:23:44.304450Z",
     "iopub.status.busy": "2023-05-25T06:23:44.304103Z",
     "iopub.status.idle": "2023-05-25T06:23:44.310108Z",
     "shell.execute_reply": "2023-05-25T06:23:44.309304Z"
    },
    "papermill": {
     "duration": 0.029233,
     "end_time": "2023-05-25T06:23:44.311674",
     "exception": false,
     "start_time": "2023-05-25T06:23:44.282441",
     "status": "completed"
    },
    "tags": []
   },
   "outputs": [],
   "source": [
    "x_train,x_test,y_train,y_test = train_test_split(x,y,test_size=0.3,random_state=101)"
   ]
  },
  {
   "cell_type": "markdown",
   "id": "51745201",
   "metadata": {
    "papermill": {
     "duration": 0.020282,
     "end_time": "2023-05-25T06:23:44.353178",
     "exception": false,
     "start_time": "2023-05-25T06:23:44.332896",
     "status": "completed"
    },
    "tags": []
   },
   "source": [
    "# Import LogisticRegression"
   ]
  },
  {
   "cell_type": "code",
   "execution_count": 30,
   "id": "b21c762a",
   "metadata": {
    "execution": {
     "iopub.execute_input": "2023-05-25T06:23:44.396493Z",
     "iopub.status.busy": "2023-05-25T06:23:44.396161Z",
     "iopub.status.idle": "2023-05-25T06:23:44.487943Z",
     "shell.execute_reply": "2023-05-25T06:23:44.486578Z"
    },
    "papermill": {
     "duration": 0.116228,
     "end_time": "2023-05-25T06:23:44.490232",
     "exception": false,
     "start_time": "2023-05-25T06:23:44.374004",
     "status": "completed"
    },
    "tags": []
   },
   "outputs": [],
   "source": [
    "from sklearn.linear_model import LogisticRegression"
   ]
  },
  {
   "cell_type": "code",
   "execution_count": 31,
   "id": "fc4fee61",
   "metadata": {
    "execution": {
     "iopub.execute_input": "2023-05-25T06:23:44.534335Z",
     "iopub.status.busy": "2023-05-25T06:23:44.534005Z",
     "iopub.status.idle": "2023-05-25T06:23:44.538701Z",
     "shell.execute_reply": "2023-05-25T06:23:44.537801Z"
    },
    "papermill": {
     "duration": 0.0286,
     "end_time": "2023-05-25T06:23:44.540594",
     "exception": false,
     "start_time": "2023-05-25T06:23:44.511994",
     "status": "completed"
    },
    "tags": []
   },
   "outputs": [],
   "source": [
    "log = LogisticRegression(max_iter=1000)"
   ]
  },
  {
   "cell_type": "code",
   "execution_count": 32,
   "id": "711cfaf7",
   "metadata": {
    "execution": {
     "iopub.execute_input": "2023-05-25T06:23:44.584237Z",
     "iopub.status.busy": "2023-05-25T06:23:44.583899Z",
     "iopub.status.idle": "2023-05-25T06:23:44.625386Z",
     "shell.execute_reply": "2023-05-25T06:23:44.624657Z"
    },
    "papermill": {
     "duration": 0.065637,
     "end_time": "2023-05-25T06:23:44.627337",
     "exception": false,
     "start_time": "2023-05-25T06:23:44.561700",
     "status": "completed"
    },
    "tags": []
   },
   "outputs": [
    {
     "data": {
      "text/html": [
       "<style>#sk-container-id-1 {color: black;background-color: white;}#sk-container-id-1 pre{padding: 0;}#sk-container-id-1 div.sk-toggleable {background-color: white;}#sk-container-id-1 label.sk-toggleable__label {cursor: pointer;display: block;width: 100%;margin-bottom: 0;padding: 0.3em;box-sizing: border-box;text-align: center;}#sk-container-id-1 label.sk-toggleable__label-arrow:before {content: \"▸\";float: left;margin-right: 0.25em;color: #696969;}#sk-container-id-1 label.sk-toggleable__label-arrow:hover:before {color: black;}#sk-container-id-1 div.sk-estimator:hover label.sk-toggleable__label-arrow:before {color: black;}#sk-container-id-1 div.sk-toggleable__content {max-height: 0;max-width: 0;overflow: hidden;text-align: left;background-color: #f0f8ff;}#sk-container-id-1 div.sk-toggleable__content pre {margin: 0.2em;color: black;border-radius: 0.25em;background-color: #f0f8ff;}#sk-container-id-1 input.sk-toggleable__control:checked~div.sk-toggleable__content {max-height: 200px;max-width: 100%;overflow: auto;}#sk-container-id-1 input.sk-toggleable__control:checked~label.sk-toggleable__label-arrow:before {content: \"▾\";}#sk-container-id-1 div.sk-estimator input.sk-toggleable__control:checked~label.sk-toggleable__label {background-color: #d4ebff;}#sk-container-id-1 div.sk-label input.sk-toggleable__control:checked~label.sk-toggleable__label {background-color: #d4ebff;}#sk-container-id-1 input.sk-hidden--visually {border: 0;clip: rect(1px 1px 1px 1px);clip: rect(1px, 1px, 1px, 1px);height: 1px;margin: -1px;overflow: hidden;padding: 0;position: absolute;width: 1px;}#sk-container-id-1 div.sk-estimator {font-family: monospace;background-color: #f0f8ff;border: 1px dotted black;border-radius: 0.25em;box-sizing: border-box;margin-bottom: 0.5em;}#sk-container-id-1 div.sk-estimator:hover {background-color: #d4ebff;}#sk-container-id-1 div.sk-parallel-item::after {content: \"\";width: 100%;border-bottom: 1px solid gray;flex-grow: 1;}#sk-container-id-1 div.sk-label:hover label.sk-toggleable__label {background-color: #d4ebff;}#sk-container-id-1 div.sk-serial::before {content: \"\";position: absolute;border-left: 1px solid gray;box-sizing: border-box;top: 0;bottom: 0;left: 50%;z-index: 0;}#sk-container-id-1 div.sk-serial {display: flex;flex-direction: column;align-items: center;background-color: white;padding-right: 0.2em;padding-left: 0.2em;position: relative;}#sk-container-id-1 div.sk-item {position: relative;z-index: 1;}#sk-container-id-1 div.sk-parallel {display: flex;align-items: stretch;justify-content: center;background-color: white;position: relative;}#sk-container-id-1 div.sk-item::before, #sk-container-id-1 div.sk-parallel-item::before {content: \"\";position: absolute;border-left: 1px solid gray;box-sizing: border-box;top: 0;bottom: 0;left: 50%;z-index: -1;}#sk-container-id-1 div.sk-parallel-item {display: flex;flex-direction: column;z-index: 1;position: relative;background-color: white;}#sk-container-id-1 div.sk-parallel-item:first-child::after {align-self: flex-end;width: 50%;}#sk-container-id-1 div.sk-parallel-item:last-child::after {align-self: flex-start;width: 50%;}#sk-container-id-1 div.sk-parallel-item:only-child::after {width: 0;}#sk-container-id-1 div.sk-dashed-wrapped {border: 1px dashed gray;margin: 0 0.4em 0.5em 0.4em;box-sizing: border-box;padding-bottom: 0.4em;background-color: white;}#sk-container-id-1 div.sk-label label {font-family: monospace;font-weight: bold;display: inline-block;line-height: 1.2em;}#sk-container-id-1 div.sk-label-container {text-align: center;}#sk-container-id-1 div.sk-container {/* jupyter's `normalize.less` sets `[hidden] { display: none; }` but bootstrap.min.css set `[hidden] { display: none !important; }` so we also need the `!important` here to be able to override the default hidden behavior on the sphinx rendered scikit-learn.org. See: https://github.com/scikit-learn/scikit-learn/issues/21755 */display: inline-block !important;position: relative;}#sk-container-id-1 div.sk-text-repr-fallback {display: none;}</style><div id=\"sk-container-id-1\" class=\"sk-top-container\"><div class=\"sk-text-repr-fallback\"><pre>LogisticRegression(max_iter=1000)</pre><b>In a Jupyter environment, please rerun this cell to show the HTML representation or trust the notebook. <br />On GitHub, the HTML representation is unable to render, please try loading this page with nbviewer.org.</b></div><div class=\"sk-container\" hidden><div class=\"sk-item\"><div class=\"sk-estimator sk-toggleable\"><input class=\"sk-toggleable__control sk-hidden--visually\" id=\"sk-estimator-id-1\" type=\"checkbox\" checked><label for=\"sk-estimator-id-1\" class=\"sk-toggleable__label sk-toggleable__label-arrow\">LogisticRegression</label><div class=\"sk-toggleable__content\"><pre>LogisticRegression(max_iter=1000)</pre></div></div></div></div></div>"
      ],
      "text/plain": [
       "LogisticRegression(max_iter=1000)"
      ]
     },
     "execution_count": 32,
     "metadata": {},
     "output_type": "execute_result"
    }
   ],
   "source": [
    "log.fit(x_train,y_train)"
   ]
  },
  {
   "cell_type": "markdown",
   "id": "85f8d830",
   "metadata": {
    "papermill": {
     "duration": 0.020682,
     "end_time": "2023-05-25T06:23:44.670123",
     "exception": false,
     "start_time": "2023-05-25T06:23:44.649441",
     "status": "completed"
    },
    "tags": []
   },
   "source": [
    "# Predict"
   ]
  },
  {
   "cell_type": "code",
   "execution_count": 33,
   "id": "d9a169e4",
   "metadata": {
    "execution": {
     "iopub.execute_input": "2023-05-25T06:23:44.713090Z",
     "iopub.status.busy": "2023-05-25T06:23:44.712740Z",
     "iopub.status.idle": "2023-05-25T06:23:44.718494Z",
     "shell.execute_reply": "2023-05-25T06:23:44.717653Z"
    },
    "papermill": {
     "duration": 0.029175,
     "end_time": "2023-05-25T06:23:44.720113",
     "exception": false,
     "start_time": "2023-05-25T06:23:44.690938",
     "status": "completed"
    },
    "tags": []
   },
   "outputs": [],
   "source": [
    "predication = log.predict(x_test)"
   ]
  },
  {
   "cell_type": "code",
   "execution_count": 34,
   "id": "29d57c8b",
   "metadata": {
    "execution": {
     "iopub.execute_input": "2023-05-25T06:23:44.764852Z",
     "iopub.status.busy": "2023-05-25T06:23:44.764290Z",
     "iopub.status.idle": "2023-05-25T06:23:44.770963Z",
     "shell.execute_reply": "2023-05-25T06:23:44.770043Z"
    },
    "papermill": {
     "duration": 0.030997,
     "end_time": "2023-05-25T06:23:44.772657",
     "exception": false,
     "start_time": "2023-05-25T06:23:44.741660",
     "status": "completed"
    },
    "tags": []
   },
   "outputs": [
    {
     "data": {
      "text/plain": [
       "array([0, 0, 1, 1, 0, 0, 0, 0, 0, 1, 1, 1, 0, 1, 0, 0, 1, 1, 1, 0, 0, 0,\n",
       "       0, 0, 0, 0, 1, 0, 0, 0, 0, 0, 0, 0, 0, 0, 1, 0, 0, 0, 1, 0, 0, 1,\n",
       "       1, 0, 1, 1, 0, 0, 0, 1, 0, 0, 0, 0, 0, 0, 0, 1, 1, 1, 1, 0, 0, 0,\n",
       "       0, 0, 0, 0, 0, 0, 1, 1, 0, 1, 0, 0, 0, 0, 0, 0, 1, 0, 0, 1, 0, 1,\n",
       "       0, 1, 1, 1, 0, 0, 0, 1, 1, 0, 0, 1, 0, 1, 0, 0, 1, 0, 1, 0, 0, 0,\n",
       "       0, 0, 1, 1, 0, 1, 0, 0, 1, 1, 0, 0, 0, 0, 0, 0, 1, 0, 1, 1, 0, 0,\n",
       "       1, 1, 0, 0, 0, 0, 1, 0, 0, 0, 0, 0, 0, 1, 0, 0, 0, 1, 0, 1, 1, 1,\n",
       "       0, 0, 1, 0, 1, 0, 0, 0, 0, 1, 0, 0, 0, 0, 0, 0, 1, 0, 1, 0, 0, 0,\n",
       "       0, 0, 1, 0, 1, 0, 0, 1, 0, 1, 1, 0, 0, 0, 0, 0, 1, 0, 0, 0, 1, 0,\n",
       "       0, 0, 0, 0, 1, 0, 1, 0, 0, 0, 0, 0, 0, 0, 1, 0, 0, 1, 1, 0, 0, 0,\n",
       "       1, 0, 0, 0, 1, 0, 0, 1, 0, 0, 1, 0, 0, 0, 1, 1, 1, 0, 1, 0, 0, 0,\n",
       "       0, 0, 1, 0, 0, 0, 1, 1, 0, 1, 0, 0, 0, 0, 0, 0, 0, 1, 1, 0, 0, 0,\n",
       "       0, 1, 1])"
      ]
     },
     "execution_count": 34,
     "metadata": {},
     "output_type": "execute_result"
    }
   ],
   "source": [
    "predication"
   ]
  },
  {
   "cell_type": "markdown",
   "id": "8a81ab4b",
   "metadata": {
    "papermill": {
     "duration": 0.021056,
     "end_time": "2023-05-25T06:23:44.815137",
     "exception": false,
     "start_time": "2023-05-25T06:23:44.794081",
     "status": "completed"
    },
    "tags": []
   },
   "source": [
    "# Import classification_report for check accuracy"
   ]
  },
  {
   "cell_type": "code",
   "execution_count": 35,
   "id": "09ae0082",
   "metadata": {
    "execution": {
     "iopub.execute_input": "2023-05-25T06:23:44.860668Z",
     "iopub.status.busy": "2023-05-25T06:23:44.860330Z",
     "iopub.status.idle": "2023-05-25T06:23:44.865099Z",
     "shell.execute_reply": "2023-05-25T06:23:44.863941Z"
    },
    "papermill": {
     "duration": 0.03087,
     "end_time": "2023-05-25T06:23:44.867531",
     "exception": false,
     "start_time": "2023-05-25T06:23:44.836661",
     "status": "completed"
    },
    "tags": []
   },
   "outputs": [],
   "source": [
    "from sklearn.metrics import classification_report"
   ]
  },
  {
   "cell_type": "code",
   "execution_count": 36,
   "id": "314d979f",
   "metadata": {
    "execution": {
     "iopub.execute_input": "2023-05-25T06:23:44.911359Z",
     "iopub.status.busy": "2023-05-25T06:23:44.911020Z",
     "iopub.status.idle": "2023-05-25T06:23:44.923517Z",
     "shell.execute_reply": "2023-05-25T06:23:44.921786Z"
    },
    "papermill": {
     "duration": 0.03648,
     "end_time": "2023-05-25T06:23:44.925502",
     "exception": false,
     "start_time": "2023-05-25T06:23:44.889022",
     "status": "completed"
    },
    "tags": []
   },
   "outputs": [
    {
     "name": "stdout",
     "output_type": "stream",
     "text": [
      "              precision    recall  f1-score   support\n",
      "\n",
      "           0       0.82      0.92      0.87       163\n",
      "           1       0.85      0.69      0.76       104\n",
      "\n",
      "    accuracy                           0.83       267\n",
      "   macro avg       0.84      0.81      0.82       267\n",
      "weighted avg       0.83      0.83      0.83       267\n",
      "\n"
     ]
    }
   ],
   "source": [
    "print(classification_report(y_test,predication))"
   ]
  },
  {
   "cell_type": "markdown",
   "id": "c3112b2e",
   "metadata": {
    "papermill": {
     "duration": 0.021792,
     "end_time": "2023-05-25T06:23:44.968987",
     "exception": false,
     "start_time": "2023-05-25T06:23:44.947195",
     "status": "completed"
    },
    "tags": []
   },
   "source": [
    "83% Accuracy its good"
   ]
  },
  {
   "cell_type": "markdown",
   "id": "d46fdb23",
   "metadata": {
    "papermill": {
     "duration": 0.021423,
     "end_time": "2023-05-25T06:23:45.012608",
     "exception": false,
     "start_time": "2023-05-25T06:23:44.991185",
     "status": "completed"
    },
    "tags": []
   },
   "source": [
    "# Check Accuracy score"
   ]
  },
  {
   "cell_type": "code",
   "execution_count": 37,
   "id": "6cee9788",
   "metadata": {
    "execution": {
     "iopub.execute_input": "2023-05-25T06:23:45.058172Z",
     "iopub.status.busy": "2023-05-25T06:23:45.057796Z",
     "iopub.status.idle": "2023-05-25T06:23:45.062115Z",
     "shell.execute_reply": "2023-05-25T06:23:45.061233Z"
    },
    "papermill": {
     "duration": 0.029451,
     "end_time": "2023-05-25T06:23:45.063994",
     "exception": false,
     "start_time": "2023-05-25T06:23:45.034543",
     "status": "completed"
    },
    "tags": []
   },
   "outputs": [],
   "source": [
    "from sklearn.metrics import accuracy_score"
   ]
  },
  {
   "cell_type": "code",
   "execution_count": 38,
   "id": "1377f08c",
   "metadata": {
    "execution": {
     "iopub.execute_input": "2023-05-25T06:23:45.108258Z",
     "iopub.status.busy": "2023-05-25T06:23:45.107677Z",
     "iopub.status.idle": "2023-05-25T06:23:45.113419Z",
     "shell.execute_reply": "2023-05-25T06:23:45.112861Z"
    },
    "papermill": {
     "duration": 0.029727,
     "end_time": "2023-05-25T06:23:45.114861",
     "exception": false,
     "start_time": "2023-05-25T06:23:45.085134",
     "status": "completed"
    },
    "tags": []
   },
   "outputs": [
    {
     "data": {
      "text/plain": [
       "0.8314606741573034"
      ]
     },
     "execution_count": 38,
     "metadata": {},
     "output_type": "execute_result"
    }
   ],
   "source": [
    "accuracy_score(y_test,predication)"
   ]
  },
  {
   "cell_type": "markdown",
   "id": "490d6588",
   "metadata": {
    "papermill": {
     "duration": 0.021599,
     "end_time": "2023-05-25T06:23:45.158259",
     "exception": false,
     "start_time": "2023-05-25T06:23:45.136660",
     "status": "completed"
    },
    "tags": []
   },
   "source": [
    "83 %"
   ]
  },
  {
   "cell_type": "markdown",
   "id": "b71029c5",
   "metadata": {
    "papermill": {
     "duration": 0.020941,
     "end_time": "2023-05-25T06:23:45.201087",
     "exception": false,
     "start_time": "2023-05-25T06:23:45.180146",
     "status": "completed"
    },
    "tags": []
   },
   "source": [
    "# Import Test data"
   ]
  },
  {
   "cell_type": "code",
   "execution_count": 39,
   "id": "d19db52d",
   "metadata": {
    "execution": {
     "iopub.execute_input": "2023-05-25T06:23:45.247457Z",
     "iopub.status.busy": "2023-05-25T06:23:45.246895Z",
     "iopub.status.idle": "2023-05-25T06:23:45.258565Z",
     "shell.execute_reply": "2023-05-25T06:23:45.257975Z"
    },
    "papermill": {
     "duration": 0.036689,
     "end_time": "2023-05-25T06:23:45.260878",
     "exception": false,
     "start_time": "2023-05-25T06:23:45.224189",
     "status": "completed"
    },
    "tags": []
   },
   "outputs": [],
   "source": [
    "test_df = pd.read_csv('/kaggle/input/titanic/test.csv')"
   ]
  },
  {
   "cell_type": "code",
   "execution_count": 40,
   "id": "38bbc841",
   "metadata": {
    "execution": {
     "iopub.execute_input": "2023-05-25T06:23:45.307562Z",
     "iopub.status.busy": "2023-05-25T06:23:45.307235Z",
     "iopub.status.idle": "2023-05-25T06:23:45.320705Z",
     "shell.execute_reply": "2023-05-25T06:23:45.319803Z"
    },
    "papermill": {
     "duration": 0.038345,
     "end_time": "2023-05-25T06:23:45.322484",
     "exception": false,
     "start_time": "2023-05-25T06:23:45.284139",
     "status": "completed"
    },
    "tags": []
   },
   "outputs": [
    {
     "data": {
      "text/html": [
       "<div>\n",
       "<style scoped>\n",
       "    .dataframe tbody tr th:only-of-type {\n",
       "        vertical-align: middle;\n",
       "    }\n",
       "\n",
       "    .dataframe tbody tr th {\n",
       "        vertical-align: top;\n",
       "    }\n",
       "\n",
       "    .dataframe thead th {\n",
       "        text-align: right;\n",
       "    }\n",
       "</style>\n",
       "<table border=\"1\" class=\"dataframe\">\n",
       "  <thead>\n",
       "    <tr style=\"text-align: right;\">\n",
       "      <th></th>\n",
       "      <th>PassengerId</th>\n",
       "      <th>Pclass</th>\n",
       "      <th>Name</th>\n",
       "      <th>Sex</th>\n",
       "      <th>Age</th>\n",
       "      <th>SibSp</th>\n",
       "      <th>Parch</th>\n",
       "      <th>Ticket</th>\n",
       "      <th>Fare</th>\n",
       "      <th>Cabin</th>\n",
       "      <th>Embarked</th>\n",
       "    </tr>\n",
       "  </thead>\n",
       "  <tbody>\n",
       "    <tr>\n",
       "      <th>0</th>\n",
       "      <td>892</td>\n",
       "      <td>3</td>\n",
       "      <td>Kelly, Mr. James</td>\n",
       "      <td>male</td>\n",
       "      <td>34.5</td>\n",
       "      <td>0</td>\n",
       "      <td>0</td>\n",
       "      <td>330911</td>\n",
       "      <td>7.8292</td>\n",
       "      <td>NaN</td>\n",
       "      <td>Q</td>\n",
       "    </tr>\n",
       "    <tr>\n",
       "      <th>1</th>\n",
       "      <td>893</td>\n",
       "      <td>3</td>\n",
       "      <td>Wilkes, Mrs. James (Ellen Needs)</td>\n",
       "      <td>female</td>\n",
       "      <td>47.0</td>\n",
       "      <td>1</td>\n",
       "      <td>0</td>\n",
       "      <td>363272</td>\n",
       "      <td>7.0000</td>\n",
       "      <td>NaN</td>\n",
       "      <td>S</td>\n",
       "    </tr>\n",
       "    <tr>\n",
       "      <th>2</th>\n",
       "      <td>894</td>\n",
       "      <td>2</td>\n",
       "      <td>Myles, Mr. Thomas Francis</td>\n",
       "      <td>male</td>\n",
       "      <td>62.0</td>\n",
       "      <td>0</td>\n",
       "      <td>0</td>\n",
       "      <td>240276</td>\n",
       "      <td>9.6875</td>\n",
       "      <td>NaN</td>\n",
       "      <td>Q</td>\n",
       "    </tr>\n",
       "    <tr>\n",
       "      <th>3</th>\n",
       "      <td>895</td>\n",
       "      <td>3</td>\n",
       "      <td>Wirz, Mr. Albert</td>\n",
       "      <td>male</td>\n",
       "      <td>27.0</td>\n",
       "      <td>0</td>\n",
       "      <td>0</td>\n",
       "      <td>315154</td>\n",
       "      <td>8.6625</td>\n",
       "      <td>NaN</td>\n",
       "      <td>S</td>\n",
       "    </tr>\n",
       "    <tr>\n",
       "      <th>4</th>\n",
       "      <td>896</td>\n",
       "      <td>3</td>\n",
       "      <td>Hirvonen, Mrs. Alexander (Helga E Lindqvist)</td>\n",
       "      <td>female</td>\n",
       "      <td>22.0</td>\n",
       "      <td>1</td>\n",
       "      <td>1</td>\n",
       "      <td>3101298</td>\n",
       "      <td>12.2875</td>\n",
       "      <td>NaN</td>\n",
       "      <td>S</td>\n",
       "    </tr>\n",
       "  </tbody>\n",
       "</table>\n",
       "</div>"
      ],
      "text/plain": [
       "   PassengerId  Pclass                                          Name     Sex  \\\n",
       "0          892       3                              Kelly, Mr. James    male   \n",
       "1          893       3              Wilkes, Mrs. James (Ellen Needs)  female   \n",
       "2          894       2                     Myles, Mr. Thomas Francis    male   \n",
       "3          895       3                              Wirz, Mr. Albert    male   \n",
       "4          896       3  Hirvonen, Mrs. Alexander (Helga E Lindqvist)  female   \n",
       "\n",
       "    Age  SibSp  Parch   Ticket     Fare Cabin Embarked  \n",
       "0  34.5      0      0   330911   7.8292   NaN        Q  \n",
       "1  47.0      1      0   363272   7.0000   NaN        S  \n",
       "2  62.0      0      0   240276   9.6875   NaN        Q  \n",
       "3  27.0      0      0   315154   8.6625   NaN        S  \n",
       "4  22.0      1      1  3101298  12.2875   NaN        S  "
      ]
     },
     "execution_count": 40,
     "metadata": {},
     "output_type": "execute_result"
    }
   ],
   "source": [
    "test_df.head()"
   ]
  },
  {
   "cell_type": "markdown",
   "id": "8570a9e4",
   "metadata": {
    "papermill": {
     "duration": 0.021392,
     "end_time": "2023-05-25T06:23:45.365656",
     "exception": false,
     "start_time": "2023-05-25T06:23:45.344264",
     "status": "completed"
    },
    "tags": []
   },
   "source": [
    "# Cleaning Data"
   ]
  },
  {
   "cell_type": "code",
   "execution_count": 41,
   "id": "d5402ee0",
   "metadata": {
    "execution": {
     "iopub.execute_input": "2023-05-25T06:23:45.412703Z",
     "iopub.status.busy": "2023-05-25T06:23:45.411521Z",
     "iopub.status.idle": "2023-05-25T06:23:45.708361Z",
     "shell.execute_reply": "2023-05-25T06:23:45.707676Z"
    },
    "papermill": {
     "duration": 0.322084,
     "end_time": "2023-05-25T06:23:45.709993",
     "exception": false,
     "start_time": "2023-05-25T06:23:45.387909",
     "status": "completed"
    },
    "tags": []
   },
   "outputs": [
    {
     "data": {
      "text/plain": [
       "<AxesSubplot: >"
      ]
     },
     "execution_count": 41,
     "metadata": {},
     "output_type": "execute_result"
    },
    {
     "data": {
      "image/png": "[encoded data removed]",
      "text/plain": [
       "<Figure size 640x480 with 2 Axes>"
      ]
     },
     "metadata": {},
     "output_type": "display_data"
    }
   ],
   "source": [
    "sns.heatmap(test_df.isnull(),yticklabels=False,cmap = 'viridis')"
   ]
  },
  {
   "cell_type": "code",
   "execution_count": 42,
   "id": "ae26a049",
   "metadata": {
    "execution": {
     "iopub.execute_input": "2023-05-25T06:23:45.755919Z",
     "iopub.status.busy": "2023-05-25T06:23:45.754718Z",
     "iopub.status.idle": "2023-05-25T06:23:45.760900Z",
     "shell.execute_reply": "2023-05-25T06:23:45.760291Z"
    },
    "papermill": {
     "duration": 0.030443,
     "end_time": "2023-05-25T06:23:45.762490",
     "exception": false,
     "start_time": "2023-05-25T06:23:45.732047",
     "status": "completed"
    },
    "tags": []
   },
   "outputs": [],
   "source": [
    "def fill_age_null_value(col):\n",
    "    Age = col[0]\n",
    "    Pclass = col[1]\n",
    "    \n",
    "    if pd.isnull(Age):\n",
    "        if Pclass == 1:\n",
    "            return 37\n",
    "        elif Pclass == 2:\n",
    "            return 28\n",
    "        else:\n",
    "            return 25\n",
    "    else:\n",
    "        return Age"
   ]
  },
  {
   "cell_type": "code",
   "execution_count": 43,
   "id": "b259c698",
   "metadata": {
    "execution": {
     "iopub.execute_input": "2023-05-25T06:23:45.808508Z",
     "iopub.status.busy": "2023-05-25T06:23:45.807288Z",
     "iopub.status.idle": "2023-05-25T06:23:45.818450Z",
     "shell.execute_reply": "2023-05-25T06:23:45.817452Z"
    },
    "papermill": {
     "duration": 0.036437,
     "end_time": "2023-05-25T06:23:45.820780",
     "exception": false,
     "start_time": "2023-05-25T06:23:45.784343",
     "status": "completed"
    },
    "tags": []
   },
   "outputs": [],
   "source": [
    "test_df['Age'] = test_df[['Age','Pclass']].apply(fill_age_null_value,axis=1)"
   ]
  },
  {
   "cell_type": "code",
   "execution_count": 44,
   "id": "b9a20730",
   "metadata": {
    "execution": {
     "iopub.execute_input": "2023-05-25T06:23:45.868227Z",
     "iopub.status.busy": "2023-05-25T06:23:45.867511Z",
     "iopub.status.idle": "2023-05-25T06:23:46.154718Z",
     "shell.execute_reply": "2023-05-25T06:23:46.153768Z"
    },
    "papermill": {
     "duration": 0.313382,
     "end_time": "2023-05-25T06:23:46.157337",
     "exception": false,
     "start_time": "2023-05-25T06:23:45.843955",
     "status": "completed"
    },
    "tags": []
   },
   "outputs": [
    {
     "data": {
      "text/plain": [
       "<AxesSubplot: >"
      ]
     },
     "execution_count": 44,
     "metadata": {},
     "output_type": "execute_result"
    },
    {
     "data": {
      "image/png": "[encoded data removed]",
      "text/plain": [
       "<Figure size 640x480 with 2 Axes>"
      ]
     },
     "metadata": {},
     "output_type": "display_data"
    }
   ],
   "source": [
    "sns.heatmap(test_df.isnull(),yticklabels=False,cmap = 'viridis')"
   ]
  },
  {
   "cell_type": "code",
   "execution_count": 45,
   "id": "18f5fb12",
   "metadata": {
    "execution": {
     "iopub.execute_input": "2023-05-25T06:23:46.206165Z",
     "iopub.status.busy": "2023-05-25T06:23:46.204990Z",
     "iopub.status.idle": "2023-05-25T06:23:46.210389Z",
     "shell.execute_reply": "2023-05-25T06:23:46.209736Z"
    },
    "papermill": {
     "duration": 0.031802,
     "end_time": "2023-05-25T06:23:46.212094",
     "exception": false,
     "start_time": "2023-05-25T06:23:46.180292",
     "status": "completed"
    },
    "tags": []
   },
   "outputs": [],
   "source": [
    "test_df.drop('Cabin',axis = 1,inplace = True)"
   ]
  },
  {
   "cell_type": "markdown",
   "id": "4c301993",
   "metadata": {
    "papermill": {
     "duration": 0.022754,
     "end_time": "2023-05-25T06:23:46.257887",
     "exception": false,
     "start_time": "2023-05-25T06:23:46.235133",
     "status": "completed"
    },
    "tags": []
   },
   "source": [
    "# Fill Fare nan value with median"
   ]
  },
  {
   "cell_type": "code",
   "execution_count": 46,
   "id": "6babc4ec",
   "metadata": {
    "execution": {
     "iopub.execute_input": "2023-05-25T06:23:46.306535Z",
     "iopub.status.busy": "2023-05-25T06:23:46.305955Z",
     "iopub.status.idle": "2023-05-25T06:23:46.311257Z",
     "shell.execute_reply": "2023-05-25T06:23:46.310293Z"
    },
    "papermill": {
     "duration": 0.032173,
     "end_time": "2023-05-25T06:23:46.313612",
     "exception": false,
     "start_time": "2023-05-25T06:23:46.281439",
     "status": "completed"
    },
    "tags": []
   },
   "outputs": [],
   "source": [
    "test_df['Fare'] = test_df['Fare'].fillna(test_df['Fare'].median())"
   ]
  },
  {
   "cell_type": "code",
   "execution_count": 47,
   "id": "4e09813f",
   "metadata": {
    "execution": {
     "iopub.execute_input": "2023-05-25T06:23:46.362100Z",
     "iopub.status.busy": "2023-05-25T06:23:46.361731Z",
     "iopub.status.idle": "2023-05-25T06:23:46.684544Z",
     "shell.execute_reply": "2023-05-25T06:23:46.683744Z"
    },
    "papermill": {
     "duration": 0.349139,
     "end_time": "2023-05-25T06:23:46.686389",
     "exception": false,
     "start_time": "2023-05-25T06:23:46.337250",
     "status": "completed"
    },
    "tags": []
   },
   "outputs": [
    {
     "data": {
      "text/plain": [
       "<AxesSubplot: >"
      ]
     },
     "execution_count": 47,
     "metadata": {},
     "output_type": "execute_result"
    },
    {
     "data": {
      "image/png": "[encoded data removed]",
      "text/plain": [
       "<Figure size 640x480 with 2 Axes>"
      ]
     },
     "metadata": {},
     "output_type": "display_data"
    }
   ],
   "source": [
    "sns.heatmap(test_df.isnull(),yticklabels=False,cmap = 'viridis')"
   ]
  },
  {
   "cell_type": "markdown",
   "id": "f730e2f5",
   "metadata": {
    "papermill": {
     "duration": 0.022671,
     "end_time": "2023-05-25T06:23:46.732396",
     "exception": false,
     "start_time": "2023-05-25T06:23:46.709725",
     "status": "completed"
    },
    "tags": []
   },
   "source": [
    "NO null value in this data frame"
   ]
  },
  {
   "cell_type": "markdown",
   "id": "abfb9f1d",
   "metadata": {
    "papermill": {
     "duration": 0.022601,
     "end_time": "2023-05-25T06:23:46.778375",
     "exception": false,
     "start_time": "2023-05-25T06:23:46.755774",
     "status": "completed"
    },
    "tags": []
   },
   "source": [
    "# Create dummies for LogisticRegression "
   ]
  },
  {
   "cell_type": "code",
   "execution_count": 48,
   "id": "a6db2d70",
   "metadata": {
    "execution": {
     "iopub.execute_input": "2023-05-25T06:23:46.825397Z",
     "iopub.status.busy": "2023-05-25T06:23:46.824882Z",
     "iopub.status.idle": "2023-05-25T06:23:46.830373Z",
     "shell.execute_reply": "2023-05-25T06:23:46.829742Z"
    },
    "papermill": {
     "duration": 0.030877,
     "end_time": "2023-05-25T06:23:46.831938",
     "exception": false,
     "start_time": "2023-05-25T06:23:46.801061",
     "status": "completed"
    },
    "tags": []
   },
   "outputs": [],
   "source": [
    "sex1 = pd.get_dummies(test_df['Sex'],drop_first=True)\n",
    "embark1 = pd.get_dummies(test_df['Embarked'],drop_first=True)"
   ]
  },
  {
   "cell_type": "code",
   "execution_count": 49,
   "id": "88145052",
   "metadata": {
    "execution": {
     "iopub.execute_input": "2023-05-25T06:23:46.878714Z",
     "iopub.status.busy": "2023-05-25T06:23:46.878221Z",
     "iopub.status.idle": "2023-05-25T06:23:46.882696Z",
     "shell.execute_reply": "2023-05-25T06:23:46.882108Z"
    },
    "papermill": {
     "duration": 0.030779,
     "end_time": "2023-05-25T06:23:46.884974",
     "exception": false,
     "start_time": "2023-05-25T06:23:46.854195",
     "status": "completed"
    },
    "tags": []
   },
   "outputs": [],
   "source": [
    "test_df.drop(['Sex','Embarked','Name','Ticket'],axis=1,inplace=True)"
   ]
  },
  {
   "cell_type": "code",
   "execution_count": 50,
   "id": "1a198df0",
   "metadata": {
    "execution": {
     "iopub.execute_input": "2023-05-25T06:23:46.933943Z",
     "iopub.status.busy": "2023-05-25T06:23:46.933408Z",
     "iopub.status.idle": "2023-05-25T06:23:46.938269Z",
     "shell.execute_reply": "2023-05-25T06:23:46.937666Z"
    },
    "papermill": {
     "duration": 0.031103,
     "end_time": "2023-05-25T06:23:46.939935",
     "exception": false,
     "start_time": "2023-05-25T06:23:46.908832",
     "status": "completed"
    },
    "tags": []
   },
   "outputs": [],
   "source": [
    "test_df = pd.concat([test_df,sex1,embark1],axis = 1)"
   ]
  },
  {
   "cell_type": "code",
   "execution_count": 51,
   "id": "8d53ed0d",
   "metadata": {
    "execution": {
     "iopub.execute_input": "2023-05-25T06:23:46.987432Z",
     "iopub.status.busy": "2023-05-25T06:23:46.986905Z",
     "iopub.status.idle": "2023-05-25T06:23:46.997972Z",
     "shell.execute_reply": "2023-05-25T06:23:46.997122Z"
    },
    "papermill": {
     "duration": 0.036477,
     "end_time": "2023-05-25T06:23:46.999644",
     "exception": false,
     "start_time": "2023-05-25T06:23:46.963167",
     "status": "completed"
    },
    "tags": []
   },
   "outputs": [
    {
     "data": {
      "text/html": [
       "<div>\n",
       "<style scoped>\n",
       "    .dataframe tbody tr th:only-of-type {\n",
       "        vertical-align: middle;\n",
       "    }\n",
       "\n",
       "    .dataframe tbody tr th {\n",
       "        vertical-align: top;\n",
       "    }\n",
       "\n",
       "    .dataframe thead th {\n",
       "        text-align: right;\n",
       "    }\n",
       "</style>\n",
       "<table border=\"1\" class=\"dataframe\">\n",
       "  <thead>\n",
       "    <tr style=\"text-align: right;\">\n",
       "      <th></th>\n",
       "      <th>PassengerId</th>\n",
       "      <th>Pclass</th>\n",
       "      <th>Age</th>\n",
       "      <th>SibSp</th>\n",
       "      <th>Parch</th>\n",
       "      <th>Fare</th>\n",
       "      <th>male</th>\n",
       "      <th>Q</th>\n",
       "      <th>S</th>\n",
       "    </tr>\n",
       "  </thead>\n",
       "  <tbody>\n",
       "    <tr>\n",
       "      <th>0</th>\n",
       "      <td>892</td>\n",
       "      <td>3</td>\n",
       "      <td>34.5</td>\n",
       "      <td>0</td>\n",
       "      <td>0</td>\n",
       "      <td>7.8292</td>\n",
       "      <td>1</td>\n",
       "      <td>1</td>\n",
       "      <td>0</td>\n",
       "    </tr>\n",
       "    <tr>\n",
       "      <th>1</th>\n",
       "      <td>893</td>\n",
       "      <td>3</td>\n",
       "      <td>47.0</td>\n",
       "      <td>1</td>\n",
       "      <td>0</td>\n",
       "      <td>7.0000</td>\n",
       "      <td>0</td>\n",
       "      <td>0</td>\n",
       "      <td>1</td>\n",
       "    </tr>\n",
       "    <tr>\n",
       "      <th>2</th>\n",
       "      <td>894</td>\n",
       "      <td>2</td>\n",
       "      <td>62.0</td>\n",
       "      <td>0</td>\n",
       "      <td>0</td>\n",
       "      <td>9.6875</td>\n",
       "      <td>1</td>\n",
       "      <td>1</td>\n",
       "      <td>0</td>\n",
       "    </tr>\n",
       "    <tr>\n",
       "      <th>3</th>\n",
       "      <td>895</td>\n",
       "      <td>3</td>\n",
       "      <td>27.0</td>\n",
       "      <td>0</td>\n",
       "      <td>0</td>\n",
       "      <td>8.6625</td>\n",
       "      <td>1</td>\n",
       "      <td>0</td>\n",
       "      <td>1</td>\n",
       "    </tr>\n",
       "    <tr>\n",
       "      <th>4</th>\n",
       "      <td>896</td>\n",
       "      <td>3</td>\n",
       "      <td>22.0</td>\n",
       "      <td>1</td>\n",
       "      <td>1</td>\n",
       "      <td>12.2875</td>\n",
       "      <td>0</td>\n",
       "      <td>0</td>\n",
       "      <td>1</td>\n",
       "    </tr>\n",
       "  </tbody>\n",
       "</table>\n",
       "</div>"
      ],
      "text/plain": [
       "   PassengerId  Pclass   Age  SibSp  Parch     Fare  male  Q  S\n",
       "0          892       3  34.5      0      0   7.8292     1  1  0\n",
       "1          893       3  47.0      1      0   7.0000     0  0  1\n",
       "2          894       2  62.0      0      0   9.6875     1  1  0\n",
       "3          895       3  27.0      0      0   8.6625     1  0  1\n",
       "4          896       3  22.0      1      1  12.2875     0  0  1"
      ]
     },
     "execution_count": 51,
     "metadata": {},
     "output_type": "execute_result"
    }
   ],
   "source": [
    "test_df.head()"
   ]
  },
  {
   "cell_type": "code",
   "execution_count": 52,
   "id": "f4aebdb2",
   "metadata": {
    "execution": {
     "iopub.execute_input": "2023-05-25T06:23:47.047771Z",
     "iopub.status.busy": "2023-05-25T06:23:47.047232Z",
     "iopub.status.idle": "2023-05-25T06:23:47.060648Z",
     "shell.execute_reply": "2023-05-25T06:23:47.059822Z"
    },
    "papermill": {
     "duration": 0.039459,
     "end_time": "2023-05-25T06:23:47.062376",
     "exception": false,
     "start_time": "2023-05-25T06:23:47.022917",
     "status": "completed"
    },
    "tags": []
   },
   "outputs": [
    {
     "data": {
      "text/html": [
       "<div>\n",
       "<style scoped>\n",
       "    .dataframe tbody tr th:only-of-type {\n",
       "        vertical-align: middle;\n",
       "    }\n",
       "\n",
       "    .dataframe tbody tr th {\n",
       "        vertical-align: top;\n",
       "    }\n",
       "\n",
       "    .dataframe thead th {\n",
       "        text-align: right;\n",
       "    }\n",
       "</style>\n",
       "<table border=\"1\" class=\"dataframe\">\n",
       "  <thead>\n",
       "    <tr style=\"text-align: right;\">\n",
       "      <th></th>\n",
       "      <th>PassengerId</th>\n",
       "      <th>Pclass</th>\n",
       "      <th>Age</th>\n",
       "      <th>SibSp</th>\n",
       "      <th>Parch</th>\n",
       "      <th>Fare</th>\n",
       "      <th>male</th>\n",
       "      <th>Q</th>\n",
       "      <th>S</th>\n",
       "    </tr>\n",
       "  </thead>\n",
       "  <tbody>\n",
       "    <tr>\n",
       "      <th>0</th>\n",
       "      <td>892</td>\n",
       "      <td>3</td>\n",
       "      <td>34.5</td>\n",
       "      <td>0</td>\n",
       "      <td>0</td>\n",
       "      <td>7.8292</td>\n",
       "      <td>1</td>\n",
       "      <td>1</td>\n",
       "      <td>0</td>\n",
       "    </tr>\n",
       "    <tr>\n",
       "      <th>1</th>\n",
       "      <td>893</td>\n",
       "      <td>3</td>\n",
       "      <td>47.0</td>\n",
       "      <td>1</td>\n",
       "      <td>0</td>\n",
       "      <td>7.0000</td>\n",
       "      <td>0</td>\n",
       "      <td>0</td>\n",
       "      <td>1</td>\n",
       "    </tr>\n",
       "    <tr>\n",
       "      <th>2</th>\n",
       "      <td>894</td>\n",
       "      <td>2</td>\n",
       "      <td>62.0</td>\n",
       "      <td>0</td>\n",
       "      <td>0</td>\n",
       "      <td>9.6875</td>\n",
       "      <td>1</td>\n",
       "      <td>1</td>\n",
       "      <td>0</td>\n",
       "    </tr>\n",
       "    <tr>\n",
       "      <th>3</th>\n",
       "      <td>895</td>\n",
       "      <td>3</td>\n",
       "      <td>27.0</td>\n",
       "      <td>0</td>\n",
       "      <td>0</td>\n",
       "      <td>8.6625</td>\n",
       "      <td>1</td>\n",
       "      <td>0</td>\n",
       "      <td>1</td>\n",
       "    </tr>\n",
       "    <tr>\n",
       "      <th>4</th>\n",
       "      <td>896</td>\n",
       "      <td>3</td>\n",
       "      <td>22.0</td>\n",
       "      <td>1</td>\n",
       "      <td>1</td>\n",
       "      <td>12.2875</td>\n",
       "      <td>0</td>\n",
       "      <td>0</td>\n",
       "      <td>1</td>\n",
       "    </tr>\n",
       "    <tr>\n",
       "      <th>...</th>\n",
       "      <td>...</td>\n",
       "      <td>...</td>\n",
       "      <td>...</td>\n",
       "      <td>...</td>\n",
       "      <td>...</td>\n",
       "      <td>...</td>\n",
       "      <td>...</td>\n",
       "      <td>...</td>\n",
       "      <td>...</td>\n",
       "    </tr>\n",
       "    <tr>\n",
       "      <th>413</th>\n",
       "      <td>1305</td>\n",
       "      <td>3</td>\n",
       "      <td>25.0</td>\n",
       "      <td>0</td>\n",
       "      <td>0</td>\n",
       "      <td>8.0500</td>\n",
       "      <td>1</td>\n",
       "      <td>0</td>\n",
       "      <td>1</td>\n",
       "    </tr>\n",
       "    <tr>\n",
       "      <th>414</th>\n",
       "      <td>1306</td>\n",
       "      <td>1</td>\n",
       "      <td>39.0</td>\n",
       "      <td>0</td>\n",
       "      <td>0</td>\n",
       "      <td>108.9000</td>\n",
       "      <td>0</td>\n",
       "      <td>0</td>\n",
       "      <td>0</td>\n",
       "    </tr>\n",
       "    <tr>\n",
       "      <th>415</th>\n",
       "      <td>1307</td>\n",
       "      <td>3</td>\n",
       "      <td>38.5</td>\n",
       "      <td>0</td>\n",
       "      <td>0</td>\n",
       "      <td>7.2500</td>\n",
       "      <td>1</td>\n",
       "      <td>0</td>\n",
       "      <td>1</td>\n",
       "    </tr>\n",
       "    <tr>\n",
       "      <th>416</th>\n",
       "      <td>1308</td>\n",
       "      <td>3</td>\n",
       "      <td>25.0</td>\n",
       "      <td>0</td>\n",
       "      <td>0</td>\n",
       "      <td>8.0500</td>\n",
       "      <td>1</td>\n",
       "      <td>0</td>\n",
       "      <td>1</td>\n",
       "    </tr>\n",
       "    <tr>\n",
       "      <th>417</th>\n",
       "      <td>1309</td>\n",
       "      <td>3</td>\n",
       "      <td>25.0</td>\n",
       "      <td>1</td>\n",
       "      <td>1</td>\n",
       "      <td>22.3583</td>\n",
       "      <td>1</td>\n",
       "      <td>0</td>\n",
       "      <td>0</td>\n",
       "    </tr>\n",
       "  </tbody>\n",
       "</table>\n",
       "<p>418 rows × 9 columns</p>\n",
       "</div>"
      ],
      "text/plain": [
       "     PassengerId  Pclass   Age  SibSp  Parch      Fare  male  Q  S\n",
       "0            892       3  34.5      0      0    7.8292     1  1  0\n",
       "1            893       3  47.0      1      0    7.0000     0  0  1\n",
       "2            894       2  62.0      0      0    9.6875     1  1  0\n",
       "3            895       3  27.0      0      0    8.6625     1  0  1\n",
       "4            896       3  22.0      1      1   12.2875     0  0  1\n",
       "..           ...     ...   ...    ...    ...       ...   ... .. ..\n",
       "413         1305       3  25.0      0      0    8.0500     1  0  1\n",
       "414         1306       1  39.0      0      0  108.9000     0  0  0\n",
       "415         1307       3  38.5      0      0    7.2500     1  0  1\n",
       "416         1308       3  25.0      0      0    8.0500     1  0  1\n",
       "417         1309       3  25.0      1      1   22.3583     1  0  0\n",
       "\n",
       "[418 rows x 9 columns]"
      ]
     },
     "execution_count": 52,
     "metadata": {},
     "output_type": "execute_result"
    }
   ],
   "source": [
    "test_df"
   ]
  },
  {
   "cell_type": "code",
   "execution_count": 53,
   "id": "f1dadcbe",
   "metadata": {
    "execution": {
     "iopub.execute_input": "2023-05-25T06:23:47.112128Z",
     "iopub.status.busy": "2023-05-25T06:23:47.111545Z",
     "iopub.status.idle": "2023-05-25T06:23:47.119114Z",
     "shell.execute_reply": "2023-05-25T06:23:47.118247Z"
    },
    "papermill": {
     "duration": 0.035209,
     "end_time": "2023-05-25T06:23:47.121214",
     "exception": false,
     "start_time": "2023-05-25T06:23:47.086005",
     "status": "completed"
    },
    "tags": []
   },
   "outputs": [
    {
     "data": {
      "text/plain": [
       "PassengerId    0\n",
       "Pclass         0\n",
       "Age            0\n",
       "SibSp          0\n",
       "Parch          0\n",
       "Fare           0\n",
       "male           0\n",
       "Q              0\n",
       "S              0\n",
       "dtype: int64"
      ]
     },
     "execution_count": 53,
     "metadata": {},
     "output_type": "execute_result"
    }
   ],
   "source": [
    "test_df.isnull().sum()"
   ]
  },
  {
   "cell_type": "code",
   "execution_count": 54,
   "id": "9125bfb8",
   "metadata": {
    "execution": {
     "iopub.execute_input": "2023-05-25T06:23:47.170696Z",
     "iopub.status.busy": "2023-05-25T06:23:47.170331Z",
     "iopub.status.idle": "2023-05-25T06:23:47.175352Z",
     "shell.execute_reply": "2023-05-25T06:23:47.174551Z"
    },
    "papermill": {
     "duration": 0.032004,
     "end_time": "2023-05-25T06:23:47.176904",
     "exception": false,
     "start_time": "2023-05-25T06:23:47.144900",
     "status": "completed"
    },
    "tags": []
   },
   "outputs": [],
   "source": [
    "test_df = test_df.drop('PassengerId', axis=1)"
   ]
  },
  {
   "cell_type": "markdown",
   "id": "602e02fe",
   "metadata": {
    "papermill": {
     "duration": 0.024418,
     "end_time": "2023-05-25T06:23:47.225301",
     "exception": false,
     "start_time": "2023-05-25T06:23:47.200883",
     "status": "completed"
    },
    "tags": []
   },
   "source": [
    "# Predict Test data set "
   ]
  },
  {
   "cell_type": "code",
   "execution_count": 55,
   "id": "b5490027",
   "metadata": {
    "execution": {
     "iopub.execute_input": "2023-05-25T06:23:47.275025Z",
     "iopub.status.busy": "2023-05-25T06:23:47.273449Z",
     "iopub.status.idle": "2023-05-25T06:23:47.281324Z",
     "shell.execute_reply": "2023-05-25T06:23:47.280327Z"
    },
    "papermill": {
     "duration": 0.034162,
     "end_time": "2023-05-25T06:23:47.283052",
     "exception": false,
     "start_time": "2023-05-25T06:23:47.248890",
     "status": "completed"
    },
    "tags": []
   },
   "outputs": [],
   "source": [
    "predictions1 = log.predict(test_df)"
   ]
  },
  {
   "cell_type": "code",
   "execution_count": 56,
   "id": "60ba1df6",
   "metadata": {
    "execution": {
     "iopub.execute_input": "2023-05-25T06:23:47.331891Z",
     "iopub.status.busy": "2023-05-25T06:23:47.331494Z",
     "iopub.status.idle": "2023-05-25T06:23:47.338399Z",
     "shell.execute_reply": "2023-05-25T06:23:47.337021Z"
    },
    "papermill": {
     "duration": 0.033886,
     "end_time": "2023-05-25T06:23:47.340776",
     "exception": false,
     "start_time": "2023-05-25T06:23:47.306890",
     "status": "completed"
    },
    "tags": []
   },
   "outputs": [
    {
     "data": {
      "text/plain": [
       "array([0, 0, 0, 0, 1, 0, 1, 0, 1, 0, 0, 0, 1, 0, 1, 1, 0, 0, 1, 0, 0, 0,\n",
       "       1, 1, 1, 0, 1, 0, 0, 0, 0, 0, 0, 0, 1, 0, 1, 1, 0, 0, 0, 0, 0, 1,\n",
       "       1, 0, 0, 0, 1, 0, 0, 0, 1, 1, 0, 0, 0, 0, 0, 1, 0, 0, 0, 1, 1, 1,\n",
       "       1, 0, 1, 1, 1, 0, 1, 1, 1, 1, 0, 1, 0, 1, 0, 0, 0, 0, 0, 0, 1, 1,\n",
       "       1, 0, 1, 0, 1, 0, 1, 0, 1, 0, 1, 0, 1, 0, 0, 0, 1, 0, 0, 0, 0, 0,\n",
       "       0, 1, 1, 1, 1, 0, 0, 1, 1, 1, 1, 0, 1, 0, 0, 1, 0, 1, 0, 0, 0, 0,\n",
       "       1, 0, 0, 0, 0, 0, 1, 0, 0, 1, 0, 0, 0, 0, 0, 0, 0, 0, 1, 0, 0, 0,\n",
       "       0, 0, 1, 1, 0, 1, 1, 0, 1, 0, 0, 1, 0, 0, 1, 1, 0, 0, 0, 0, 0, 1,\n",
       "       1, 0, 1, 1, 0, 0, 1, 0, 1, 0, 1, 0, 0, 0, 0, 0, 0, 0, 0, 0, 1, 1,\n",
       "       0, 1, 1, 0, 0, 1, 0, 0, 1, 0, 1, 0, 0, 0, 0, 0, 0, 0, 1, 0, 1, 0,\n",
       "       1, 0, 1, 0, 1, 1, 0, 1, 0, 0, 0, 1, 0, 0, 0, 0, 0, 0, 1, 1, 1, 1,\n",
       "       0, 0, 0, 0, 1, 0, 1, 1, 1, 0, 1, 0, 0, 0, 0, 0, 1, 0, 0, 0, 1, 1,\n",
       "       0, 0, 0, 0, 1, 0, 0, 0, 1, 1, 0, 1, 0, 0, 0, 0, 1, 0, 1, 1, 1, 0,\n",
       "       0, 1, 0, 0, 0, 1, 0, 0, 0, 0, 1, 0, 0, 0, 0, 0, 0, 0, 1, 1, 0, 0,\n",
       "       0, 0, 0, 0, 0, 1, 1, 1, 0, 0, 0, 0, 0, 0, 0, 0, 1, 0, 1, 0, 0, 0,\n",
       "       1, 0, 0, 1, 0, 0, 0, 0, 0, 0, 0, 0, 0, 1, 0, 1, 0, 1, 0, 1, 1, 0,\n",
       "       0, 0, 1, 0, 1, 0, 0, 0, 0, 1, 1, 0, 1, 0, 0, 1, 1, 0, 0, 1, 0, 0,\n",
       "       1, 1, 1, 0, 0, 0, 0, 0, 1, 1, 0, 1, 0, 0, 0, 0, 1, 1, 0, 0, 0, 1,\n",
       "       0, 1, 0, 0, 1, 0, 1, 1, 0, 0, 0, 0, 1, 1, 1, 1, 1, 0, 1, 0, 0, 0])"
      ]
     },
     "execution_count": 56,
     "metadata": {},
     "output_type": "execute_result"
    }
   ],
   "source": [
    "predictions1"
   ]
  },
  {
   "cell_type": "markdown",
   "id": "134b5812",
   "metadata": {
    "papermill": {
     "duration": 0.023842,
     "end_time": "2023-05-25T06:23:47.388945",
     "exception": false,
     "start_time": "2023-05-25T06:23:47.365103",
     "status": "completed"
    },
    "tags": []
   },
   "source": [
    "# Submit Prediction"
   ]
  },
  {
   "cell_type": "code",
   "execution_count": 57,
   "id": "8837f3b3",
   "metadata": {
    "execution": {
     "iopub.execute_input": "2023-05-25T06:23:47.438337Z",
     "iopub.status.busy": "2023-05-25T06:23:47.438015Z",
     "iopub.status.idle": "2023-05-25T06:23:47.446189Z",
     "shell.execute_reply": "2023-05-25T06:23:47.445251Z"
    },
    "papermill": {
     "duration": 0.035506,
     "end_time": "2023-05-25T06:23:47.448310",
     "exception": false,
     "start_time": "2023-05-25T06:23:47.412804",
     "status": "completed"
    },
    "tags": []
   },
   "outputs": [],
   "source": [
    "sub = pd.read_csv(\"/kaggle/input/titanic/gender_submission.csv\")"
   ]
  },
  {
   "cell_type": "code",
   "execution_count": 58,
   "id": "ba7098c7",
   "metadata": {
    "execution": {
     "iopub.execute_input": "2023-05-25T06:23:47.498277Z",
     "iopub.status.busy": "2023-05-25T06:23:47.497670Z",
     "iopub.status.idle": "2023-05-25T06:23:47.503043Z",
     "shell.execute_reply": "2023-05-25T06:23:47.502248Z"
    },
    "papermill": {
     "duration": 0.032735,
     "end_time": "2023-05-25T06:23:47.505267",
     "exception": false,
     "start_time": "2023-05-25T06:23:47.472532",
     "status": "completed"
    },
    "tags": []
   },
   "outputs": [
    {
     "data": {
      "text/plain": [
       "(418, 2)"
      ]
     },
     "execution_count": 58,
     "metadata": {},
     "output_type": "execute_result"
    }
   ],
   "source": [
    "sub.shape"
   ]
  },
  {
   "cell_type": "code",
   "execution_count": 59,
   "id": "999a5511",
   "metadata": {
    "execution": {
     "iopub.execute_input": "2023-05-25T06:23:47.554663Z",
     "iopub.status.busy": "2023-05-25T06:23:47.553989Z",
     "iopub.status.idle": "2023-05-25T06:23:47.561247Z",
     "shell.execute_reply": "2023-05-25T06:23:47.560668Z"
    },
    "papermill": {
     "duration": 0.033674,
     "end_time": "2023-05-25T06:23:47.562845",
     "exception": false,
     "start_time": "2023-05-25T06:23:47.529171",
     "status": "completed"
    },
    "tags": []
   },
   "outputs": [
    {
     "data": {
      "text/plain": [
       "PassengerId    0\n",
       "Survived       0\n",
       "dtype: int64"
      ]
     },
     "execution_count": 59,
     "metadata": {},
     "output_type": "execute_result"
    }
   ],
   "source": [
    "sub.isnull().sum()"
   ]
  },
  {
   "cell_type": "code",
   "execution_count": 60,
   "id": "cecbed1a",
   "metadata": {
    "execution": {
     "iopub.execute_input": "2023-05-25T06:23:47.615365Z",
     "iopub.status.busy": "2023-05-25T06:23:47.614813Z",
     "iopub.status.idle": "2023-05-25T06:23:47.619215Z",
     "shell.execute_reply": "2023-05-25T06:23:47.618501Z"
    },
    "papermill": {
     "duration": 0.033822,
     "end_time": "2023-05-25T06:23:47.620848",
     "exception": false,
     "start_time": "2023-05-25T06:23:47.587026",
     "status": "completed"
    },
    "tags": []
   },
   "outputs": [],
   "source": [
    "sub['Survived'] = predictions1"
   ]
  },
  {
   "cell_type": "code",
   "execution_count": 61,
   "id": "bf68ee93",
   "metadata": {
    "execution": {
     "iopub.execute_input": "2023-05-25T06:23:47.674992Z",
     "iopub.status.busy": "2023-05-25T06:23:47.674034Z",
     "iopub.status.idle": "2023-05-25T06:23:47.683779Z",
     "shell.execute_reply": "2023-05-25T06:23:47.682898Z"
    },
    "papermill": {
     "duration": 0.037655,
     "end_time": "2023-05-25T06:23:47.685503",
     "exception": false,
     "start_time": "2023-05-25T06:23:47.647848",
     "status": "completed"
    },
    "tags": []
   },
   "outputs": [
    {
     "data": {
      "text/html": [
       "<div>\n",
       "<style scoped>\n",
       "    .dataframe tbody tr th:only-of-type {\n",
       "        vertical-align: middle;\n",
       "    }\n",
       "\n",
       "    .dataframe tbody tr th {\n",
       "        vertical-align: top;\n",
       "    }\n",
       "\n",
       "    .dataframe thead th {\n",
       "        text-align: right;\n",
       "    }\n",
       "</style>\n",
       "<table border=\"1\" class=\"dataframe\">\n",
       "  <thead>\n",
       "    <tr style=\"text-align: right;\">\n",
       "      <th></th>\n",
       "      <th>PassengerId</th>\n",
       "      <th>Survived</th>\n",
       "    </tr>\n",
       "  </thead>\n",
       "  <tbody>\n",
       "    <tr>\n",
       "      <th>0</th>\n",
       "      <td>892</td>\n",
       "      <td>0</td>\n",
       "    </tr>\n",
       "    <tr>\n",
       "      <th>1</th>\n",
       "      <td>893</td>\n",
       "      <td>0</td>\n",
       "    </tr>\n",
       "    <tr>\n",
       "      <th>2</th>\n",
       "      <td>894</td>\n",
       "      <td>0</td>\n",
       "    </tr>\n",
       "    <tr>\n",
       "      <th>3</th>\n",
       "      <td>895</td>\n",
       "      <td>0</td>\n",
       "    </tr>\n",
       "    <tr>\n",
       "      <th>4</th>\n",
       "      <td>896</td>\n",
       "      <td>1</td>\n",
       "    </tr>\n",
       "    <tr>\n",
       "      <th>...</th>\n",
       "      <td>...</td>\n",
       "      <td>...</td>\n",
       "    </tr>\n",
       "    <tr>\n",
       "      <th>413</th>\n",
       "      <td>1305</td>\n",
       "      <td>0</td>\n",
       "    </tr>\n",
       "    <tr>\n",
       "      <th>414</th>\n",
       "      <td>1306</td>\n",
       "      <td>1</td>\n",
       "    </tr>\n",
       "    <tr>\n",
       "      <th>415</th>\n",
       "      <td>1307</td>\n",
       "      <td>0</td>\n",
       "    </tr>\n",
       "    <tr>\n",
       "      <th>416</th>\n",
       "      <td>1308</td>\n",
       "      <td>0</td>\n",
       "    </tr>\n",
       "    <tr>\n",
       "      <th>417</th>\n",
       "      <td>1309</td>\n",
       "      <td>0</td>\n",
       "    </tr>\n",
       "  </tbody>\n",
       "</table>\n",
       "<p>418 rows × 2 columns</p>\n",
       "</div>"
      ],
      "text/plain": [
       "     PassengerId  Survived\n",
       "0            892         0\n",
       "1            893         0\n",
       "2            894         0\n",
       "3            895         0\n",
       "4            896         1\n",
       "..           ...       ...\n",
       "413         1305         0\n",
       "414         1306         1\n",
       "415         1307         0\n",
       "416         1308         0\n",
       "417         1309         0\n",
       "\n",
       "[418 rows x 2 columns]"
      ]
     },
     "execution_count": 61,
     "metadata": {},
     "output_type": "execute_result"
    }
   ],
   "source": [
    "sub"
   ]
  },
  {
   "cell_type": "code",
   "execution_count": 62,
   "id": "fdd696e1",
   "metadata": {
    "execution": {
     "iopub.execute_input": "2023-05-25T06:23:47.735147Z",
     "iopub.status.busy": "2023-05-25T06:23:47.734532Z",
     "iopub.status.idle": "2023-05-25T06:23:47.744395Z",
     "shell.execute_reply": "2023-05-25T06:23:47.743341Z"
    },
    "papermill": {
     "duration": 0.036711,
     "end_time": "2023-05-25T06:23:47.746164",
     "exception": false,
     "start_time": "2023-05-25T06:23:47.709453",
     "status": "completed"
    },
    "tags": []
   },
   "outputs": [],
   "source": [
    "sub.to_csv(\"submission.csv\",index = False)"
   ]
  }
 ],
 "metadata": {
  "kernelspec": {
   "display_name": "Python 3",
   "language": "python",
   "name": "python3"
  },
  "language_info": {
   "codemirror_mode": {
    "name": "ipython",
    "version": 3
   },
   "file_extension": ".py",
   "mimetype": "text/x-python",
   "name": "python",
   "nbconvert_exporter": "python",
   "pygments_lexer": "ipython3",
   "version": "3.10.10"
  },
  "papermill": {
   "default_parameters": {},
   "duration": 20.898737,
   "end_time": "2023-05-25T06:23:48.691107",
   "environment_variables": {},
   "exception": null,
   "input_path": "__notebook__.ipynb",
   "output_path": "__notebook__.ipynb",
   "parameters": {},
   "start_time": "2023-05-25T06:23:27.792370",
   "version": "2.4.0"
  }
 },
 "nbformat": 4,
 "nbformat_minor": 5
}
