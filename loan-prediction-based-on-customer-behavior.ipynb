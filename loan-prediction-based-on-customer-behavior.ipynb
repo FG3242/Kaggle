{
 "cells": [
  {
   "cell_type": "code",
   "execution_count": 1,
   "id": "903e43c1",
   "metadata": {
    "_cell_guid": "b1076dfc-b9ad-4769-8c92-a6c4dae69d19",
    "_uuid": "8f2839f25d086af736a60e9eeb907d3b93b6e0e5",
    "execution": {
     "iopub.execute_input": "2023-11-13T15:33:54.989048Z",
     "iopub.status.busy": "2023-11-13T15:33:54.988659Z",
     "iopub.status.idle": "2023-11-13T15:33:57.652916Z",
     "shell.execute_reply": "2023-11-13T15:33:57.651529Z"
    },
    "papermill": {
     "duration": 2.679292,
     "end_time": "2023-11-13T15:33:57.655815",
     "exception": false,
     "start_time": "2023-11-13T15:33:54.976523",
     "status": "completed"
    },
    "tags": []
   },
   "outputs": [
    {
     "name": "stdout",
     "output_type": "stream",
     "text": [
      "/kaggle/input/loan-prediction-based-on-customer-behavior/Test Data.csv\n",
      "/kaggle/input/loan-prediction-based-on-customer-behavior/Training Data.csv\n",
      "/kaggle/input/loan-prediction-based-on-customer-behavior/Sample Prediction Dataset.csv\n"
     ]
    }
   ],
   "source": [
    "import numpy as np \n",
    "import pandas as pd \n",
    "import matplotlib.pyplot as plt\n",
    "import seaborn as sns\n",
    "from sklearn.model_selection import train_test_split\n",
    "from imblearn.over_sampling import RandomOverSampler\n",
    "from sklearn.preprocessing import LabelEncoder\n",
    "from sklearn.preprocessing import StandardScaler\n",
    "from sklearn.ensemble import RandomForestClassifier\n",
    "from sklearn.metrics import confusion_matrix,classification_report,accuracy_score\n",
    "# Input data files are available in the read-only \"../input/\" directory\n",
    "# For example, running this (by clicking run or pressing Shift+Enter) will list all files under the input directory\n",
    "\n",
    "import os\n",
    "for dirname, _, filenames in os.walk('/kaggle/input'):\n",
    "    for filename in filenames:\n",
    "        print(os.path.join(dirname, filename))\n",
    "\n",
    "# You can write up to 20GB to the current directory (/kaggle/working/) that gets preserved as output when you create a version using \"Save & Run All\" \n",
    "# You can also write temporary files to /kaggle/temp/, but they won't be saved outside of the current session"
   ]
  },
  {
   "cell_type": "code",
   "execution_count": 2,
   "id": "4a3d8d05",
   "metadata": {
    "execution": {
     "iopub.execute_input": "2023-11-13T15:33:57.678405Z",
     "iopub.status.busy": "2023-11-13T15:33:57.677840Z",
     "iopub.status.idle": "2023-11-13T15:33:58.619200Z",
     "shell.execute_reply": "2023-11-13T15:33:58.618140Z"
    },
    "papermill": {
     "duration": 0.955799,
     "end_time": "2023-11-13T15:33:58.622144",
     "exception": false,
     "start_time": "2023-11-13T15:33:57.666345",
     "status": "completed"
    },
    "tags": []
   },
   "outputs": [],
   "source": [
    "df_train = pd.read_csv(\"/kaggle/input/loan-prediction-based-on-customer-behavior/Training Data.csv\")\n",
    "df_test = pd.read_csv(\"/kaggle/input/loan-prediction-based-on-customer-behavior/Test Data.csv\")\n",
    "df_prediction_data = pd.read_csv(\"/kaggle/input/loan-prediction-based-on-customer-behavior/Sample Prediction Dataset.csv\")"
   ]
  },
  {
   "cell_type": "code",
   "execution_count": 3,
   "id": "10b320ac",
   "metadata": {
    "execution": {
     "iopub.execute_input": "2023-11-13T15:33:58.643811Z",
     "iopub.status.busy": "2023-11-13T15:33:58.643383Z",
     "iopub.status.idle": "2023-11-13T15:33:58.687694Z",
     "shell.execute_reply": "2023-11-13T15:33:58.686273Z"
    },
    "papermill": {
     "duration": 0.058297,
     "end_time": "2023-11-13T15:33:58.690454",
     "exception": false,
     "start_time": "2023-11-13T15:33:58.632157",
     "status": "completed"
    },
    "tags": []
   },
   "outputs": [
    {
     "data": {
      "text/html": [
       "<div>\n",
       "<style scoped>\n",
       "    .dataframe tbody tr th:only-of-type {\n",
       "        vertical-align: middle;\n",
       "    }\n",
       "\n",
       "    .dataframe tbody tr th {\n",
       "        vertical-align: top;\n",
       "    }\n",
       "\n",
       "    .dataframe thead th {\n",
       "        text-align: right;\n",
       "    }\n",
       "</style>\n",
       "<table border=\"1\" class=\"dataframe\">\n",
       "  <thead>\n",
       "    <tr style=\"text-align: right;\">\n",
       "      <th></th>\n",
       "      <th>Id</th>\n",
       "      <th>Income</th>\n",
       "      <th>Age</th>\n",
       "      <th>Experience</th>\n",
       "      <th>Married/Single</th>\n",
       "      <th>House_Ownership</th>\n",
       "      <th>Car_Ownership</th>\n",
       "      <th>Profession</th>\n",
       "      <th>CITY</th>\n",
       "      <th>STATE</th>\n",
       "      <th>CURRENT_JOB_YRS</th>\n",
       "      <th>CURRENT_HOUSE_YRS</th>\n",
       "      <th>Risk_Flag</th>\n",
       "    </tr>\n",
       "  </thead>\n",
       "  <tbody>\n",
       "    <tr>\n",
       "      <th>246224</th>\n",
       "      <td>246225</td>\n",
       "      <td>1847762</td>\n",
       "      <td>57</td>\n",
       "      <td>11</td>\n",
       "      <td>single</td>\n",
       "      <td>rented</td>\n",
       "      <td>no</td>\n",
       "      <td>Design_Engineer</td>\n",
       "      <td>Belgaum</td>\n",
       "      <td>Karnataka</td>\n",
       "      <td>11</td>\n",
       "      <td>14</td>\n",
       "      <td>0</td>\n",
       "    </tr>\n",
       "    <tr>\n",
       "      <th>174857</th>\n",
       "      <td>174858</td>\n",
       "      <td>7908473</td>\n",
       "      <td>66</td>\n",
       "      <td>0</td>\n",
       "      <td>single</td>\n",
       "      <td>rented</td>\n",
       "      <td>no</td>\n",
       "      <td>Technician</td>\n",
       "      <td>Uluberia</td>\n",
       "      <td>West_Bengal</td>\n",
       "      <td>0</td>\n",
       "      <td>10</td>\n",
       "      <td>1</td>\n",
       "    </tr>\n",
       "    <tr>\n",
       "      <th>122345</th>\n",
       "      <td>122346</td>\n",
       "      <td>1864741</td>\n",
       "      <td>63</td>\n",
       "      <td>15</td>\n",
       "      <td>single</td>\n",
       "      <td>rented</td>\n",
       "      <td>yes</td>\n",
       "      <td>Police_officer</td>\n",
       "      <td>Muzaffarpur</td>\n",
       "      <td>Bihar</td>\n",
       "      <td>9</td>\n",
       "      <td>12</td>\n",
       "      <td>0</td>\n",
       "    </tr>\n",
       "    <tr>\n",
       "      <th>107419</th>\n",
       "      <td>107420</td>\n",
       "      <td>2912105</td>\n",
       "      <td>21</td>\n",
       "      <td>14</td>\n",
       "      <td>married</td>\n",
       "      <td>rented</td>\n",
       "      <td>no</td>\n",
       "      <td>Petroleum_Engineer</td>\n",
       "      <td>Aurangabad</td>\n",
       "      <td>Maharashtra</td>\n",
       "      <td>5</td>\n",
       "      <td>12</td>\n",
       "      <td>0</td>\n",
       "    </tr>\n",
       "    <tr>\n",
       "      <th>106958</th>\n",
       "      <td>106959</td>\n",
       "      <td>3933433</td>\n",
       "      <td>32</td>\n",
       "      <td>5</td>\n",
       "      <td>single</td>\n",
       "      <td>rented</td>\n",
       "      <td>no</td>\n",
       "      <td>Graphic_Designer</td>\n",
       "      <td>Bhiwani</td>\n",
       "      <td>Haryana</td>\n",
       "      <td>3</td>\n",
       "      <td>12</td>\n",
       "      <td>0</td>\n",
       "    </tr>\n",
       "    <tr>\n",
       "      <th>38261</th>\n",
       "      <td>38262</td>\n",
       "      <td>8837967</td>\n",
       "      <td>35</td>\n",
       "      <td>14</td>\n",
       "      <td>single</td>\n",
       "      <td>rented</td>\n",
       "      <td>yes</td>\n",
       "      <td>Economist</td>\n",
       "      <td>Deoghar</td>\n",
       "      <td>Jharkhand</td>\n",
       "      <td>10</td>\n",
       "      <td>14</td>\n",
       "      <td>0</td>\n",
       "    </tr>\n",
       "    <tr>\n",
       "      <th>74838</th>\n",
       "      <td>74839</td>\n",
       "      <td>8898404</td>\n",
       "      <td>23</td>\n",
       "      <td>5</td>\n",
       "      <td>single</td>\n",
       "      <td>rented</td>\n",
       "      <td>no</td>\n",
       "      <td>Aviator</td>\n",
       "      <td>Chapra</td>\n",
       "      <td>Bihar</td>\n",
       "      <td>5</td>\n",
       "      <td>12</td>\n",
       "      <td>0</td>\n",
       "    </tr>\n",
       "    <tr>\n",
       "      <th>9396</th>\n",
       "      <td>9397</td>\n",
       "      <td>6682611</td>\n",
       "      <td>67</td>\n",
       "      <td>16</td>\n",
       "      <td>single</td>\n",
       "      <td>owned</td>\n",
       "      <td>yes</td>\n",
       "      <td>Design_Engineer</td>\n",
       "      <td>Mira-Bhayandar</td>\n",
       "      <td>Maharashtra</td>\n",
       "      <td>12</td>\n",
       "      <td>10</td>\n",
       "      <td>0</td>\n",
       "    </tr>\n",
       "    <tr>\n",
       "      <th>65517</th>\n",
       "      <td>65518</td>\n",
       "      <td>6410485</td>\n",
       "      <td>75</td>\n",
       "      <td>7</td>\n",
       "      <td>single</td>\n",
       "      <td>rented</td>\n",
       "      <td>yes</td>\n",
       "      <td>Artist</td>\n",
       "      <td>Tadepalligudem</td>\n",
       "      <td>Andhra_Pradesh</td>\n",
       "      <td>7</td>\n",
       "      <td>10</td>\n",
       "      <td>0</td>\n",
       "    </tr>\n",
       "    <tr>\n",
       "      <th>149082</th>\n",
       "      <td>149083</td>\n",
       "      <td>2566021</td>\n",
       "      <td>39</td>\n",
       "      <td>17</td>\n",
       "      <td>married</td>\n",
       "      <td>rented</td>\n",
       "      <td>no</td>\n",
       "      <td>Artist</td>\n",
       "      <td>Thane</td>\n",
       "      <td>Maharashtra</td>\n",
       "      <td>3</td>\n",
       "      <td>10</td>\n",
       "      <td>0</td>\n",
       "    </tr>\n",
       "  </tbody>\n",
       "</table>\n",
       "</div>"
      ],
      "text/plain": [
       "            Id   Income  Age  Experience Married/Single House_Ownership  \\\n",
       "246224  246225  1847762   57          11         single          rented   \n",
       "174857  174858  7908473   66           0         single          rented   \n",
       "122345  122346  1864741   63          15         single          rented   \n",
       "107419  107420  2912105   21          14        married          rented   \n",
       "106958  106959  3933433   32           5         single          rented   \n",
       "38261    38262  8837967   35          14         single          rented   \n",
       "74838    74839  8898404   23           5         single          rented   \n",
       "9396      9397  6682611   67          16         single           owned   \n",
       "65517    65518  6410485   75           7         single          rented   \n",
       "149082  149083  2566021   39          17        married          rented   \n",
       "\n",
       "       Car_Ownership          Profession            CITY           STATE  \\\n",
       "246224            no     Design_Engineer         Belgaum       Karnataka   \n",
       "174857            no          Technician        Uluberia     West_Bengal   \n",
       "122345           yes      Police_officer     Muzaffarpur           Bihar   \n",
       "107419            no  Petroleum_Engineer      Aurangabad     Maharashtra   \n",
       "106958            no    Graphic_Designer         Bhiwani         Haryana   \n",
       "38261            yes           Economist         Deoghar       Jharkhand   \n",
       "74838             no             Aviator          Chapra           Bihar   \n",
       "9396             yes     Design_Engineer  Mira-Bhayandar     Maharashtra   \n",
       "65517            yes              Artist  Tadepalligudem  Andhra_Pradesh   \n",
       "149082            no              Artist           Thane     Maharashtra   \n",
       "\n",
       "        CURRENT_JOB_YRS  CURRENT_HOUSE_YRS  Risk_Flag  \n",
       "246224               11                 14          0  \n",
       "174857                0                 10          1  \n",
       "122345                9                 12          0  \n",
       "107419                5                 12          0  \n",
       "106958                3                 12          0  \n",
       "38261                10                 14          0  \n",
       "74838                 5                 12          0  \n",
       "9396                 12                 10          0  \n",
       "65517                 7                 10          0  \n",
       "149082                3                 10          0  "
      ]
     },
     "execution_count": 3,
     "metadata": {},
     "output_type": "execute_result"
    }
   ],
   "source": [
    "df_train.sample(10)"
   ]
  },
  {
   "cell_type": "code",
   "execution_count": 4,
   "id": "8b523bca",
   "metadata": {
    "execution": {
     "iopub.execute_input": "2023-11-13T15:33:58.713033Z",
     "iopub.status.busy": "2023-11-13T15:33:58.712594Z",
     "iopub.status.idle": "2023-11-13T15:33:58.900795Z",
     "shell.execute_reply": "2023-11-13T15:33:58.899195Z"
    },
    "papermill": {
     "duration": 0.202479,
     "end_time": "2023-11-13T15:33:58.903345",
     "exception": false,
     "start_time": "2023-11-13T15:33:58.700866",
     "status": "completed"
    },
    "tags": []
   },
   "outputs": [
    {
     "name": "stdout",
     "output_type": "stream",
     "text": [
      "<class 'pandas.core.frame.DataFrame'>\n",
      "RangeIndex: 252000 entries, 0 to 251999\n",
      "Data columns (total 13 columns):\n",
      " #   Column             Non-Null Count   Dtype \n",
      "---  ------             --------------   ----- \n",
      " 0   Id                 252000 non-null  int64 \n",
      " 1   Income             252000 non-null  int64 \n",
      " 2   Age                252000 non-null  int64 \n",
      " 3   Experience         252000 non-null  int64 \n",
      " 4   Married/Single     252000 non-null  object\n",
      " 5   House_Ownership    252000 non-null  object\n",
      " 6   Car_Ownership      252000 non-null  object\n",
      " 7   Profession         252000 non-null  object\n",
      " 8   CITY               252000 non-null  object\n",
      " 9   STATE              252000 non-null  object\n",
      " 10  CURRENT_JOB_YRS    252000 non-null  int64 \n",
      " 11  CURRENT_HOUSE_YRS  252000 non-null  int64 \n",
      " 12  Risk_Flag          252000 non-null  int64 \n",
      "dtypes: int64(7), object(6)\n",
      "memory usage: 25.0+ MB\n"
     ]
    }
   ],
   "source": [
    "df_train.info()"
   ]
  },
  {
   "cell_type": "code",
   "execution_count": 5,
   "id": "f227a0f3",
   "metadata": {
    "execution": {
     "iopub.execute_input": "2023-11-13T15:33:58.926973Z",
     "iopub.status.busy": "2023-11-13T15:33:58.926547Z",
     "iopub.status.idle": "2023-11-13T15:33:59.090956Z",
     "shell.execute_reply": "2023-11-13T15:33:59.089818Z"
    },
    "papermill": {
     "duration": 0.179548,
     "end_time": "2023-11-13T15:33:59.093450",
     "exception": false,
     "start_time": "2023-11-13T15:33:58.913902",
     "status": "completed"
    },
    "tags": []
   },
   "outputs": [
    {
     "data": {
      "text/plain": [
       "Id                   0\n",
       "Income               0\n",
       "Age                  0\n",
       "Experience           0\n",
       "Married/Single       0\n",
       "House_Ownership      0\n",
       "Car_Ownership        0\n",
       "Profession           0\n",
       "CITY                 0\n",
       "STATE                0\n",
       "CURRENT_JOB_YRS      0\n",
       "CURRENT_HOUSE_YRS    0\n",
       "Risk_Flag            0\n",
       "dtype: int64"
      ]
     },
     "execution_count": 5,
     "metadata": {},
     "output_type": "execute_result"
    }
   ],
   "source": [
    "df_train.isnull().sum()"
   ]
  },
  {
   "cell_type": "code",
   "execution_count": 6,
   "id": "181331ca",
   "metadata": {
    "execution": {
     "iopub.execute_input": "2023-11-13T15:33:59.117136Z",
     "iopub.status.busy": "2023-11-13T15:33:59.115983Z",
     "iopub.status.idle": "2023-11-13T15:33:59.206512Z",
     "shell.execute_reply": "2023-11-13T15:33:59.205619Z"
    },
    "papermill": {
     "duration": 0.104558,
     "end_time": "2023-11-13T15:33:59.208762",
     "exception": false,
     "start_time": "2023-11-13T15:33:59.104204",
     "status": "completed"
    },
    "tags": []
   },
   "outputs": [
    {
     "data": {
      "text/html": [
       "<div>\n",
       "<style scoped>\n",
       "    .dataframe tbody tr th:only-of-type {\n",
       "        vertical-align: middle;\n",
       "    }\n",
       "\n",
       "    .dataframe tbody tr th {\n",
       "        vertical-align: top;\n",
       "    }\n",
       "\n",
       "    .dataframe thead th {\n",
       "        text-align: right;\n",
       "    }\n",
       "</style>\n",
       "<table border=\"1\" class=\"dataframe\">\n",
       "  <thead>\n",
       "    <tr style=\"text-align: right;\">\n",
       "      <th></th>\n",
       "      <th>count</th>\n",
       "      <th>mean</th>\n",
       "      <th>std</th>\n",
       "      <th>min</th>\n",
       "      <th>25%</th>\n",
       "      <th>50%</th>\n",
       "      <th>75%</th>\n",
       "      <th>max</th>\n",
       "    </tr>\n",
       "  </thead>\n",
       "  <tbody>\n",
       "    <tr>\n",
       "      <th>Id</th>\n",
       "      <td>252000.0</td>\n",
       "      <td>1.260005e+05</td>\n",
       "      <td>7.274628e+04</td>\n",
       "      <td>1.0</td>\n",
       "      <td>63000.75</td>\n",
       "      <td>126000.5</td>\n",
       "      <td>189000.25</td>\n",
       "      <td>252000.0</td>\n",
       "    </tr>\n",
       "    <tr>\n",
       "      <th>Income</th>\n",
       "      <td>252000.0</td>\n",
       "      <td>4.997117e+06</td>\n",
       "      <td>2.878311e+06</td>\n",
       "      <td>10310.0</td>\n",
       "      <td>2503015.00</td>\n",
       "      <td>5000694.5</td>\n",
       "      <td>7477502.00</td>\n",
       "      <td>9999938.0</td>\n",
       "    </tr>\n",
       "    <tr>\n",
       "      <th>Age</th>\n",
       "      <td>252000.0</td>\n",
       "      <td>4.995407e+01</td>\n",
       "      <td>1.706385e+01</td>\n",
       "      <td>21.0</td>\n",
       "      <td>35.00</td>\n",
       "      <td>50.0</td>\n",
       "      <td>65.00</td>\n",
       "      <td>79.0</td>\n",
       "    </tr>\n",
       "    <tr>\n",
       "      <th>Experience</th>\n",
       "      <td>252000.0</td>\n",
       "      <td>1.008444e+01</td>\n",
       "      <td>6.002590e+00</td>\n",
       "      <td>0.0</td>\n",
       "      <td>5.00</td>\n",
       "      <td>10.0</td>\n",
       "      <td>15.00</td>\n",
       "      <td>20.0</td>\n",
       "    </tr>\n",
       "    <tr>\n",
       "      <th>CURRENT_JOB_YRS</th>\n",
       "      <td>252000.0</td>\n",
       "      <td>6.333877e+00</td>\n",
       "      <td>3.647053e+00</td>\n",
       "      <td>0.0</td>\n",
       "      <td>3.00</td>\n",
       "      <td>6.0</td>\n",
       "      <td>9.00</td>\n",
       "      <td>14.0</td>\n",
       "    </tr>\n",
       "    <tr>\n",
       "      <th>CURRENT_HOUSE_YRS</th>\n",
       "      <td>252000.0</td>\n",
       "      <td>1.199779e+01</td>\n",
       "      <td>1.399037e+00</td>\n",
       "      <td>10.0</td>\n",
       "      <td>11.00</td>\n",
       "      <td>12.0</td>\n",
       "      <td>13.00</td>\n",
       "      <td>14.0</td>\n",
       "    </tr>\n",
       "    <tr>\n",
       "      <th>Risk_Flag</th>\n",
       "      <td>252000.0</td>\n",
       "      <td>1.230000e-01</td>\n",
       "      <td>3.284379e-01</td>\n",
       "      <td>0.0</td>\n",
       "      <td>0.00</td>\n",
       "      <td>0.0</td>\n",
       "      <td>0.00</td>\n",
       "      <td>1.0</td>\n",
       "    </tr>\n",
       "  </tbody>\n",
       "</table>\n",
       "</div>"
      ],
      "text/plain": [
       "                      count          mean           std      min         25%  \\\n",
       "Id                 252000.0  1.260005e+05  7.274628e+04      1.0    63000.75   \n",
       "Income             252000.0  4.997117e+06  2.878311e+06  10310.0  2503015.00   \n",
       "Age                252000.0  4.995407e+01  1.706385e+01     21.0       35.00   \n",
       "Experience         252000.0  1.008444e+01  6.002590e+00      0.0        5.00   \n",
       "CURRENT_JOB_YRS    252000.0  6.333877e+00  3.647053e+00      0.0        3.00   \n",
       "CURRENT_HOUSE_YRS  252000.0  1.199779e+01  1.399037e+00     10.0       11.00   \n",
       "Risk_Flag          252000.0  1.230000e-01  3.284379e-01      0.0        0.00   \n",
       "\n",
       "                         50%         75%        max  \n",
       "Id                  126000.5   189000.25   252000.0  \n",
       "Income             5000694.5  7477502.00  9999938.0  \n",
       "Age                     50.0       65.00       79.0  \n",
       "Experience              10.0       15.00       20.0  \n",
       "CURRENT_JOB_YRS          6.0        9.00       14.0  \n",
       "CURRENT_HOUSE_YRS       12.0       13.00       14.0  \n",
       "Risk_Flag                0.0        0.00        1.0  "
      ]
     },
     "execution_count": 6,
     "metadata": {},
     "output_type": "execute_result"
    }
   ],
   "source": [
    "df_train.describe().T"
   ]
  },
  {
   "cell_type": "code",
   "execution_count": 7,
   "id": "472ec261",
   "metadata": {
    "execution": {
     "iopub.execute_input": "2023-11-13T15:33:59.233185Z",
     "iopub.status.busy": "2023-11-13T15:33:59.232413Z",
     "iopub.status.idle": "2023-11-13T15:33:59.397087Z",
     "shell.execute_reply": "2023-11-13T15:33:59.395890Z"
    },
    "papermill": {
     "duration": 0.179402,
     "end_time": "2023-11-13T15:33:59.399268",
     "exception": false,
     "start_time": "2023-11-13T15:33:59.219866",
     "status": "completed"
    },
    "tags": []
   },
   "outputs": [
    {
     "name": "stdout",
     "output_type": "stream",
     "text": [
      "Id : 252000\n",
      "Income : 41920\n",
      "Age : 59\n",
      "Experience : 21\n",
      "Married/Single : 2\n",
      "House_Ownership : 3\n",
      "Car_Ownership : 2\n",
      "Profession : 51\n",
      "CITY : 317\n",
      "STATE : 29\n",
      "CURRENT_JOB_YRS : 15\n",
      "CURRENT_HOUSE_YRS : 5\n",
      "Risk_Flag : 2\n"
     ]
    }
   ],
   "source": [
    "for i in df_train.columns:\n",
    "    print(i,\":\",df_train[i].nunique())"
   ]
  },
  {
   "cell_type": "code",
   "execution_count": 8,
   "id": "74c1093a",
   "metadata": {
    "execution": {
     "iopub.execute_input": "2023-11-13T15:33:59.423803Z",
     "iopub.status.busy": "2023-11-13T15:33:59.422802Z",
     "iopub.status.idle": "2023-11-13T15:33:59.454898Z",
     "shell.execute_reply": "2023-11-13T15:33:59.453554Z"
    },
    "papermill": {
     "duration": 0.047263,
     "end_time": "2023-11-13T15:33:59.457765",
     "exception": false,
     "start_time": "2023-11-13T15:33:59.410502",
     "status": "completed"
    },
    "tags": []
   },
   "outputs": [],
   "source": [
    "df_train.drop('Id',axis = 1,inplace = True)"
   ]
  },
  {
   "cell_type": "code",
   "execution_count": 9,
   "id": "c866edde",
   "metadata": {
    "execution": {
     "iopub.execute_input": "2023-11-13T15:33:59.482094Z",
     "iopub.status.busy": "2023-11-13T15:33:59.481654Z",
     "iopub.status.idle": "2023-11-13T15:33:59.487287Z",
     "shell.execute_reply": "2023-11-13T15:33:59.486019Z"
    },
    "papermill": {
     "duration": 0.02057,
     "end_time": "2023-11-13T15:33:59.489758",
     "exception": false,
     "start_time": "2023-11-13T15:33:59.469188",
     "status": "completed"
    },
    "tags": []
   },
   "outputs": [],
   "source": [
    "cat_col = ['Married/Single','House_Ownership', 'Car_Ownership', 'Profession','CITY','STATE',\n",
    "       'CURRENT_JOB_YRS']"
   ]
  },
  {
   "cell_type": "code",
   "execution_count": 10,
   "id": "a2853f24",
   "metadata": {
    "execution": {
     "iopub.execute_input": "2023-11-13T15:33:59.514241Z",
     "iopub.status.busy": "2023-11-13T15:33:59.513769Z",
     "iopub.status.idle": "2023-11-13T15:34:00.041141Z",
     "shell.execute_reply": "2023-11-13T15:34:00.039534Z"
    },
    "papermill": {
     "duration": 0.543874,
     "end_time": "2023-11-13T15:34:00.044767",
     "exception": false,
     "start_time": "2023-11-13T15:33:59.500893",
     "status": "completed"
    },
    "tags": []
   },
   "outputs": [],
   "source": [
    "en = LabelEncoder()\n",
    "for i in cat_col:\n",
    "    df_train[i] = en.fit_transform(df_train[i])"
   ]
  },
  {
   "cell_type": "code",
   "execution_count": 11,
   "id": "6a7297a8",
   "metadata": {
    "execution": {
     "iopub.execute_input": "2023-11-13T15:34:00.076771Z",
     "iopub.status.busy": "2023-11-13T15:34:00.076321Z",
     "iopub.status.idle": "2023-11-13T15:34:00.097144Z",
     "shell.execute_reply": "2023-11-13T15:34:00.095963Z"
    },
    "papermill": {
     "duration": 0.036456,
     "end_time": "2023-11-13T15:34:00.099825",
     "exception": false,
     "start_time": "2023-11-13T15:34:00.063369",
     "status": "completed"
    },
    "tags": []
   },
   "outputs": [
    {
     "data": {
      "text/html": [
       "<div>\n",
       "<style scoped>\n",
       "    .dataframe tbody tr th:only-of-type {\n",
       "        vertical-align: middle;\n",
       "    }\n",
       "\n",
       "    .dataframe tbody tr th {\n",
       "        vertical-align: top;\n",
       "    }\n",
       "\n",
       "    .dataframe thead th {\n",
       "        text-align: right;\n",
       "    }\n",
       "</style>\n",
       "<table border=\"1\" class=\"dataframe\">\n",
       "  <thead>\n",
       "    <tr style=\"text-align: right;\">\n",
       "      <th></th>\n",
       "      <th>Income</th>\n",
       "      <th>Age</th>\n",
       "      <th>Experience</th>\n",
       "      <th>Married/Single</th>\n",
       "      <th>House_Ownership</th>\n",
       "      <th>Car_Ownership</th>\n",
       "      <th>Profession</th>\n",
       "      <th>CITY</th>\n",
       "      <th>STATE</th>\n",
       "      <th>CURRENT_JOB_YRS</th>\n",
       "      <th>CURRENT_HOUSE_YRS</th>\n",
       "      <th>Risk_Flag</th>\n",
       "    </tr>\n",
       "  </thead>\n",
       "  <tbody>\n",
       "    <tr>\n",
       "      <th>0</th>\n",
       "      <td>1303834</td>\n",
       "      <td>23</td>\n",
       "      <td>3</td>\n",
       "      <td>1</td>\n",
       "      <td>2</td>\n",
       "      <td>0</td>\n",
       "      <td>33</td>\n",
       "      <td>251</td>\n",
       "      <td>13</td>\n",
       "      <td>3</td>\n",
       "      <td>13</td>\n",
       "      <td>0</td>\n",
       "    </tr>\n",
       "    <tr>\n",
       "      <th>1</th>\n",
       "      <td>7574516</td>\n",
       "      <td>40</td>\n",
       "      <td>10</td>\n",
       "      <td>1</td>\n",
       "      <td>2</td>\n",
       "      <td>0</td>\n",
       "      <td>43</td>\n",
       "      <td>227</td>\n",
       "      <td>14</td>\n",
       "      <td>9</td>\n",
       "      <td>13</td>\n",
       "      <td>0</td>\n",
       "    </tr>\n",
       "    <tr>\n",
       "      <th>2</th>\n",
       "      <td>3991815</td>\n",
       "      <td>66</td>\n",
       "      <td>4</td>\n",
       "      <td>0</td>\n",
       "      <td>2</td>\n",
       "      <td>0</td>\n",
       "      <td>47</td>\n",
       "      <td>8</td>\n",
       "      <td>12</td>\n",
       "      <td>4</td>\n",
       "      <td>10</td>\n",
       "      <td>0</td>\n",
       "    </tr>\n",
       "    <tr>\n",
       "      <th>3</th>\n",
       "      <td>6256451</td>\n",
       "      <td>41</td>\n",
       "      <td>2</td>\n",
       "      <td>1</td>\n",
       "      <td>2</td>\n",
       "      <td>1</td>\n",
       "      <td>43</td>\n",
       "      <td>54</td>\n",
       "      <td>17</td>\n",
       "      <td>2</td>\n",
       "      <td>12</td>\n",
       "      <td>1</td>\n",
       "    </tr>\n",
       "    <tr>\n",
       "      <th>4</th>\n",
       "      <td>5768871</td>\n",
       "      <td>47</td>\n",
       "      <td>11</td>\n",
       "      <td>1</td>\n",
       "      <td>2</td>\n",
       "      <td>0</td>\n",
       "      <td>11</td>\n",
       "      <td>296</td>\n",
       "      <td>22</td>\n",
       "      <td>3</td>\n",
       "      <td>14</td>\n",
       "      <td>1</td>\n",
       "    </tr>\n",
       "    <tr>\n",
       "      <th>...</th>\n",
       "      <td>...</td>\n",
       "      <td>...</td>\n",
       "      <td>...</td>\n",
       "      <td>...</td>\n",
       "      <td>...</td>\n",
       "      <td>...</td>\n",
       "      <td>...</td>\n",
       "      <td>...</td>\n",
       "      <td>...</td>\n",
       "      <td>...</td>\n",
       "      <td>...</td>\n",
       "      <td>...</td>\n",
       "    </tr>\n",
       "    <tr>\n",
       "      <th>251995</th>\n",
       "      <td>8154883</td>\n",
       "      <td>43</td>\n",
       "      <td>13</td>\n",
       "      <td>1</td>\n",
       "      <td>2</td>\n",
       "      <td>0</td>\n",
       "      <td>45</td>\n",
       "      <td>162</td>\n",
       "      <td>28</td>\n",
       "      <td>6</td>\n",
       "      <td>11</td>\n",
       "      <td>0</td>\n",
       "    </tr>\n",
       "    <tr>\n",
       "      <th>251996</th>\n",
       "      <td>2843572</td>\n",
       "      <td>26</td>\n",
       "      <td>10</td>\n",
       "      <td>1</td>\n",
       "      <td>2</td>\n",
       "      <td>0</td>\n",
       "      <td>3</td>\n",
       "      <td>251</td>\n",
       "      <td>13</td>\n",
       "      <td>6</td>\n",
       "      <td>11</td>\n",
       "      <td>0</td>\n",
       "    </tr>\n",
       "    <tr>\n",
       "      <th>251997</th>\n",
       "      <td>4522448</td>\n",
       "      <td>46</td>\n",
       "      <td>7</td>\n",
       "      <td>1</td>\n",
       "      <td>2</td>\n",
       "      <td>0</td>\n",
       "      <td>17</td>\n",
       "      <td>144</td>\n",
       "      <td>14</td>\n",
       "      <td>7</td>\n",
       "      <td>12</td>\n",
       "      <td>0</td>\n",
       "    </tr>\n",
       "    <tr>\n",
       "      <th>251998</th>\n",
       "      <td>6507128</td>\n",
       "      <td>45</td>\n",
       "      <td>0</td>\n",
       "      <td>1</td>\n",
       "      <td>2</td>\n",
       "      <td>0</td>\n",
       "      <td>27</td>\n",
       "      <td>233</td>\n",
       "      <td>18</td>\n",
       "      <td>0</td>\n",
       "      <td>10</td>\n",
       "      <td>0</td>\n",
       "    </tr>\n",
       "    <tr>\n",
       "      <th>251999</th>\n",
       "      <td>9070230</td>\n",
       "      <td>70</td>\n",
       "      <td>17</td>\n",
       "      <td>1</td>\n",
       "      <td>2</td>\n",
       "      <td>0</td>\n",
       "      <td>44</td>\n",
       "      <td>26</td>\n",
       "      <td>22</td>\n",
       "      <td>7</td>\n",
       "      <td>11</td>\n",
       "      <td>0</td>\n",
       "    </tr>\n",
       "  </tbody>\n",
       "</table>\n",
       "<p>252000 rows × 12 columns</p>\n",
       "</div>"
      ],
      "text/plain": [
       "         Income  Age  Experience  Married/Single  House_Ownership  \\\n",
       "0       1303834   23           3               1                2   \n",
       "1       7574516   40          10               1                2   \n",
       "2       3991815   66           4               0                2   \n",
       "3       6256451   41           2               1                2   \n",
       "4       5768871   47          11               1                2   \n",
       "...         ...  ...         ...             ...              ...   \n",
       "251995  8154883   43          13               1                2   \n",
       "251996  2843572   26          10               1                2   \n",
       "251997  4522448   46           7               1                2   \n",
       "251998  6507128   45           0               1                2   \n",
       "251999  9070230   70          17               1                2   \n",
       "\n",
       "        Car_Ownership  Profession  CITY  STATE  CURRENT_JOB_YRS  \\\n",
       "0                   0          33   251     13                3   \n",
       "1                   0          43   227     14                9   \n",
       "2                   0          47     8     12                4   \n",
       "3                   1          43    54     17                2   \n",
       "4                   0          11   296     22                3   \n",
       "...               ...         ...   ...    ...              ...   \n",
       "251995              0          45   162     28                6   \n",
       "251996              0           3   251     13                6   \n",
       "251997              0          17   144     14                7   \n",
       "251998              0          27   233     18                0   \n",
       "251999              0          44    26     22                7   \n",
       "\n",
       "        CURRENT_HOUSE_YRS  Risk_Flag  \n",
       "0                      13          0  \n",
       "1                      13          0  \n",
       "2                      10          0  \n",
       "3                      12          1  \n",
       "4                      14          1  \n",
       "...                   ...        ...  \n",
       "251995                 11          0  \n",
       "251996                 11          0  \n",
       "251997                 12          0  \n",
       "251998                 10          0  \n",
       "251999                 11          0  \n",
       "\n",
       "[252000 rows x 12 columns]"
      ]
     },
     "execution_count": 11,
     "metadata": {},
     "output_type": "execute_result"
    }
   ],
   "source": [
    "df_train"
   ]
  },
  {
   "cell_type": "code",
   "execution_count": 12,
   "id": "33802ea3",
   "metadata": {
    "execution": {
     "iopub.execute_input": "2023-11-13T15:34:00.127329Z",
     "iopub.status.busy": "2023-11-13T15:34:00.126897Z",
     "iopub.status.idle": "2023-11-13T15:34:00.149304Z",
     "shell.execute_reply": "2023-11-13T15:34:00.147897Z"
    },
    "papermill": {
     "duration": 0.040525,
     "end_time": "2023-11-13T15:34:00.152124",
     "exception": false,
     "start_time": "2023-11-13T15:34:00.111599",
     "status": "completed"
    },
    "tags": []
   },
   "outputs": [],
   "source": [
    "x = df_train.drop('Risk_Flag',axis = 1)\n",
    "y = df_train['Risk_Flag']"
   ]
  },
  {
   "cell_type": "code",
   "execution_count": 13,
   "id": "de35d058",
   "metadata": {
    "execution": {
     "iopub.execute_input": "2023-11-13T15:34:00.182726Z",
     "iopub.status.busy": "2023-11-13T15:34:00.181853Z",
     "iopub.status.idle": "2023-11-13T15:34:00.195047Z",
     "shell.execute_reply": "2023-11-13T15:34:00.193922Z"
    },
    "papermill": {
     "duration": 0.033154,
     "end_time": "2023-11-13T15:34:00.197560",
     "exception": false,
     "start_time": "2023-11-13T15:34:00.164406",
     "status": "completed"
    },
    "tags": []
   },
   "outputs": [
    {
     "data": {
      "text/plain": [
       "Risk_Flag\n",
       "0    221004\n",
       "1     30996\n",
       "Name: count, dtype: int64"
      ]
     },
     "execution_count": 13,
     "metadata": {},
     "output_type": "execute_result"
    }
   ],
   "source": [
    "y.value_counts()"
   ]
  },
  {
   "cell_type": "code",
   "execution_count": 14,
   "id": "08666b61",
   "metadata": {
    "execution": {
     "iopub.execute_input": "2023-11-13T15:34:00.224385Z",
     "iopub.status.busy": "2023-11-13T15:34:00.223994Z",
     "iopub.status.idle": "2023-11-13T15:34:00.443845Z",
     "shell.execute_reply": "2023-11-13T15:34:00.441485Z"
    },
    "papermill": {
     "duration": 0.237847,
     "end_time": "2023-11-13T15:34:00.448338",
     "exception": false,
     "start_time": "2023-11-13T15:34:00.210491",
     "status": "completed"
    },
    "tags": []
   },
   "outputs": [
    {
     "data": {
      "text/plain": [
       "<Axes: ylabel='count'>"
      ]
     },
     "execution_count": 14,
     "metadata": {},
     "output_type": "execute_result"
    },
    {
     "data": {
      "image/png": "[encoded data removed]",
      "text/plain": [
       "<Figure size 640x480 with 1 Axes>"
      ]
     },
     "metadata": {},
     "output_type": "display_data"
    }
   ],
   "source": [
    "y.value_counts().plot.pie(autopct = '%.2f')"
   ]
  },
  {
   "cell_type": "code",
   "execution_count": 15,
   "id": "2a3d819c",
   "metadata": {
    "execution": {
     "iopub.execute_input": "2023-11-13T15:34:00.503641Z",
     "iopub.status.busy": "2023-11-13T15:34:00.502327Z",
     "iopub.status.idle": "2023-11-13T15:34:00.507417Z",
     "shell.execute_reply": "2023-11-13T15:34:00.506558Z"
    },
    "papermill": {
     "duration": 0.035034,
     "end_time": "2023-11-13T15:34:00.509653",
     "exception": false,
     "start_time": "2023-11-13T15:34:00.474619",
     "status": "completed"
    },
    "tags": []
   },
   "outputs": [],
   "source": [
    "ros = RandomOverSampler()"
   ]
  },
  {
   "cell_type": "code",
   "execution_count": 16,
   "id": "812edcc9",
   "metadata": {
    "execution": {
     "iopub.execute_input": "2023-11-13T15:34:00.536153Z",
     "iopub.status.busy": "2023-11-13T15:34:00.535419Z",
     "iopub.status.idle": "2023-11-13T15:34:00.710887Z",
     "shell.execute_reply": "2023-11-13T15:34:00.709703Z"
    },
    "papermill": {
     "duration": 0.191811,
     "end_time": "2023-11-13T15:34:00.713685",
     "exception": false,
     "start_time": "2023-11-13T15:34:00.521874",
     "status": "completed"
    },
    "tags": []
   },
   "outputs": [],
   "source": [
    "x,y = ros.fit_resample(x,y)"
   ]
  },
  {
   "cell_type": "code",
   "execution_count": 17,
   "id": "35a9e468",
   "metadata": {
    "execution": {
     "iopub.execute_input": "2023-11-13T15:34:00.740260Z",
     "iopub.status.busy": "2023-11-13T15:34:00.739876Z",
     "iopub.status.idle": "2023-11-13T15:34:00.752593Z",
     "shell.execute_reply": "2023-11-13T15:34:00.751482Z"
    },
    "papermill": {
     "duration": 0.028766,
     "end_time": "2023-11-13T15:34:00.754928",
     "exception": false,
     "start_time": "2023-11-13T15:34:00.726162",
     "status": "completed"
    },
    "tags": []
   },
   "outputs": [
    {
     "data": {
      "text/plain": [
       "Risk_Flag\n",
       "0    221004\n",
       "1    221004\n",
       "Name: count, dtype: int64"
      ]
     },
     "execution_count": 17,
     "metadata": {},
     "output_type": "execute_result"
    }
   ],
   "source": [
    "y.value_counts()"
   ]
  },
  {
   "cell_type": "code",
   "execution_count": 18,
   "id": "08c306a6",
   "metadata": {
    "execution": {
     "iopub.execute_input": "2023-11-13T15:34:00.783090Z",
     "iopub.status.busy": "2023-11-13T15:34:00.782671Z",
     "iopub.status.idle": "2023-11-13T15:34:00.916808Z",
     "shell.execute_reply": "2023-11-13T15:34:00.915262Z"
    },
    "papermill": {
     "duration": 0.153351,
     "end_time": "2023-11-13T15:34:00.921158",
     "exception": false,
     "start_time": "2023-11-13T15:34:00.767807",
     "status": "completed"
    },
    "tags": []
   },
   "outputs": [
    {
     "data": {
      "text/plain": [
       "<Axes: ylabel='count'>"
      ]
     },
     "execution_count": 18,
     "metadata": {},
     "output_type": "execute_result"
    },
    {
     "data": {
      "image/png": "[encoded data removed]",
      "text/plain": [
       "<Figure size 640x480 with 1 Axes>"
      ]
     },
     "metadata": {},
     "output_type": "display_data"
    }
   ],
   "source": [
    "y.value_counts().plot.pie(autopct = '%.2f')"
   ]
  },
  {
   "cell_type": "code",
   "execution_count": 19,
   "id": "24246614",
   "metadata": {
    "execution": {
     "iopub.execute_input": "2023-11-13T15:34:00.980410Z",
     "iopub.status.busy": "2023-11-13T15:34:00.978415Z",
     "iopub.status.idle": "2023-11-13T15:34:01.111081Z",
     "shell.execute_reply": "2023-11-13T15:34:01.109818Z"
    },
    "papermill": {
     "duration": 0.16536,
     "end_time": "2023-11-13T15:34:01.113972",
     "exception": false,
     "start_time": "2023-11-13T15:34:00.948612",
     "status": "completed"
    },
    "tags": []
   },
   "outputs": [],
   "source": [
    "ss = StandardScaler()\n",
    "x = ss.fit_transform(x)"
   ]
  },
  {
   "cell_type": "code",
   "execution_count": 20,
   "id": "95d55d88",
   "metadata": {
    "execution": {
     "iopub.execute_input": "2023-11-13T15:34:01.141932Z",
     "iopub.status.busy": "2023-11-13T15:34:01.141125Z",
     "iopub.status.idle": "2023-11-13T15:34:01.242683Z",
     "shell.execute_reply": "2023-11-13T15:34:01.241279Z"
    },
    "papermill": {
     "duration": 0.118667,
     "end_time": "2023-11-13T15:34:01.245713",
     "exception": false,
     "start_time": "2023-11-13T15:34:01.127046",
     "status": "completed"
    },
    "tags": []
   },
   "outputs": [],
   "source": [
    "x_train,x_test,y_train,y_test = train_test_split(x,y,train_size=0.3,random_state=42)"
   ]
  },
  {
   "cell_type": "code",
   "execution_count": 21,
   "id": "dc9bb1ee",
   "metadata": {
    "execution": {
     "iopub.execute_input": "2023-11-13T15:34:01.274230Z",
     "iopub.status.busy": "2023-11-13T15:34:01.273808Z",
     "iopub.status.idle": "2023-11-13T15:34:01.279713Z",
     "shell.execute_reply": "2023-11-13T15:34:01.278443Z"
    },
    "papermill": {
     "duration": 0.023344,
     "end_time": "2023-11-13T15:34:01.282134",
     "exception": false,
     "start_time": "2023-11-13T15:34:01.258790",
     "status": "completed"
    },
    "tags": []
   },
   "outputs": [],
   "source": [
    "rfc = RandomForestClassifier(criterion='gini', bootstrap=True, max_depth=100, max_features=None, min_samples_split=2, n_estimators=100, random_state=100)"
   ]
  },
  {
   "cell_type": "code",
   "execution_count": 22,
   "id": "d73b887a",
   "metadata": {
    "execution": {
     "iopub.execute_input": "2023-11-13T15:34:01.310035Z",
     "iopub.status.busy": "2023-11-13T15:34:01.309289Z",
     "iopub.status.idle": "2023-11-13T15:35:21.566883Z",
     "shell.execute_reply": "2023-11-13T15:35:21.565943Z"
    },
    "papermill": {
     "duration": 80.274951,
     "end_time": "2023-11-13T15:35:21.569972",
     "exception": false,
     "start_time": "2023-11-13T15:34:01.295021",
     "status": "completed"
    },
    "tags": []
   },
   "outputs": [],
   "source": [
    "rfc.fit(x_train,y_train)\n",
    "predict = rfc.predict(x_test)"
   ]
  },
  {
   "cell_type": "code",
   "execution_count": 23,
   "id": "4a4d1209",
   "metadata": {
    "execution": {
     "iopub.execute_input": "2023-11-13T15:35:21.598768Z",
     "iopub.status.busy": "2023-11-13T15:35:21.598315Z",
     "iopub.status.idle": "2023-11-13T15:35:22.216055Z",
     "shell.execute_reply": "2023-11-13T15:35:22.214518Z"
    },
    "papermill": {
     "duration": 0.635709,
     "end_time": "2023-11-13T15:35:22.218861",
     "exception": false,
     "start_time": "2023-11-13T15:35:21.583152",
     "status": "completed"
    },
    "tags": []
   },
   "outputs": [
    {
     "name": "stdout",
     "output_type": "stream",
     "text": [
      "              precision    recall  f1-score   support\n",
      "\n",
      "           0       0.97      0.89      0.93    154866\n",
      "           1       0.90      0.98      0.94    154540\n",
      "\n",
      "    accuracy                           0.93    309406\n",
      "   macro avg       0.94      0.93      0.93    309406\n",
      "weighted avg       0.94      0.93      0.93    309406\n",
      "\n"
     ]
    }
   ],
   "source": [
    "print(classification_report(y_test,predict))"
   ]
  },
  {
   "cell_type": "code",
   "execution_count": 24,
   "id": "d20aaac5",
   "metadata": {
    "execution": {
     "iopub.execute_input": "2023-11-13T15:35:22.246822Z",
     "iopub.status.busy": "2023-11-13T15:35:22.246405Z",
     "iopub.status.idle": "2023-11-13T15:35:22.266836Z",
     "shell.execute_reply": "2023-11-13T15:35:22.265707Z"
    },
    "papermill": {
     "duration": 0.03738,
     "end_time": "2023-11-13T15:35:22.269301",
     "exception": false,
     "start_time": "2023-11-13T15:35:22.231921",
     "status": "completed"
    },
    "tags": []
   },
   "outputs": [
    {
     "data": {
      "text/html": [
       "<div>\n",
       "<style scoped>\n",
       "    .dataframe tbody tr th:only-of-type {\n",
       "        vertical-align: middle;\n",
       "    }\n",
       "\n",
       "    .dataframe tbody tr th {\n",
       "        vertical-align: top;\n",
       "    }\n",
       "\n",
       "    .dataframe thead th {\n",
       "        text-align: right;\n",
       "    }\n",
       "</style>\n",
       "<table border=\"1\" class=\"dataframe\">\n",
       "  <thead>\n",
       "    <tr style=\"text-align: right;\">\n",
       "      <th></th>\n",
       "      <th>ID</th>\n",
       "      <th>Income</th>\n",
       "      <th>Age</th>\n",
       "      <th>Experience</th>\n",
       "      <th>Married/Single</th>\n",
       "      <th>House_Ownership</th>\n",
       "      <th>Car_Ownership</th>\n",
       "      <th>Profession</th>\n",
       "      <th>CITY</th>\n",
       "      <th>STATE</th>\n",
       "      <th>CURRENT_JOB_YRS</th>\n",
       "      <th>CURRENT_HOUSE_YRS</th>\n",
       "    </tr>\n",
       "  </thead>\n",
       "  <tbody>\n",
       "    <tr>\n",
       "      <th>0</th>\n",
       "      <td>1</td>\n",
       "      <td>7393090</td>\n",
       "      <td>59</td>\n",
       "      <td>19</td>\n",
       "      <td>single</td>\n",
       "      <td>rented</td>\n",
       "      <td>no</td>\n",
       "      <td>Geologist</td>\n",
       "      <td>Malda</td>\n",
       "      <td>West Bengal</td>\n",
       "      <td>4</td>\n",
       "      <td>13</td>\n",
       "    </tr>\n",
       "    <tr>\n",
       "      <th>1</th>\n",
       "      <td>2</td>\n",
       "      <td>1215004</td>\n",
       "      <td>25</td>\n",
       "      <td>5</td>\n",
       "      <td>single</td>\n",
       "      <td>rented</td>\n",
       "      <td>no</td>\n",
       "      <td>Firefighter</td>\n",
       "      <td>Jalna</td>\n",
       "      <td>Maharashtra</td>\n",
       "      <td>5</td>\n",
       "      <td>10</td>\n",
       "    </tr>\n",
       "    <tr>\n",
       "      <th>2</th>\n",
       "      <td>3</td>\n",
       "      <td>8901342</td>\n",
       "      <td>50</td>\n",
       "      <td>12</td>\n",
       "      <td>single</td>\n",
       "      <td>rented</td>\n",
       "      <td>no</td>\n",
       "      <td>Lawyer</td>\n",
       "      <td>Thane</td>\n",
       "      <td>Maharashtra</td>\n",
       "      <td>9</td>\n",
       "      <td>14</td>\n",
       "    </tr>\n",
       "    <tr>\n",
       "      <th>3</th>\n",
       "      <td>4</td>\n",
       "      <td>1944421</td>\n",
       "      <td>49</td>\n",
       "      <td>9</td>\n",
       "      <td>married</td>\n",
       "      <td>rented</td>\n",
       "      <td>yes</td>\n",
       "      <td>Analyst</td>\n",
       "      <td>Latur</td>\n",
       "      <td>Maharashtra</td>\n",
       "      <td>3</td>\n",
       "      <td>12</td>\n",
       "    </tr>\n",
       "    <tr>\n",
       "      <th>4</th>\n",
       "      <td>5</td>\n",
       "      <td>13429</td>\n",
       "      <td>25</td>\n",
       "      <td>18</td>\n",
       "      <td>single</td>\n",
       "      <td>rented</td>\n",
       "      <td>yes</td>\n",
       "      <td>Comedian</td>\n",
       "      <td>Berhampore</td>\n",
       "      <td>West Bengal</td>\n",
       "      <td>13</td>\n",
       "      <td>11</td>\n",
       "    </tr>\n",
       "    <tr>\n",
       "      <th>...</th>\n",
       "      <td>...</td>\n",
       "      <td>...</td>\n",
       "      <td>...</td>\n",
       "      <td>...</td>\n",
       "      <td>...</td>\n",
       "      <td>...</td>\n",
       "      <td>...</td>\n",
       "      <td>...</td>\n",
       "      <td>...</td>\n",
       "      <td>...</td>\n",
       "      <td>...</td>\n",
       "      <td>...</td>\n",
       "    </tr>\n",
       "    <tr>\n",
       "      <th>27995</th>\n",
       "      <td>27996</td>\n",
       "      <td>9955481</td>\n",
       "      <td>57</td>\n",
       "      <td>13</td>\n",
       "      <td>single</td>\n",
       "      <td>rented</td>\n",
       "      <td>no</td>\n",
       "      <td>Statistician</td>\n",
       "      <td>Eluru[25]</td>\n",
       "      <td>Andhra Pradesh</td>\n",
       "      <td>5</td>\n",
       "      <td>10</td>\n",
       "    </tr>\n",
       "    <tr>\n",
       "      <th>27996</th>\n",
       "      <td>27997</td>\n",
       "      <td>2917765</td>\n",
       "      <td>47</td>\n",
       "      <td>9</td>\n",
       "      <td>single</td>\n",
       "      <td>rented</td>\n",
       "      <td>no</td>\n",
       "      <td>Technical writer</td>\n",
       "      <td>Ratlam</td>\n",
       "      <td>Madhya Pradesh</td>\n",
       "      <td>9</td>\n",
       "      <td>14</td>\n",
       "    </tr>\n",
       "    <tr>\n",
       "      <th>27997</th>\n",
       "      <td>27998</td>\n",
       "      <td>8082415</td>\n",
       "      <td>24</td>\n",
       "      <td>5</td>\n",
       "      <td>single</td>\n",
       "      <td>rented</td>\n",
       "      <td>no</td>\n",
       "      <td>Lawyer</td>\n",
       "      <td>Mira-Bhayandar</td>\n",
       "      <td>Maharashtra</td>\n",
       "      <td>4</td>\n",
       "      <td>13</td>\n",
       "    </tr>\n",
       "    <tr>\n",
       "      <th>27998</th>\n",
       "      <td>27999</td>\n",
       "      <td>9474180</td>\n",
       "      <td>51</td>\n",
       "      <td>13</td>\n",
       "      <td>single</td>\n",
       "      <td>rented</td>\n",
       "      <td>yes</td>\n",
       "      <td>Chartered Accountant</td>\n",
       "      <td>Bhilai</td>\n",
       "      <td>Chhattisgarh</td>\n",
       "      <td>13</td>\n",
       "      <td>14</td>\n",
       "    </tr>\n",
       "    <tr>\n",
       "      <th>27999</th>\n",
       "      <td>28000</td>\n",
       "      <td>9250350</td>\n",
       "      <td>42</td>\n",
       "      <td>9</td>\n",
       "      <td>single</td>\n",
       "      <td>rented</td>\n",
       "      <td>no</td>\n",
       "      <td>Chef</td>\n",
       "      <td>Navi Mumbai</td>\n",
       "      <td>Maharashtra</td>\n",
       "      <td>4</td>\n",
       "      <td>10</td>\n",
       "    </tr>\n",
       "  </tbody>\n",
       "</table>\n",
       "<p>28000 rows × 12 columns</p>\n",
       "</div>"
      ],
      "text/plain": [
       "          ID   Income  Age  Experience Married/Single House_Ownership  \\\n",
       "0          1  7393090   59          19         single          rented   \n",
       "1          2  1215004   25           5         single          rented   \n",
       "2          3  8901342   50          12         single          rented   \n",
       "3          4  1944421   49           9        married          rented   \n",
       "4          5    13429   25          18         single          rented   \n",
       "...      ...      ...  ...         ...            ...             ...   \n",
       "27995  27996  9955481   57          13         single          rented   \n",
       "27996  27997  2917765   47           9         single          rented   \n",
       "27997  27998  8082415   24           5         single          rented   \n",
       "27998  27999  9474180   51          13         single          rented   \n",
       "27999  28000  9250350   42           9         single          rented   \n",
       "\n",
       "      Car_Ownership            Profession            CITY           STATE  \\\n",
       "0                no             Geologist           Malda     West Bengal   \n",
       "1                no           Firefighter           Jalna     Maharashtra   \n",
       "2                no                Lawyer           Thane     Maharashtra   \n",
       "3               yes               Analyst           Latur     Maharashtra   \n",
       "4               yes              Comedian      Berhampore     West Bengal   \n",
       "...             ...                   ...             ...             ...   \n",
       "27995            no          Statistician       Eluru[25]  Andhra Pradesh   \n",
       "27996            no      Technical writer          Ratlam  Madhya Pradesh   \n",
       "27997            no                Lawyer  Mira-Bhayandar     Maharashtra   \n",
       "27998           yes  Chartered Accountant          Bhilai    Chhattisgarh   \n",
       "27999            no                  Chef     Navi Mumbai     Maharashtra   \n",
       "\n",
       "       CURRENT_JOB_YRS  CURRENT_HOUSE_YRS  \n",
       "0                    4                 13  \n",
       "1                    5                 10  \n",
       "2                    9                 14  \n",
       "3                    3                 12  \n",
       "4                   13                 11  \n",
       "...                ...                ...  \n",
       "27995                5                 10  \n",
       "27996                9                 14  \n",
       "27997                4                 13  \n",
       "27998               13                 14  \n",
       "27999                4                 10  \n",
       "\n",
       "[28000 rows x 12 columns]"
      ]
     },
     "execution_count": 24,
     "metadata": {},
     "output_type": "execute_result"
    }
   ],
   "source": [
    "df_test"
   ]
  },
  {
   "cell_type": "code",
   "execution_count": 25,
   "id": "6d32b3a7",
   "metadata": {
    "execution": {
     "iopub.execute_input": "2023-11-13T15:35:22.299594Z",
     "iopub.status.busy": "2023-11-13T15:35:22.298853Z",
     "iopub.status.idle": "2023-11-13T15:35:22.307192Z",
     "shell.execute_reply": "2023-11-13T15:35:22.305796Z"
    },
    "papermill": {
     "duration": 0.026059,
     "end_time": "2023-11-13T15:35:22.309731",
     "exception": false,
     "start_time": "2023-11-13T15:35:22.283672",
     "status": "completed"
    },
    "tags": []
   },
   "outputs": [],
   "source": [
    "df_test.drop(\"ID\",axis = 1,inplace = True)"
   ]
  },
  {
   "cell_type": "code",
   "execution_count": 26,
   "id": "94491fd8",
   "metadata": {
    "execution": {
     "iopub.execute_input": "2023-11-13T15:35:22.338709Z",
     "iopub.status.busy": "2023-11-13T15:35:22.337918Z",
     "iopub.status.idle": "2023-11-13T15:35:22.396332Z",
     "shell.execute_reply": "2023-11-13T15:35:22.394976Z"
    },
    "papermill": {
     "duration": 0.076296,
     "end_time": "2023-11-13T15:35:22.399456",
     "exception": false,
     "start_time": "2023-11-13T15:35:22.323160",
     "status": "completed"
    },
    "tags": []
   },
   "outputs": [],
   "source": [
    "for i in cat_col:\n",
    "    df_test[i] = en.fit_transform(df_test[i])"
   ]
  },
  {
   "cell_type": "code",
   "execution_count": 27,
   "id": "5252bd56",
   "metadata": {
    "execution": {
     "iopub.execute_input": "2023-11-13T15:35:22.428194Z",
     "iopub.status.busy": "2023-11-13T15:35:22.427799Z",
     "iopub.status.idle": "2023-11-13T15:35:22.445994Z",
     "shell.execute_reply": "2023-11-13T15:35:22.444751Z"
    },
    "papermill": {
     "duration": 0.035878,
     "end_time": "2023-11-13T15:35:22.448832",
     "exception": false,
     "start_time": "2023-11-13T15:35:22.412954",
     "status": "completed"
    },
    "tags": []
   },
   "outputs": [
    {
     "data": {
      "text/html": [
       "<div>\n",
       "<style scoped>\n",
       "    .dataframe tbody tr th:only-of-type {\n",
       "        vertical-align: middle;\n",
       "    }\n",
       "\n",
       "    .dataframe tbody tr th {\n",
       "        vertical-align: top;\n",
       "    }\n",
       "\n",
       "    .dataframe thead th {\n",
       "        text-align: right;\n",
       "    }\n",
       "</style>\n",
       "<table border=\"1\" class=\"dataframe\">\n",
       "  <thead>\n",
       "    <tr style=\"text-align: right;\">\n",
       "      <th></th>\n",
       "      <th>Income</th>\n",
       "      <th>Age</th>\n",
       "      <th>Experience</th>\n",
       "      <th>Married/Single</th>\n",
       "      <th>House_Ownership</th>\n",
       "      <th>Car_Ownership</th>\n",
       "      <th>Profession</th>\n",
       "      <th>CITY</th>\n",
       "      <th>STATE</th>\n",
       "      <th>CURRENT_JOB_YRS</th>\n",
       "      <th>CURRENT_HOUSE_YRS</th>\n",
       "    </tr>\n",
       "  </thead>\n",
       "  <tbody>\n",
       "    <tr>\n",
       "      <th>0</th>\n",
       "      <td>7393090</td>\n",
       "      <td>59</td>\n",
       "      <td>19</td>\n",
       "      <td>1</td>\n",
       "      <td>2</td>\n",
       "      <td>0</td>\n",
       "      <td>26</td>\n",
       "      <td>181</td>\n",
       "      <td>28</td>\n",
       "      <td>4</td>\n",
       "      <td>13</td>\n",
       "    </tr>\n",
       "    <tr>\n",
       "      <th>1</th>\n",
       "      <td>1215004</td>\n",
       "      <td>25</td>\n",
       "      <td>5</td>\n",
       "      <td>1</td>\n",
       "      <td>2</td>\n",
       "      <td>0</td>\n",
       "      <td>24</td>\n",
       "      <td>131</td>\n",
       "      <td>14</td>\n",
       "      <td>5</td>\n",
       "      <td>10</td>\n",
       "    </tr>\n",
       "    <tr>\n",
       "      <th>2</th>\n",
       "      <td>8901342</td>\n",
       "      <td>50</td>\n",
       "      <td>12</td>\n",
       "      <td>1</td>\n",
       "      <td>2</td>\n",
       "      <td>0</td>\n",
       "      <td>30</td>\n",
       "      <td>290</td>\n",
       "      <td>14</td>\n",
       "      <td>9</td>\n",
       "      <td>14</td>\n",
       "    </tr>\n",
       "    <tr>\n",
       "      <th>3</th>\n",
       "      <td>1944421</td>\n",
       "      <td>49</td>\n",
       "      <td>9</td>\n",
       "      <td>0</td>\n",
       "      <td>2</td>\n",
       "      <td>1</td>\n",
       "      <td>1</td>\n",
       "      <td>171</td>\n",
       "      <td>14</td>\n",
       "      <td>3</td>\n",
       "      <td>12</td>\n",
       "    </tr>\n",
       "    <tr>\n",
       "      <th>4</th>\n",
       "      <td>13429</td>\n",
       "      <td>25</td>\n",
       "      <td>18</td>\n",
       "      <td>1</td>\n",
       "      <td>2</td>\n",
       "      <td>1</td>\n",
       "      <td>12</td>\n",
       "      <td>39</td>\n",
       "      <td>28</td>\n",
       "      <td>13</td>\n",
       "      <td>11</td>\n",
       "    </tr>\n",
       "    <tr>\n",
       "      <th>...</th>\n",
       "      <td>...</td>\n",
       "      <td>...</td>\n",
       "      <td>...</td>\n",
       "      <td>...</td>\n",
       "      <td>...</td>\n",
       "      <td>...</td>\n",
       "      <td>...</td>\n",
       "      <td>...</td>\n",
       "      <td>...</td>\n",
       "      <td>...</td>\n",
       "      <td>...</td>\n",
       "    </tr>\n",
       "    <tr>\n",
       "      <th>27995</th>\n",
       "      <td>9955481</td>\n",
       "      <td>57</td>\n",
       "      <td>13</td>\n",
       "      <td>1</td>\n",
       "      <td>2</td>\n",
       "      <td>0</td>\n",
       "      <td>44</td>\n",
       "      <td>90</td>\n",
       "      <td>0</td>\n",
       "      <td>5</td>\n",
       "      <td>10</td>\n",
       "    </tr>\n",
       "    <tr>\n",
       "      <th>27996</th>\n",
       "      <td>2917765</td>\n",
       "      <td>47</td>\n",
       "      <td>9</td>\n",
       "      <td>1</td>\n",
       "      <td>2</td>\n",
       "      <td>0</td>\n",
       "      <td>47</td>\n",
       "      <td>249</td>\n",
       "      <td>13</td>\n",
       "      <td>9</td>\n",
       "      <td>14</td>\n",
       "    </tr>\n",
       "    <tr>\n",
       "      <th>27997</th>\n",
       "      <td>8082415</td>\n",
       "      <td>24</td>\n",
       "      <td>5</td>\n",
       "      <td>1</td>\n",
       "      <td>2</td>\n",
       "      <td>0</td>\n",
       "      <td>30</td>\n",
       "      <td>190</td>\n",
       "      <td>14</td>\n",
       "      <td>4</td>\n",
       "      <td>13</td>\n",
       "    </tr>\n",
       "    <tr>\n",
       "      <th>27998</th>\n",
       "      <td>9474180</td>\n",
       "      <td>51</td>\n",
       "      <td>13</td>\n",
       "      <td>1</td>\n",
       "      <td>2</td>\n",
       "      <td>1</td>\n",
       "      <td>7</td>\n",
       "      <td>47</td>\n",
       "      <td>4</td>\n",
       "      <td>13</td>\n",
       "      <td>14</td>\n",
       "    </tr>\n",
       "    <tr>\n",
       "      <th>27999</th>\n",
       "      <td>9250350</td>\n",
       "      <td>42</td>\n",
       "      <td>9</td>\n",
       "      <td>1</td>\n",
       "      <td>2</td>\n",
       "      <td>0</td>\n",
       "      <td>8</td>\n",
       "      <td>212</td>\n",
       "      <td>14</td>\n",
       "      <td>4</td>\n",
       "      <td>10</td>\n",
       "    </tr>\n",
       "  </tbody>\n",
       "</table>\n",
       "<p>28000 rows × 11 columns</p>\n",
       "</div>"
      ],
      "text/plain": [
       "        Income  Age  Experience  Married/Single  House_Ownership  \\\n",
       "0      7393090   59          19               1                2   \n",
       "1      1215004   25           5               1                2   \n",
       "2      8901342   50          12               1                2   \n",
       "3      1944421   49           9               0                2   \n",
       "4        13429   25          18               1                2   \n",
       "...        ...  ...         ...             ...              ...   \n",
       "27995  9955481   57          13               1                2   \n",
       "27996  2917765   47           9               1                2   \n",
       "27997  8082415   24           5               1                2   \n",
       "27998  9474180   51          13               1                2   \n",
       "27999  9250350   42           9               1                2   \n",
       "\n",
       "       Car_Ownership  Profession  CITY  STATE  CURRENT_JOB_YRS  \\\n",
       "0                  0          26   181     28                4   \n",
       "1                  0          24   131     14                5   \n",
       "2                  0          30   290     14                9   \n",
       "3                  1           1   171     14                3   \n",
       "4                  1          12    39     28               13   \n",
       "...              ...         ...   ...    ...              ...   \n",
       "27995              0          44    90      0                5   \n",
       "27996              0          47   249     13                9   \n",
       "27997              0          30   190     14                4   \n",
       "27998              1           7    47      4               13   \n",
       "27999              0           8   212     14                4   \n",
       "\n",
       "       CURRENT_HOUSE_YRS  \n",
       "0                     13  \n",
       "1                     10  \n",
       "2                     14  \n",
       "3                     12  \n",
       "4                     11  \n",
       "...                  ...  \n",
       "27995                 10  \n",
       "27996                 14  \n",
       "27997                 13  \n",
       "27998                 14  \n",
       "27999                 10  \n",
       "\n",
       "[28000 rows x 11 columns]"
      ]
     },
     "execution_count": 27,
     "metadata": {},
     "output_type": "execute_result"
    }
   ],
   "source": [
    "df_test"
   ]
  },
  {
   "cell_type": "code",
   "execution_count": 28,
   "id": "b0182a56",
   "metadata": {
    "execution": {
     "iopub.execute_input": "2023-11-13T15:35:22.478957Z",
     "iopub.status.busy": "2023-11-13T15:35:22.478552Z",
     "iopub.status.idle": "2023-11-13T15:35:22.493993Z",
     "shell.execute_reply": "2023-11-13T15:35:22.492722Z"
    },
    "papermill": {
     "duration": 0.033753,
     "end_time": "2023-11-13T15:35:22.496784",
     "exception": false,
     "start_time": "2023-11-13T15:35:22.463031",
     "status": "completed"
    },
    "tags": []
   },
   "outputs": [],
   "source": [
    "ss = StandardScaler()\n",
    "df_test = ss.fit_transform(df_test)"
   ]
  },
  {
   "cell_type": "code",
   "execution_count": 29,
   "id": "917bde1d",
   "metadata": {
    "execution": {
     "iopub.execute_input": "2023-11-13T15:35:22.527058Z",
     "iopub.status.busy": "2023-11-13T15:35:22.526642Z",
     "iopub.status.idle": "2023-11-13T15:35:23.267033Z",
     "shell.execute_reply": "2023-11-13T15:35:23.265902Z"
    },
    "papermill": {
     "duration": 0.759061,
     "end_time": "2023-11-13T15:35:23.270177",
     "exception": false,
     "start_time": "2023-11-13T15:35:22.511116",
     "status": "completed"
    },
    "tags": []
   },
   "outputs": [],
   "source": [
    "predict_test_dataset = rfc.predict(df_test)"
   ]
  },
  {
   "cell_type": "code",
   "execution_count": 30,
   "id": "e87e6d09",
   "metadata": {
    "execution": {
     "iopub.execute_input": "2023-11-13T15:35:23.300223Z",
     "iopub.status.busy": "2023-11-13T15:35:23.299793Z",
     "iopub.status.idle": "2023-11-13T15:35:23.356547Z",
     "shell.execute_reply": "2023-11-13T15:35:23.354775Z"
    },
    "papermill": {
     "duration": 0.074877,
     "end_time": "2023-11-13T15:35:23.359309",
     "exception": false,
     "start_time": "2023-11-13T15:35:23.284432",
     "status": "completed"
    },
    "tags": []
   },
   "outputs": [
    {
     "name": "stdout",
     "output_type": "stream",
     "text": [
      "              precision    recall  f1-score   support\n",
      "\n",
      "           0       0.81      0.87      0.84     22598\n",
      "           1       0.19      0.13      0.15      5402\n",
      "\n",
      "    accuracy                           0.73     28000\n",
      "   macro avg       0.50      0.50      0.50     28000\n",
      "weighted avg       0.69      0.73      0.71     28000\n",
      "\n"
     ]
    }
   ],
   "source": [
    "print(classification_report(predict_test_dataset,df_prediction_data['risk_flag']))"
   ]
  }
 ],
 "metadata": {
  "kernelspec": {
   "display_name": "Python 3",
   "language": "python",
   "name": "python3"
  },
  "language_info": {
   "codemirror_mode": {
    "name": "ipython",
    "version": 3
   },
   "file_extension": ".py",
   "mimetype": "text/x-python",
   "name": "python",
   "nbconvert_exporter": "python",
   "pygments_lexer": "ipython3",
   "version": "3.10.12"
  },
  "papermill": {
   "default_parameters": {},
   "duration": 92.621265,
   "end_time": "2023-11-13T15:35:24.096532",
   "environment_variables": {},
   "exception": null,
   "input_path": "__notebook__.ipynb",
   "output_path": "__notebook__.ipynb",
   "parameters": {},
   "start_time": "2023-11-13T15:33:51.475267",
   "version": "2.4.0"
  }
 },
 "nbformat": 4,
 "nbformat_minor": 5
}
