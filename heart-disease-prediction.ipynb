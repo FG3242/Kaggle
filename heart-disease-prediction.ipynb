{
 "cells": [
  {
   "cell_type": "markdown",
   "id": "bb77d768",
   "metadata": {
    "papermill": {
     "duration": 0.007225,
     "end_time": "2023-05-28T18:41:34.150719",
     "exception": false,
     "start_time": "2023-05-28T18:41:34.143494",
     "status": "completed"
    },
    "tags": []
   },
   "source": [
    "# Import Library\n"
   ]
  },
  {
   "cell_type": "code",
   "execution_count": 1,
   "id": "b9891ccf",
   "metadata": {
    "_cell_guid": "b1076dfc-b9ad-4769-8c92-a6c4dae69d19",
    "_uuid": "8f2839f25d086af736a60e9eeb907d3b93b6e0e5",
    "execution": {
     "iopub.execute_input": "2023-05-28T18:41:34.166695Z",
     "iopub.status.busy": "2023-05-28T18:41:34.166168Z",
     "iopub.status.idle": "2023-05-28T18:41:36.620776Z",
     "shell.execute_reply": "2023-05-28T18:41:36.619413Z"
    },
    "papermill": {
     "duration": 2.466381,
     "end_time": "2023-05-28T18:41:36.623877",
     "exception": false,
     "start_time": "2023-05-28T18:41:34.157496",
     "status": "completed"
    },
    "tags": []
   },
   "outputs": [],
   "source": [
    "import numpy as np\n",
    "import pandas as pd\n",
    "import matplotlib.pyplot as plt\n",
    "import seaborn as sns\n",
    "from sklearn.model_selection import train_test_split\n",
    "from sklearn.ensemble import RandomForestClassifier\n",
    "from sklearn.metrics import classification_report,confusion_matrix,accuracy_score"
   ]
  },
  {
   "cell_type": "markdown",
   "id": "0062a839",
   "metadata": {
    "papermill": {
     "duration": 0.006139,
     "end_time": "2023-05-28T18:41:36.636810",
     "exception": false,
     "start_time": "2023-05-28T18:41:36.630671",
     "status": "completed"
    },
    "tags": []
   },
   "source": [
    "# Read data"
   ]
  },
  {
   "cell_type": "code",
   "execution_count": 2,
   "id": "fba2c7c1",
   "metadata": {
    "execution": {
     "iopub.execute_input": "2023-05-28T18:41:36.651703Z",
     "iopub.status.busy": "2023-05-28T18:41:36.651237Z",
     "iopub.status.idle": "2023-05-28T18:41:36.682486Z",
     "shell.execute_reply": "2023-05-28T18:41:36.681198Z"
    },
    "papermill": {
     "duration": 0.042187,
     "end_time": "2023-05-28T18:41:36.685527",
     "exception": false,
     "start_time": "2023-05-28T18:41:36.643340",
     "status": "completed"
    },
    "tags": []
   },
   "outputs": [],
   "source": [
    "df = pd.read_csv('/kaggle/input/heart-disease-diagnosis-dataset/dataset_heart.csv')"
   ]
  },
  {
   "cell_type": "markdown",
   "id": "74285ae9",
   "metadata": {
    "papermill": {
     "duration": 0.006396,
     "end_time": "2023-05-28T18:41:36.699080",
     "exception": false,
     "start_time": "2023-05-28T18:41:36.692684",
     "status": "completed"
    },
    "tags": []
   },
   "source": [
    "# Check Data head"
   ]
  },
  {
   "cell_type": "code",
   "execution_count": 3,
   "id": "632bfa02",
   "metadata": {
    "execution": {
     "iopub.execute_input": "2023-05-28T18:41:36.715051Z",
     "iopub.status.busy": "2023-05-28T18:41:36.714334Z",
     "iopub.status.idle": "2023-05-28T18:41:36.757657Z",
     "shell.execute_reply": "2023-05-28T18:41:36.756583Z"
    },
    "papermill": {
     "duration": 0.054911,
     "end_time": "2023-05-28T18:41:36.760583",
     "exception": false,
     "start_time": "2023-05-28T18:41:36.705672",
     "status": "completed"
    },
    "tags": []
   },
   "outputs": [
    {
     "data": {
      "text/html": [
       "<div>\n",
       "<style scoped>\n",
       "    .dataframe tbody tr th:only-of-type {\n",
       "        vertical-align: middle;\n",
       "    }\n",
       "\n",
       "    .dataframe tbody tr th {\n",
       "        vertical-align: top;\n",
       "    }\n",
       "\n",
       "    .dataframe thead th {\n",
       "        text-align: right;\n",
       "    }\n",
       "</style>\n",
       "<table border=\"1\" class=\"dataframe\">\n",
       "  <thead>\n",
       "    <tr style=\"text-align: right;\">\n",
       "      <th></th>\n",
       "      <th>age</th>\n",
       "      <th>sex</th>\n",
       "      <th>chest pain type</th>\n",
       "      <th>resting blood pressure</th>\n",
       "      <th>serum cholestoral</th>\n",
       "      <th>fasting blood sugar</th>\n",
       "      <th>resting electrocardiographic results</th>\n",
       "      <th>max heart rate</th>\n",
       "      <th>exercise induced angina</th>\n",
       "      <th>oldpeak</th>\n",
       "      <th>ST segment</th>\n",
       "      <th>major vessels</th>\n",
       "      <th>thal</th>\n",
       "      <th>heart disease</th>\n",
       "    </tr>\n",
       "  </thead>\n",
       "  <tbody>\n",
       "    <tr>\n",
       "      <th>0</th>\n",
       "      <td>70</td>\n",
       "      <td>1</td>\n",
       "      <td>4</td>\n",
       "      <td>130</td>\n",
       "      <td>322</td>\n",
       "      <td>0</td>\n",
       "      <td>2</td>\n",
       "      <td>109</td>\n",
       "      <td>0</td>\n",
       "      <td>2.4</td>\n",
       "      <td>2</td>\n",
       "      <td>3</td>\n",
       "      <td>3</td>\n",
       "      <td>2</td>\n",
       "    </tr>\n",
       "    <tr>\n",
       "      <th>1</th>\n",
       "      <td>67</td>\n",
       "      <td>0</td>\n",
       "      <td>3</td>\n",
       "      <td>115</td>\n",
       "      <td>564</td>\n",
       "      <td>0</td>\n",
       "      <td>2</td>\n",
       "      <td>160</td>\n",
       "      <td>0</td>\n",
       "      <td>1.6</td>\n",
       "      <td>2</td>\n",
       "      <td>0</td>\n",
       "      <td>7</td>\n",
       "      <td>1</td>\n",
       "    </tr>\n",
       "    <tr>\n",
       "      <th>2</th>\n",
       "      <td>57</td>\n",
       "      <td>1</td>\n",
       "      <td>2</td>\n",
       "      <td>124</td>\n",
       "      <td>261</td>\n",
       "      <td>0</td>\n",
       "      <td>0</td>\n",
       "      <td>141</td>\n",
       "      <td>0</td>\n",
       "      <td>0.3</td>\n",
       "      <td>1</td>\n",
       "      <td>0</td>\n",
       "      <td>7</td>\n",
       "      <td>2</td>\n",
       "    </tr>\n",
       "    <tr>\n",
       "      <th>3</th>\n",
       "      <td>64</td>\n",
       "      <td>1</td>\n",
       "      <td>4</td>\n",
       "      <td>128</td>\n",
       "      <td>263</td>\n",
       "      <td>0</td>\n",
       "      <td>0</td>\n",
       "      <td>105</td>\n",
       "      <td>1</td>\n",
       "      <td>0.2</td>\n",
       "      <td>2</td>\n",
       "      <td>1</td>\n",
       "      <td>7</td>\n",
       "      <td>1</td>\n",
       "    </tr>\n",
       "    <tr>\n",
       "      <th>4</th>\n",
       "      <td>74</td>\n",
       "      <td>0</td>\n",
       "      <td>2</td>\n",
       "      <td>120</td>\n",
       "      <td>269</td>\n",
       "      <td>0</td>\n",
       "      <td>2</td>\n",
       "      <td>121</td>\n",
       "      <td>1</td>\n",
       "      <td>0.2</td>\n",
       "      <td>1</td>\n",
       "      <td>1</td>\n",
       "      <td>3</td>\n",
       "      <td>1</td>\n",
       "    </tr>\n",
       "  </tbody>\n",
       "</table>\n",
       "</div>"
      ],
      "text/plain": [
       "   age  sex   chest pain type  resting blood pressure  serum cholestoral  \\\n",
       "0   70     1                4                     130                322   \n",
       "1   67     0                3                     115                564   \n",
       "2   57     1                2                     124                261   \n",
       "3   64     1                4                     128                263   \n",
       "4   74     0                2                     120                269   \n",
       "\n",
       "   fasting blood sugar  resting electrocardiographic results  max heart rate  \\\n",
       "0                    0                                     2             109   \n",
       "1                    0                                     2             160   \n",
       "2                    0                                     0             141   \n",
       "3                    0                                     0             105   \n",
       "4                    0                                     2             121   \n",
       "\n",
       "   exercise induced angina  oldpeak  ST segment  major vessels  thal  \\\n",
       "0                        0      2.4           2              3     3   \n",
       "1                        0      1.6           2              0     7   \n",
       "2                        0      0.3           1              0     7   \n",
       "3                        1      0.2           2              1     7   \n",
       "4                        1      0.2           1              1     3   \n",
       "\n",
       "   heart disease  \n",
       "0              2  \n",
       "1              1  \n",
       "2              2  \n",
       "3              1  \n",
       "4              1  "
      ]
     },
     "execution_count": 3,
     "metadata": {},
     "output_type": "execute_result"
    }
   ],
   "source": [
    "df.head()"
   ]
  },
  {
   "cell_type": "markdown",
   "id": "a23cd9fc",
   "metadata": {
    "papermill": {
     "duration": 0.006443,
     "end_time": "2023-05-28T18:41:36.775682",
     "exception": false,
     "start_time": "2023-05-28T18:41:36.769239",
     "status": "completed"
    },
    "tags": []
   },
   "source": [
    "# Check null values"
   ]
  },
  {
   "cell_type": "code",
   "execution_count": 4,
   "id": "724b3030",
   "metadata": {
    "execution": {
     "iopub.execute_input": "2023-05-28T18:41:36.791270Z",
     "iopub.status.busy": "2023-05-28T18:41:36.790325Z",
     "iopub.status.idle": "2023-05-28T18:41:36.802474Z",
     "shell.execute_reply": "2023-05-28T18:41:36.801354Z"
    },
    "papermill": {
     "duration": 0.022795,
     "end_time": "2023-05-28T18:41:36.805090",
     "exception": false,
     "start_time": "2023-05-28T18:41:36.782295",
     "status": "completed"
    },
    "tags": []
   },
   "outputs": [
    {
     "data": {
      "text/plain": [
       "age                                     0\n",
       "sex                                     0\n",
       "chest pain type                         0\n",
       "resting blood pressure                  0\n",
       "serum cholestoral                       0\n",
       "fasting blood sugar                     0\n",
       "resting electrocardiographic results    0\n",
       "max heart rate                          0\n",
       "exercise induced angina                 0\n",
       "oldpeak                                 0\n",
       "ST segment                              0\n",
       "major vessels                           0\n",
       "thal                                    0\n",
       "heart disease                           0\n",
       "dtype: int64"
      ]
     },
     "execution_count": 4,
     "metadata": {},
     "output_type": "execute_result"
    }
   ],
   "source": [
    "df.isnull().sum()"
   ]
  },
  {
   "cell_type": "markdown",
   "id": "b6d3b0d7",
   "metadata": {
    "papermill": {
     "duration": 0.006798,
     "end_time": "2023-05-28T18:41:36.819467",
     "exception": false,
     "start_time": "2023-05-28T18:41:36.812669",
     "status": "completed"
    },
    "tags": []
   },
   "source": [
    "# Select Factor columns and Pridiction column"
   ]
  },
  {
   "cell_type": "code",
   "execution_count": 5,
   "id": "5bc4554d",
   "metadata": {
    "execution": {
     "iopub.execute_input": "2023-05-28T18:41:36.835808Z",
     "iopub.status.busy": "2023-05-28T18:41:36.835110Z",
     "iopub.status.idle": "2023-05-28T18:41:36.846566Z",
     "shell.execute_reply": "2023-05-28T18:41:36.845473Z"
    },
    "papermill": {
     "duration": 0.022464,
     "end_time": "2023-05-28T18:41:36.848930",
     "exception": false,
     "start_time": "2023-05-28T18:41:36.826466",
     "status": "completed"
    },
    "tags": []
   },
   "outputs": [],
   "source": [
    "x = df[['age', 'sex ', 'chest pain type', 'resting blood pressure',\n",
    "       'serum cholestoral', 'fasting blood sugar',\n",
    "       'resting electrocardiographic results', 'max heart rate',\n",
    "       'exercise induced angina', 'oldpeak', 'ST segment', 'major vessels',\n",
    "       'thal']]\n",
    "y = df[\"heart disease\"]"
   ]
  },
  {
   "cell_type": "code",
   "execution_count": 6,
   "id": "73e25c7f",
   "metadata": {
    "execution": {
     "iopub.execute_input": "2023-05-28T18:41:36.864866Z",
     "iopub.status.busy": "2023-05-28T18:41:36.864159Z",
     "iopub.status.idle": "2023-05-28T18:41:36.868631Z",
     "shell.execute_reply": "2023-05-28T18:41:36.867535Z"
    },
    "papermill": {
     "duration": 0.015228,
     "end_time": "2023-05-28T18:41:36.871094",
     "exception": false,
     "start_time": "2023-05-28T18:41:36.855866",
     "status": "completed"
    },
    "tags": []
   },
   "outputs": [],
   "source": [
    "rft = RandomForestClassifier()"
   ]
  },
  {
   "cell_type": "markdown",
   "id": "f764d000",
   "metadata": {
    "papermill": {
     "duration": 0.006722,
     "end_time": "2023-05-28T18:41:36.884712",
     "exception": false,
     "start_time": "2023-05-28T18:41:36.877990",
     "status": "completed"
    },
    "tags": []
   },
   "source": [
    "# Split Data"
   ]
  },
  {
   "cell_type": "code",
   "execution_count": 7,
   "id": "aa74d1e5",
   "metadata": {
    "execution": {
     "iopub.execute_input": "2023-05-28T18:41:36.903957Z",
     "iopub.status.busy": "2023-05-28T18:41:36.902815Z",
     "iopub.status.idle": "2023-05-28T18:41:36.911286Z",
     "shell.execute_reply": "2023-05-28T18:41:36.909883Z"
    },
    "papermill": {
     "duration": 0.021947,
     "end_time": "2023-05-28T18:41:36.914202",
     "exception": false,
     "start_time": "2023-05-28T18:41:36.892255",
     "status": "completed"
    },
    "tags": []
   },
   "outputs": [],
   "source": [
    "x_train,x_test,y_train,y_test = train_test_split(x,y,test_size=0.3,random_state=101)"
   ]
  },
  {
   "cell_type": "markdown",
   "id": "db4c61de",
   "metadata": {
    "papermill": {
     "duration": 0.006733,
     "end_time": "2023-05-28T18:41:36.927939",
     "exception": false,
     "start_time": "2023-05-28T18:41:36.921206",
     "status": "completed"
    },
    "tags": []
   },
   "source": [
    "# Train data"
   ]
  },
  {
   "cell_type": "code",
   "execution_count": 8,
   "id": "632520f8",
   "metadata": {
    "execution": {
     "iopub.execute_input": "2023-05-28T18:41:36.943745Z",
     "iopub.status.busy": "2023-05-28T18:41:36.943317Z",
     "iopub.status.idle": "2023-05-28T18:41:37.207021Z",
     "shell.execute_reply": "2023-05-28T18:41:37.205538Z"
    },
    "papermill": {
     "duration": 0.274709,
     "end_time": "2023-05-28T18:41:37.209691",
     "exception": false,
     "start_time": "2023-05-28T18:41:36.934982",
     "status": "completed"
    },
    "tags": []
   },
   "outputs": [
    {
     "data": {
      "text/html": [
       "<style>#sk-container-id-1 {color: black;background-color: white;}#sk-container-id-1 pre{padding: 0;}#sk-container-id-1 div.sk-toggleable {background-color: white;}#sk-container-id-1 label.sk-toggleable__label {cursor: pointer;display: block;width: 100%;margin-bottom: 0;padding: 0.3em;box-sizing: border-box;text-align: center;}#sk-container-id-1 label.sk-toggleable__label-arrow:before {content: \"▸\";float: left;margin-right: 0.25em;color: #696969;}#sk-container-id-1 label.sk-toggleable__label-arrow:hover:before {color: black;}#sk-container-id-1 div.sk-estimator:hover label.sk-toggleable__label-arrow:before {color: black;}#sk-container-id-1 div.sk-toggleable__content {max-height: 0;max-width: 0;overflow: hidden;text-align: left;background-color: #f0f8ff;}#sk-container-id-1 div.sk-toggleable__content pre {margin: 0.2em;color: black;border-radius: 0.25em;background-color: #f0f8ff;}#sk-container-id-1 input.sk-toggleable__control:checked~div.sk-toggleable__content {max-height: 200px;max-width: 100%;overflow: auto;}#sk-container-id-1 input.sk-toggleable__control:checked~label.sk-toggleable__label-arrow:before {content: \"▾\";}#sk-container-id-1 div.sk-estimator input.sk-toggleable__control:checked~label.sk-toggleable__label {background-color: #d4ebff;}#sk-container-id-1 div.sk-label input.sk-toggleable__control:checked~label.sk-toggleable__label {background-color: #d4ebff;}#sk-container-id-1 input.sk-hidden--visually {border: 0;clip: rect(1px 1px 1px 1px);clip: rect(1px, 1px, 1px, 1px);height: 1px;margin: -1px;overflow: hidden;padding: 0;position: absolute;width: 1px;}#sk-container-id-1 div.sk-estimator {font-family: monospace;background-color: #f0f8ff;border: 1px dotted black;border-radius: 0.25em;box-sizing: border-box;margin-bottom: 0.5em;}#sk-container-id-1 div.sk-estimator:hover {background-color: #d4ebff;}#sk-container-id-1 div.sk-parallel-item::after {content: \"\";width: 100%;border-bottom: 1px solid gray;flex-grow: 1;}#sk-container-id-1 div.sk-label:hover label.sk-toggleable__label {background-color: #d4ebff;}#sk-container-id-1 div.sk-serial::before {content: \"\";position: absolute;border-left: 1px solid gray;box-sizing: border-box;top: 0;bottom: 0;left: 50%;z-index: 0;}#sk-container-id-1 div.sk-serial {display: flex;flex-direction: column;align-items: center;background-color: white;padding-right: 0.2em;padding-left: 0.2em;position: relative;}#sk-container-id-1 div.sk-item {position: relative;z-index: 1;}#sk-container-id-1 div.sk-parallel {display: flex;align-items: stretch;justify-content: center;background-color: white;position: relative;}#sk-container-id-1 div.sk-item::before, #sk-container-id-1 div.sk-parallel-item::before {content: \"\";position: absolute;border-left: 1px solid gray;box-sizing: border-box;top: 0;bottom: 0;left: 50%;z-index: -1;}#sk-container-id-1 div.sk-parallel-item {display: flex;flex-direction: column;z-index: 1;position: relative;background-color: white;}#sk-container-id-1 div.sk-parallel-item:first-child::after {align-self: flex-end;width: 50%;}#sk-container-id-1 div.sk-parallel-item:last-child::after {align-self: flex-start;width: 50%;}#sk-container-id-1 div.sk-parallel-item:only-child::after {width: 0;}#sk-container-id-1 div.sk-dashed-wrapped {border: 1px dashed gray;margin: 0 0.4em 0.5em 0.4em;box-sizing: border-box;padding-bottom: 0.4em;background-color: white;}#sk-container-id-1 div.sk-label label {font-family: monospace;font-weight: bold;display: inline-block;line-height: 1.2em;}#sk-container-id-1 div.sk-label-container {text-align: center;}#sk-container-id-1 div.sk-container {/* jupyter's `normalize.less` sets `[hidden] { display: none; }` but bootstrap.min.css set `[hidden] { display: none !important; }` so we also need the `!important` here to be able to override the default hidden behavior on the sphinx rendered scikit-learn.org. See: https://github.com/scikit-learn/scikit-learn/issues/21755 */display: inline-block !important;position: relative;}#sk-container-id-1 div.sk-text-repr-fallback {display: none;}</style><div id=\"sk-container-id-1\" class=\"sk-top-container\"><div class=\"sk-text-repr-fallback\"><pre>RandomForestClassifier()</pre><b>In a Jupyter environment, please rerun this cell to show the HTML representation or trust the notebook. <br />On GitHub, the HTML representation is unable to render, please try loading this page with nbviewer.org.</b></div><div class=\"sk-container\" hidden><div class=\"sk-item\"><div class=\"sk-estimator sk-toggleable\"><input class=\"sk-toggleable__control sk-hidden--visually\" id=\"sk-estimator-id-1\" type=\"checkbox\" checked><label for=\"sk-estimator-id-1\" class=\"sk-toggleable__label sk-toggleable__label-arrow\">RandomForestClassifier</label><div class=\"sk-toggleable__content\"><pre>RandomForestClassifier()</pre></div></div></div></div></div>"
      ],
      "text/plain": [
       "RandomForestClassifier()"
      ]
     },
     "execution_count": 8,
     "metadata": {},
     "output_type": "execute_result"
    }
   ],
   "source": [
    "rft.fit(x_train,y_train)"
   ]
  },
  {
   "cell_type": "markdown",
   "id": "efc598d9",
   "metadata": {
    "papermill": {
     "duration": 0.00714,
     "end_time": "2023-05-28T18:41:37.224919",
     "exception": false,
     "start_time": "2023-05-28T18:41:37.217779",
     "status": "completed"
    },
    "tags": []
   },
   "source": [
    "# Predict data"
   ]
  },
  {
   "cell_type": "code",
   "execution_count": 9,
   "id": "33d02fa5",
   "metadata": {
    "execution": {
     "iopub.execute_input": "2023-05-28T18:41:37.241157Z",
     "iopub.status.busy": "2023-05-28T18:41:37.240741Z",
     "iopub.status.idle": "2023-05-28T18:41:37.261523Z",
     "shell.execute_reply": "2023-05-28T18:41:37.260419Z"
    },
    "papermill": {
     "duration": 0.031928,
     "end_time": "2023-05-28T18:41:37.264201",
     "exception": false,
     "start_time": "2023-05-28T18:41:37.232273",
     "status": "completed"
    },
    "tags": []
   },
   "outputs": [],
   "source": [
    "predict = rft.predict(x_test)"
   ]
  },
  {
   "cell_type": "code",
   "execution_count": 10,
   "id": "895ffe00",
   "metadata": {
    "execution": {
     "iopub.execute_input": "2023-05-28T18:41:37.280561Z",
     "iopub.status.busy": "2023-05-28T18:41:37.280172Z",
     "iopub.status.idle": "2023-05-28T18:41:37.286559Z",
     "shell.execute_reply": "2023-05-28T18:41:37.285631Z"
    },
    "papermill": {
     "duration": 0.017447,
     "end_time": "2023-05-28T18:41:37.288817",
     "exception": false,
     "start_time": "2023-05-28T18:41:37.271370",
     "status": "completed"
    },
    "tags": []
   },
   "outputs": [
    {
     "data": {
      "text/plain": [
       "array([1, 1, 1, 1, 1, 1, 2, 2, 2, 1, 2, 1, 2, 1, 1, 2, 1, 1, 1, 1, 1, 2,\n",
       "       1, 1, 1, 2, 2, 1, 2, 1, 2, 1, 1, 2, 2, 2, 2, 1, 1, 1, 1, 2, 1, 1,\n",
       "       1, 1, 2, 2, 2, 2, 2, 1, 1, 2, 2, 2, 2, 1, 1, 2, 1, 2, 2, 1, 2, 1,\n",
       "       1, 2, 2, 2, 1, 2, 2, 1, 1, 1, 1, 2, 2, 1, 1])"
      ]
     },
     "execution_count": 10,
     "metadata": {},
     "output_type": "execute_result"
    }
   ],
   "source": [
    "predict"
   ]
  },
  {
   "cell_type": "markdown",
   "id": "7b21a747",
   "metadata": {
    "papermill": {
     "duration": 0.007646,
     "end_time": "2023-05-28T18:41:37.304412",
     "exception": false,
     "start_time": "2023-05-28T18:41:37.296766",
     "status": "completed"
    },
    "tags": []
   },
   "source": [
    "# Print classification_report , confusion_matrix, accuracy_score"
   ]
  },
  {
   "cell_type": "code",
   "execution_count": 11,
   "id": "3d475fcc",
   "metadata": {
    "execution": {
     "iopub.execute_input": "2023-05-28T18:41:37.321700Z",
     "iopub.status.busy": "2023-05-28T18:41:37.321076Z",
     "iopub.status.idle": "2023-05-28T18:41:37.339231Z",
     "shell.execute_reply": "2023-05-28T18:41:37.337923Z"
    },
    "papermill": {
     "duration": 0.03003,
     "end_time": "2023-05-28T18:41:37.342001",
     "exception": false,
     "start_time": "2023-05-28T18:41:37.311971",
     "status": "completed"
    },
    "tags": []
   },
   "outputs": [
    {
     "name": "stdout",
     "output_type": "stream",
     "text": [
      "              precision    recall  f1-score   support\n",
      "\n",
      "           1       0.80      0.88      0.84        41\n",
      "           2       0.86      0.78      0.82        40\n",
      "\n",
      "    accuracy                           0.83        81\n",
      "   macro avg       0.83      0.83      0.83        81\n",
      "weighted avg       0.83      0.83      0.83        81\n",
      "\n",
      "[[36  5]\n",
      " [ 9 31]]\n",
      "82.71604938271605 %\n"
     ]
    }
   ],
   "source": [
    "print(classification_report(y_test,predict))\n",
    "print(confusion_matrix(y_test,predict))\n",
    "print(accuracy_score(y_test,predict)*100,'%')"
   ]
  },
  {
   "cell_type": "markdown",
   "id": "4dd762e2",
   "metadata": {
    "papermill": {
     "duration": 0.006927,
     "end_time": "2023-05-28T18:41:37.356384",
     "exception": false,
     "start_time": "2023-05-28T18:41:37.349457",
     "status": "completed"
    },
    "tags": []
   },
   "source": [
    "# 81.4% Accuracy"
   ]
  }
 ],
 "metadata": {
  "kernelspec": {
   "display_name": "Python 3",
   "language": "python",
   "name": "python3"
  },
  "language_info": {
   "codemirror_mode": {
    "name": "ipython",
    "version": 3
   },
   "file_extension": ".py",
   "mimetype": "text/x-python",
   "name": "python",
   "nbconvert_exporter": "python",
   "pygments_lexer": "ipython3",
   "version": "3.10.10"
  },
  "papermill": {
   "default_parameters": {},
   "duration": 19.992768,
   "end_time": "2023-05-28T18:41:38.492445",
   "environment_variables": {},
   "exception": null,
   "input_path": "__notebook__.ipynb",
   "output_path": "__notebook__.ipynb",
   "parameters": {},
   "start_time": "2023-05-28T18:41:18.499677",
   "version": "2.4.0"
  }
 },
 "nbformat": 4,
 "nbformat_minor": 5
}
