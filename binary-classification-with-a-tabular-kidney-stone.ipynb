{
 "cells": [
  {
   "cell_type": "code",
   "execution_count": 1,
   "id": "806b8eb3",
   "metadata": {
    "_cell_guid": "b1076dfc-b9ad-4769-8c92-a6c4dae69d19",
    "_uuid": "8f2839f25d086af736a60e9eeb907d3b93b6e0e5",
    "execution": {
     "iopub.execute_input": "2023-05-25T13:01:04.565771Z",
     "iopub.status.busy": "2023-05-25T13:01:04.564857Z",
     "iopub.status.idle": "2023-05-25T13:01:07.460286Z",
     "shell.execute_reply": "2023-05-25T13:01:07.458795Z"
    },
    "papermill": {
     "duration": 2.923218,
     "end_time": "2023-05-25T13:01:07.463829",
     "exception": false,
     "start_time": "2023-05-25T13:01:04.540611",
     "status": "completed"
    },
    "tags": []
   },
   "outputs": [],
   "source": [
    "import numpy as np\n",
    "import pandas as pd\n",
    "import matplotlib.pyplot as plt\n",
    "import seaborn as sns\n",
    "from sklearn.model_selection import train_test_split\n",
    "from sklearn.linear_model import LogisticRegression\n",
    "from sklearn.metrics import classification_report,confusion_matrix\n",
    "from sklearn.tree import DecisionTreeClassifier\n",
    "from sklearn.ensemble import RandomForestClassifier\n"
   ]
  },
  {
   "cell_type": "code",
   "execution_count": 2,
   "id": "c4e374bc",
   "metadata": {
    "execution": {
     "iopub.execute_input": "2023-05-25T13:01:07.491916Z",
     "iopub.status.busy": "2023-05-25T13:01:07.491095Z",
     "iopub.status.idle": "2023-05-25T13:01:07.520213Z",
     "shell.execute_reply": "2023-05-25T13:01:07.518921Z"
    },
    "papermill": {
     "duration": 0.047137,
     "end_time": "2023-05-25T13:01:07.523865",
     "exception": false,
     "start_time": "2023-05-25T13:01:07.476728",
     "status": "completed"
    },
    "tags": []
   },
   "outputs": [],
   "source": [
    "train_df = pd.read_csv(\"/kaggle/input/playground-series-s3e12/train.csv\")"
   ]
  },
  {
   "cell_type": "code",
   "execution_count": 3,
   "id": "6197dab8",
   "metadata": {
    "execution": {
     "iopub.execute_input": "2023-05-25T13:01:07.552083Z",
     "iopub.status.busy": "2023-05-25T13:01:07.551308Z",
     "iopub.status.idle": "2023-05-25T13:01:07.592802Z",
     "shell.execute_reply": "2023-05-25T13:01:07.591686Z"
    },
    "papermill": {
     "duration": 0.058949,
     "end_time": "2023-05-25T13:01:07.595905",
     "exception": false,
     "start_time": "2023-05-25T13:01:07.536956",
     "status": "completed"
    },
    "tags": []
   },
   "outputs": [
    {
     "data": {
      "text/html": [
       "<div>\n",
       "<style scoped>\n",
       "    .dataframe tbody tr th:only-of-type {\n",
       "        vertical-align: middle;\n",
       "    }\n",
       "\n",
       "    .dataframe tbody tr th {\n",
       "        vertical-align: top;\n",
       "    }\n",
       "\n",
       "    .dataframe thead th {\n",
       "        text-align: right;\n",
       "    }\n",
       "</style>\n",
       "<table border=\"1\" class=\"dataframe\">\n",
       "  <thead>\n",
       "    <tr style=\"text-align: right;\">\n",
       "      <th></th>\n",
       "      <th>id</th>\n",
       "      <th>gravity</th>\n",
       "      <th>ph</th>\n",
       "      <th>osmo</th>\n",
       "      <th>cond</th>\n",
       "      <th>urea</th>\n",
       "      <th>calc</th>\n",
       "      <th>target</th>\n",
       "    </tr>\n",
       "  </thead>\n",
       "  <tbody>\n",
       "    <tr>\n",
       "      <th>0</th>\n",
       "      <td>0</td>\n",
       "      <td>1.013</td>\n",
       "      <td>6.19</td>\n",
       "      <td>443</td>\n",
       "      <td>14.8</td>\n",
       "      <td>124</td>\n",
       "      <td>1.45</td>\n",
       "      <td>0</td>\n",
       "    </tr>\n",
       "    <tr>\n",
       "      <th>1</th>\n",
       "      <td>1</td>\n",
       "      <td>1.025</td>\n",
       "      <td>5.40</td>\n",
       "      <td>703</td>\n",
       "      <td>23.6</td>\n",
       "      <td>394</td>\n",
       "      <td>4.18</td>\n",
       "      <td>0</td>\n",
       "    </tr>\n",
       "    <tr>\n",
       "      <th>2</th>\n",
       "      <td>2</td>\n",
       "      <td>1.009</td>\n",
       "      <td>6.13</td>\n",
       "      <td>371</td>\n",
       "      <td>24.5</td>\n",
       "      <td>159</td>\n",
       "      <td>9.04</td>\n",
       "      <td>0</td>\n",
       "    </tr>\n",
       "    <tr>\n",
       "      <th>3</th>\n",
       "      <td>3</td>\n",
       "      <td>1.021</td>\n",
       "      <td>4.91</td>\n",
       "      <td>442</td>\n",
       "      <td>20.8</td>\n",
       "      <td>398</td>\n",
       "      <td>6.63</td>\n",
       "      <td>1</td>\n",
       "    </tr>\n",
       "    <tr>\n",
       "      <th>4</th>\n",
       "      <td>4</td>\n",
       "      <td>1.021</td>\n",
       "      <td>5.53</td>\n",
       "      <td>874</td>\n",
       "      <td>17.8</td>\n",
       "      <td>385</td>\n",
       "      <td>2.21</td>\n",
       "      <td>1</td>\n",
       "    </tr>\n",
       "  </tbody>\n",
       "</table>\n",
       "</div>"
      ],
      "text/plain": [
       "   id  gravity    ph  osmo  cond  urea  calc  target\n",
       "0   0    1.013  6.19   443  14.8   124  1.45       0\n",
       "1   1    1.025  5.40   703  23.6   394  4.18       0\n",
       "2   2    1.009  6.13   371  24.5   159  9.04       0\n",
       "3   3    1.021  4.91   442  20.8   398  6.63       1\n",
       "4   4    1.021  5.53   874  17.8   385  2.21       1"
      ]
     },
     "execution_count": 3,
     "metadata": {},
     "output_type": "execute_result"
    }
   ],
   "source": [
    "train_df.head()"
   ]
  },
  {
   "cell_type": "code",
   "execution_count": 4,
   "id": "1dead877",
   "metadata": {
    "execution": {
     "iopub.execute_input": "2023-05-25T13:01:07.626096Z",
     "iopub.status.busy": "2023-05-25T13:01:07.624976Z",
     "iopub.status.idle": "2023-05-25T13:01:07.640107Z",
     "shell.execute_reply": "2023-05-25T13:01:07.638671Z"
    },
    "papermill": {
     "duration": 0.034626,
     "end_time": "2023-05-25T13:01:07.643878",
     "exception": false,
     "start_time": "2023-05-25T13:01:07.609252",
     "status": "completed"
    },
    "tags": []
   },
   "outputs": [
    {
     "data": {
      "text/plain": [
       "id         0\n",
       "gravity    0\n",
       "ph         0\n",
       "osmo       0\n",
       "cond       0\n",
       "urea       0\n",
       "calc       0\n",
       "target     0\n",
       "dtype: int64"
      ]
     },
     "execution_count": 4,
     "metadata": {},
     "output_type": "execute_result"
    }
   ],
   "source": [
    "train_df.isnull().sum()"
   ]
  },
  {
   "cell_type": "code",
   "execution_count": 5,
   "id": "e9161ff2",
   "metadata": {
    "execution": {
     "iopub.execute_input": "2023-05-25T13:01:07.674385Z",
     "iopub.status.busy": "2023-05-25T13:01:07.673849Z",
     "iopub.status.idle": "2023-05-25T13:01:07.929880Z",
     "shell.execute_reply": "2023-05-25T13:01:07.928226Z"
    },
    "papermill": {
     "duration": 0.275157,
     "end_time": "2023-05-25T13:01:07.933080",
     "exception": false,
     "start_time": "2023-05-25T13:01:07.657923",
     "status": "completed"
    },
    "tags": []
   },
   "outputs": [
    {
     "data": {
      "text/plain": [
       "<Axes: >"
      ]
     },
     "execution_count": 5,
     "metadata": {},
     "output_type": "execute_result"
    },
    {
     "data": {
      "image/png": "[encoded data removed]",
      "text/plain": [
       "<Figure size 640x480 with 1 Axes>"
      ]
     },
     "metadata": {},
     "output_type": "display_data"
    }
   ],
   "source": [
    "sns.heatmap(train_df.isnull(),yticklabels=False,cbar=False,cmap='viridis')"
   ]
  },
  {
   "cell_type": "code",
   "execution_count": 6,
   "id": "49b80422",
   "metadata": {
    "execution": {
     "iopub.execute_input": "2023-05-25T13:01:07.962657Z",
     "iopub.status.busy": "2023-05-25T13:01:07.961896Z",
     "iopub.status.idle": "2023-05-25T13:01:07.976355Z",
     "shell.execute_reply": "2023-05-25T13:01:07.974712Z"
    },
    "papermill": {
     "duration": 0.033076,
     "end_time": "2023-05-25T13:01:07.979725",
     "exception": false,
     "start_time": "2023-05-25T13:01:07.946649",
     "status": "completed"
    },
    "tags": []
   },
   "outputs": [],
   "source": [
    "x = train_df.drop(['target','id'],axis = 1)\n",
    "y =train_df['target']"
   ]
  },
  {
   "cell_type": "code",
   "execution_count": 7,
   "id": "6b6be251",
   "metadata": {
    "execution": {
     "iopub.execute_input": "2023-05-25T13:01:08.008426Z",
     "iopub.status.busy": "2023-05-25T13:01:08.007914Z",
     "iopub.status.idle": "2023-05-25T13:01:08.017841Z",
     "shell.execute_reply": "2023-05-25T13:01:08.016570Z"
    },
    "papermill": {
     "duration": 0.027947,
     "end_time": "2023-05-25T13:01:08.020834",
     "exception": false,
     "start_time": "2023-05-25T13:01:07.992887",
     "status": "completed"
    },
    "tags": []
   },
   "outputs": [],
   "source": [
    "x_train,x_test,y_train,y_test = train_test_split(x,y,test_size=0.3,random_state=42)"
   ]
  },
  {
   "cell_type": "code",
   "execution_count": 8,
   "id": "f0dc1cea",
   "metadata": {
    "execution": {
     "iopub.execute_input": "2023-05-25T13:01:08.050407Z",
     "iopub.status.busy": "2023-05-25T13:01:08.049897Z",
     "iopub.status.idle": "2023-05-25T13:01:08.055170Z",
     "shell.execute_reply": "2023-05-25T13:01:08.054056Z"
    },
    "papermill": {
     "duration": 0.022917,
     "end_time": "2023-05-25T13:01:08.057838",
     "exception": false,
     "start_time": "2023-05-25T13:01:08.034921",
     "status": "completed"
    },
    "tags": []
   },
   "outputs": [],
   "source": [
    "log = LogisticRegression(max_iter=1000)"
   ]
  },
  {
   "cell_type": "code",
   "execution_count": 9,
   "id": "dcbf109d",
   "metadata": {
    "execution": {
     "iopub.execute_input": "2023-05-25T13:01:08.088215Z",
     "iopub.status.busy": "2023-05-25T13:01:08.086943Z",
     "iopub.status.idle": "2023-05-25T13:01:08.133018Z",
     "shell.execute_reply": "2023-05-25T13:01:08.131398Z"
    },
    "papermill": {
     "duration": 0.065134,
     "end_time": "2023-05-25T13:01:08.136226",
     "exception": false,
     "start_time": "2023-05-25T13:01:08.071092",
     "status": "completed"
    },
    "tags": []
   },
   "outputs": [
    {
     "data": {
      "text/html": [
       "<style>#sk-container-id-1 {color: black;background-color: white;}#sk-container-id-1 pre{padding: 0;}#sk-container-id-1 div.sk-toggleable {background-color: white;}#sk-container-id-1 label.sk-toggleable__label {cursor: pointer;display: block;width: 100%;margin-bottom: 0;padding: 0.3em;box-sizing: border-box;text-align: center;}#sk-container-id-1 label.sk-toggleable__label-arrow:before {content: \"▸\";float: left;margin-right: 0.25em;color: #696969;}#sk-container-id-1 label.sk-toggleable__label-arrow:hover:before {color: black;}#sk-container-id-1 div.sk-estimator:hover label.sk-toggleable__label-arrow:before {color: black;}#sk-container-id-1 div.sk-toggleable__content {max-height: 0;max-width: 0;overflow: hidden;text-align: left;background-color: #f0f8ff;}#sk-container-id-1 div.sk-toggleable__content pre {margin: 0.2em;color: black;border-radius: 0.25em;background-color: #f0f8ff;}#sk-container-id-1 input.sk-toggleable__control:checked~div.sk-toggleable__content {max-height: 200px;max-width: 100%;overflow: auto;}#sk-container-id-1 input.sk-toggleable__control:checked~label.sk-toggleable__label-arrow:before {content: \"▾\";}#sk-container-id-1 div.sk-estimator input.sk-toggleable__control:checked~label.sk-toggleable__label {background-color: #d4ebff;}#sk-container-id-1 div.sk-label input.sk-toggleable__control:checked~label.sk-toggleable__label {background-color: #d4ebff;}#sk-container-id-1 input.sk-hidden--visually {border: 0;clip: rect(1px 1px 1px 1px);clip: rect(1px, 1px, 1px, 1px);height: 1px;margin: -1px;overflow: hidden;padding: 0;position: absolute;width: 1px;}#sk-container-id-1 div.sk-estimator {font-family: monospace;background-color: #f0f8ff;border: 1px dotted black;border-radius: 0.25em;box-sizing: border-box;margin-bottom: 0.5em;}#sk-container-id-1 div.sk-estimator:hover {background-color: #d4ebff;}#sk-container-id-1 div.sk-parallel-item::after {content: \"\";width: 100%;border-bottom: 1px solid gray;flex-grow: 1;}#sk-container-id-1 div.sk-label:hover label.sk-toggleable__label {background-color: #d4ebff;}#sk-container-id-1 div.sk-serial::before {content: \"\";position: absolute;border-left: 1px solid gray;box-sizing: border-box;top: 0;bottom: 0;left: 50%;z-index: 0;}#sk-container-id-1 div.sk-serial {display: flex;flex-direction: column;align-items: center;background-color: white;padding-right: 0.2em;padding-left: 0.2em;position: relative;}#sk-container-id-1 div.sk-item {position: relative;z-index: 1;}#sk-container-id-1 div.sk-parallel {display: flex;align-items: stretch;justify-content: center;background-color: white;position: relative;}#sk-container-id-1 div.sk-item::before, #sk-container-id-1 div.sk-parallel-item::before {content: \"\";position: absolute;border-left: 1px solid gray;box-sizing: border-box;top: 0;bottom: 0;left: 50%;z-index: -1;}#sk-container-id-1 div.sk-parallel-item {display: flex;flex-direction: column;z-index: 1;position: relative;background-color: white;}#sk-container-id-1 div.sk-parallel-item:first-child::after {align-self: flex-end;width: 50%;}#sk-container-id-1 div.sk-parallel-item:last-child::after {align-self: flex-start;width: 50%;}#sk-container-id-1 div.sk-parallel-item:only-child::after {width: 0;}#sk-container-id-1 div.sk-dashed-wrapped {border: 1px dashed gray;margin: 0 0.4em 0.5em 0.4em;box-sizing: border-box;padding-bottom: 0.4em;background-color: white;}#sk-container-id-1 div.sk-label label {font-family: monospace;font-weight: bold;display: inline-block;line-height: 1.2em;}#sk-container-id-1 div.sk-label-container {text-align: center;}#sk-container-id-1 div.sk-container {/* jupyter's `normalize.less` sets `[hidden] { display: none; }` but bootstrap.min.css set `[hidden] { display: none !important; }` so we also need the `!important` here to be able to override the default hidden behavior on the sphinx rendered scikit-learn.org. See: https://github.com/scikit-learn/scikit-learn/issues/21755 */display: inline-block !important;position: relative;}#sk-container-id-1 div.sk-text-repr-fallback {display: none;}</style><div id=\"sk-container-id-1\" class=\"sk-top-container\"><div class=\"sk-text-repr-fallback\"><pre>LogisticRegression(max_iter=1000)</pre><b>In a Jupyter environment, please rerun this cell to show the HTML representation or trust the notebook. <br />On GitHub, the HTML representation is unable to render, please try loading this page with nbviewer.org.</b></div><div class=\"sk-container\" hidden><div class=\"sk-item\"><div class=\"sk-estimator sk-toggleable\"><input class=\"sk-toggleable__control sk-hidden--visually\" id=\"sk-estimator-id-1\" type=\"checkbox\" checked><label for=\"sk-estimator-id-1\" class=\"sk-toggleable__label sk-toggleable__label-arrow\">LogisticRegression</label><div class=\"sk-toggleable__content\"><pre>LogisticRegression(max_iter=1000)</pre></div></div></div></div></div>"
      ],
      "text/plain": [
       "LogisticRegression(max_iter=1000)"
      ]
     },
     "execution_count": 9,
     "metadata": {},
     "output_type": "execute_result"
    }
   ],
   "source": [
    "log.fit(x_train,y_train)"
   ]
  },
  {
   "cell_type": "code",
   "execution_count": 10,
   "id": "6c5d0a0a",
   "metadata": {
    "execution": {
     "iopub.execute_input": "2023-05-25T13:01:08.165222Z",
     "iopub.status.busy": "2023-05-25T13:01:08.164736Z",
     "iopub.status.idle": "2023-05-25T13:01:08.173144Z",
     "shell.execute_reply": "2023-05-25T13:01:08.171799Z"
    },
    "papermill": {
     "duration": 0.025954,
     "end_time": "2023-05-25T13:01:08.175830",
     "exception": false,
     "start_time": "2023-05-25T13:01:08.149876",
     "status": "completed"
    },
    "tags": []
   },
   "outputs": [],
   "source": [
    "predict = log.predict(x_test)"
   ]
  },
  {
   "cell_type": "code",
   "execution_count": 11,
   "id": "018586bf",
   "metadata": {
    "execution": {
     "iopub.execute_input": "2023-05-25T13:01:08.205105Z",
     "iopub.status.busy": "2023-05-25T13:01:08.204638Z",
     "iopub.status.idle": "2023-05-25T13:01:08.221152Z",
     "shell.execute_reply": "2023-05-25T13:01:08.220012Z"
    },
    "papermill": {
     "duration": 0.035529,
     "end_time": "2023-05-25T13:01:08.225043",
     "exception": false,
     "start_time": "2023-05-25T13:01:08.189514",
     "status": "completed"
    },
    "tags": []
   },
   "outputs": [
    {
     "name": "stdout",
     "output_type": "stream",
     "text": [
      "              precision    recall  f1-score   support\n",
      "\n",
      "           0       0.75      0.84      0.79        67\n",
      "           1       0.78      0.67      0.72        58\n",
      "\n",
      "    accuracy                           0.76       125\n",
      "   macro avg       0.76      0.75      0.76       125\n",
      "weighted avg       0.76      0.76      0.76       125\n",
      "\n"
     ]
    }
   ],
   "source": [
    "print(classification_report(y_test,predict))"
   ]
  },
  {
   "cell_type": "code",
   "execution_count": 12,
   "id": "de6f5cbb",
   "metadata": {
    "execution": {
     "iopub.execute_input": "2023-05-25T13:01:08.257151Z",
     "iopub.status.busy": "2023-05-25T13:01:08.256607Z",
     "iopub.status.idle": "2023-05-25T13:01:08.262393Z",
     "shell.execute_reply": "2023-05-25T13:01:08.260854Z"
    },
    "papermill": {
     "duration": 0.026107,
     "end_time": "2023-05-25T13:01:08.265179",
     "exception": false,
     "start_time": "2023-05-25T13:01:08.239072",
     "status": "completed"
    },
    "tags": []
   },
   "outputs": [],
   "source": [
    "# Try another predicting method"
   ]
  },
  {
   "cell_type": "code",
   "execution_count": 13,
   "id": "935f5577",
   "metadata": {
    "execution": {
     "iopub.execute_input": "2023-05-25T13:01:08.297105Z",
     "iopub.status.busy": "2023-05-25T13:01:08.295686Z",
     "iopub.status.idle": "2023-05-25T13:01:08.301338Z",
     "shell.execute_reply": "2023-05-25T13:01:08.300266Z"
    },
    "papermill": {
     "duration": 0.024104,
     "end_time": "2023-05-25T13:01:08.303920",
     "exception": false,
     "start_time": "2023-05-25T13:01:08.279816",
     "status": "completed"
    },
    "tags": []
   },
   "outputs": [],
   "source": [
    "# I will defind x and y variable so i dont write again"
   ]
  },
  {
   "cell_type": "code",
   "execution_count": 14,
   "id": "52d2df20",
   "metadata": {
    "execution": {
     "iopub.execute_input": "2023-05-25T13:01:08.335251Z",
     "iopub.status.busy": "2023-05-25T13:01:08.334263Z",
     "iopub.status.idle": "2023-05-25T13:01:08.341789Z",
     "shell.execute_reply": "2023-05-25T13:01:08.340599Z"
    },
    "papermill": {
     "duration": 0.026153,
     "end_time": "2023-05-25T13:01:08.344722",
     "exception": false,
     "start_time": "2023-05-25T13:01:08.318569",
     "status": "completed"
    },
    "tags": []
   },
   "outputs": [],
   "source": [
    "x_train,x_test,y_train,y_test = train_test_split(x,y,test_size=0.3,random_state=101)"
   ]
  },
  {
   "cell_type": "code",
   "execution_count": 15,
   "id": "7d077e68",
   "metadata": {
    "execution": {
     "iopub.execute_input": "2023-05-25T13:01:08.375971Z",
     "iopub.status.busy": "2023-05-25T13:01:08.375431Z",
     "iopub.status.idle": "2023-05-25T13:01:08.381500Z",
     "shell.execute_reply": "2023-05-25T13:01:08.380099Z"
    },
    "papermill": {
     "duration": 0.024999,
     "end_time": "2023-05-25T13:01:08.384580",
     "exception": false,
     "start_time": "2023-05-25T13:01:08.359581",
     "status": "completed"
    },
    "tags": []
   },
   "outputs": [],
   "source": [
    "dtree = DecisionTreeClassifier()"
   ]
  },
  {
   "cell_type": "code",
   "execution_count": 16,
   "id": "0fe585e9",
   "metadata": {
    "execution": {
     "iopub.execute_input": "2023-05-25T13:01:08.414243Z",
     "iopub.status.busy": "2023-05-25T13:01:08.413742Z",
     "iopub.status.idle": "2023-05-25T13:01:08.427805Z",
     "shell.execute_reply": "2023-05-25T13:01:08.426823Z"
    },
    "papermill": {
     "duration": 0.032068,
     "end_time": "2023-05-25T13:01:08.430297",
     "exception": false,
     "start_time": "2023-05-25T13:01:08.398229",
     "status": "completed"
    },
    "tags": []
   },
   "outputs": [
    {
     "data": {
      "text/html": [
       "<style>#sk-container-id-2 {color: black;background-color: white;}#sk-container-id-2 pre{padding: 0;}#sk-container-id-2 div.sk-toggleable {background-color: white;}#sk-container-id-2 label.sk-toggleable__label {cursor: pointer;display: block;width: 100%;margin-bottom: 0;padding: 0.3em;box-sizing: border-box;text-align: center;}#sk-container-id-2 label.sk-toggleable__label-arrow:before {content: \"▸\";float: left;margin-right: 0.25em;color: #696969;}#sk-container-id-2 label.sk-toggleable__label-arrow:hover:before {color: black;}#sk-container-id-2 div.sk-estimator:hover label.sk-toggleable__label-arrow:before {color: black;}#sk-container-id-2 div.sk-toggleable__content {max-height: 0;max-width: 0;overflow: hidden;text-align: left;background-color: #f0f8ff;}#sk-container-id-2 div.sk-toggleable__content pre {margin: 0.2em;color: black;border-radius: 0.25em;background-color: #f0f8ff;}#sk-container-id-2 input.sk-toggleable__control:checked~div.sk-toggleable__content {max-height: 200px;max-width: 100%;overflow: auto;}#sk-container-id-2 input.sk-toggleable__control:checked~label.sk-toggleable__label-arrow:before {content: \"▾\";}#sk-container-id-2 div.sk-estimator input.sk-toggleable__control:checked~label.sk-toggleable__label {background-color: #d4ebff;}#sk-container-id-2 div.sk-label input.sk-toggleable__control:checked~label.sk-toggleable__label {background-color: #d4ebff;}#sk-container-id-2 input.sk-hidden--visually {border: 0;clip: rect(1px 1px 1px 1px);clip: rect(1px, 1px, 1px, 1px);height: 1px;margin: -1px;overflow: hidden;padding: 0;position: absolute;width: 1px;}#sk-container-id-2 div.sk-estimator {font-family: monospace;background-color: #f0f8ff;border: 1px dotted black;border-radius: 0.25em;box-sizing: border-box;margin-bottom: 0.5em;}#sk-container-id-2 div.sk-estimator:hover {background-color: #d4ebff;}#sk-container-id-2 div.sk-parallel-item::after {content: \"\";width: 100%;border-bottom: 1px solid gray;flex-grow: 1;}#sk-container-id-2 div.sk-label:hover label.sk-toggleable__label {background-color: #d4ebff;}#sk-container-id-2 div.sk-serial::before {content: \"\";position: absolute;border-left: 1px solid gray;box-sizing: border-box;top: 0;bottom: 0;left: 50%;z-index: 0;}#sk-container-id-2 div.sk-serial {display: flex;flex-direction: column;align-items: center;background-color: white;padding-right: 0.2em;padding-left: 0.2em;position: relative;}#sk-container-id-2 div.sk-item {position: relative;z-index: 1;}#sk-container-id-2 div.sk-parallel {display: flex;align-items: stretch;justify-content: center;background-color: white;position: relative;}#sk-container-id-2 div.sk-item::before, #sk-container-id-2 div.sk-parallel-item::before {content: \"\";position: absolute;border-left: 1px solid gray;box-sizing: border-box;top: 0;bottom: 0;left: 50%;z-index: -1;}#sk-container-id-2 div.sk-parallel-item {display: flex;flex-direction: column;z-index: 1;position: relative;background-color: white;}#sk-container-id-2 div.sk-parallel-item:first-child::after {align-self: flex-end;width: 50%;}#sk-container-id-2 div.sk-parallel-item:last-child::after {align-self: flex-start;width: 50%;}#sk-container-id-2 div.sk-parallel-item:only-child::after {width: 0;}#sk-container-id-2 div.sk-dashed-wrapped {border: 1px dashed gray;margin: 0 0.4em 0.5em 0.4em;box-sizing: border-box;padding-bottom: 0.4em;background-color: white;}#sk-container-id-2 div.sk-label label {font-family: monospace;font-weight: bold;display: inline-block;line-height: 1.2em;}#sk-container-id-2 div.sk-label-container {text-align: center;}#sk-container-id-2 div.sk-container {/* jupyter's `normalize.less` sets `[hidden] { display: none; }` but bootstrap.min.css set `[hidden] { display: none !important; }` so we also need the `!important` here to be able to override the default hidden behavior on the sphinx rendered scikit-learn.org. See: https://github.com/scikit-learn/scikit-learn/issues/21755 */display: inline-block !important;position: relative;}#sk-container-id-2 div.sk-text-repr-fallback {display: none;}</style><div id=\"sk-container-id-2\" class=\"sk-top-container\"><div class=\"sk-text-repr-fallback\"><pre>DecisionTreeClassifier()</pre><b>In a Jupyter environment, please rerun this cell to show the HTML representation or trust the notebook. <br />On GitHub, the HTML representation is unable to render, please try loading this page with nbviewer.org.</b></div><div class=\"sk-container\" hidden><div class=\"sk-item\"><div class=\"sk-estimator sk-toggleable\"><input class=\"sk-toggleable__control sk-hidden--visually\" id=\"sk-estimator-id-2\" type=\"checkbox\" checked><label for=\"sk-estimator-id-2\" class=\"sk-toggleable__label sk-toggleable__label-arrow\">DecisionTreeClassifier</label><div class=\"sk-toggleable__content\"><pre>DecisionTreeClassifier()</pre></div></div></div></div></div>"
      ],
      "text/plain": [
       "DecisionTreeClassifier()"
      ]
     },
     "execution_count": 16,
     "metadata": {},
     "output_type": "execute_result"
    }
   ],
   "source": [
    "dtree.fit(x_train,y_train)"
   ]
  },
  {
   "cell_type": "code",
   "execution_count": 17,
   "id": "7c8fc7ec",
   "metadata": {
    "execution": {
     "iopub.execute_input": "2023-05-25T13:01:08.460936Z",
     "iopub.status.busy": "2023-05-25T13:01:08.459541Z",
     "iopub.status.idle": "2023-05-25T13:01:08.468452Z",
     "shell.execute_reply": "2023-05-25T13:01:08.467198Z"
    },
    "papermill": {
     "duration": 0.027217,
     "end_time": "2023-05-25T13:01:08.471310",
     "exception": false,
     "start_time": "2023-05-25T13:01:08.444093",
     "status": "completed"
    },
    "tags": []
   },
   "outputs": [],
   "source": [
    "predict_dtree = dtree.predict(x_test) "
   ]
  },
  {
   "cell_type": "code",
   "execution_count": 18,
   "id": "7940222e",
   "metadata": {
    "execution": {
     "iopub.execute_input": "2023-05-25T13:01:08.500929Z",
     "iopub.status.busy": "2023-05-25T13:01:08.500403Z",
     "iopub.status.idle": "2023-05-25T13:01:08.516604Z",
     "shell.execute_reply": "2023-05-25T13:01:08.515582Z"
    },
    "papermill": {
     "duration": 0.034242,
     "end_time": "2023-05-25T13:01:08.519384",
     "exception": false,
     "start_time": "2023-05-25T13:01:08.485142",
     "status": "completed"
    },
    "tags": []
   },
   "outputs": [
    {
     "name": "stdout",
     "output_type": "stream",
     "text": [
      "              precision    recall  f1-score   support\n",
      "\n",
      "           0       0.72      0.72      0.72        67\n",
      "           1       0.67      0.67      0.67        58\n",
      "\n",
      "    accuracy                           0.70       125\n",
      "   macro avg       0.69      0.69      0.69       125\n",
      "weighted avg       0.70      0.70      0.70       125\n",
      "\n"
     ]
    }
   ],
   "source": [
    "print(classification_report(y_test,predict_dtree))"
   ]
  },
  {
   "cell_type": "code",
   "execution_count": 19,
   "id": "d7afa4b4",
   "metadata": {
    "execution": {
     "iopub.execute_input": "2023-05-25T13:01:08.550250Z",
     "iopub.status.busy": "2023-05-25T13:01:08.548998Z",
     "iopub.status.idle": "2023-05-25T13:01:08.554716Z",
     "shell.execute_reply": "2023-05-25T13:01:08.553196Z"
    },
    "papermill": {
     "duration": 0.023931,
     "end_time": "2023-05-25T13:01:08.557663",
     "exception": false,
     "start_time": "2023-05-25T13:01:08.533732",
     "status": "completed"
    },
    "tags": []
   },
   "outputs": [],
   "source": [
    "# Try RandomForest"
   ]
  },
  {
   "cell_type": "code",
   "execution_count": 20,
   "id": "45fcc15e",
   "metadata": {
    "execution": {
     "iopub.execute_input": "2023-05-25T13:01:08.587612Z",
     "iopub.status.busy": "2023-05-25T13:01:08.587095Z",
     "iopub.status.idle": "2023-05-25T13:01:08.595203Z",
     "shell.execute_reply": "2023-05-25T13:01:08.594012Z"
    },
    "papermill": {
     "duration": 0.025974,
     "end_time": "2023-05-25T13:01:08.597538",
     "exception": false,
     "start_time": "2023-05-25T13:01:08.571564",
     "status": "completed"
    },
    "tags": []
   },
   "outputs": [],
   "source": [
    "x_train,x_test,y_train,y_test = train_test_split(x,y,test_size=0.3,random_state=42)"
   ]
  },
  {
   "cell_type": "code",
   "execution_count": 21,
   "id": "702ab242",
   "metadata": {
    "execution": {
     "iopub.execute_input": "2023-05-25T13:01:08.628657Z",
     "iopub.status.busy": "2023-05-25T13:01:08.628153Z",
     "iopub.status.idle": "2023-05-25T13:01:08.633796Z",
     "shell.execute_reply": "2023-05-25T13:01:08.632345Z"
    },
    "papermill": {
     "duration": 0.024272,
     "end_time": "2023-05-25T13:01:08.636544",
     "exception": false,
     "start_time": "2023-05-25T13:01:08.612272",
     "status": "completed"
    },
    "tags": []
   },
   "outputs": [],
   "source": [
    "rft = RandomForestClassifier()"
   ]
  },
  {
   "cell_type": "code",
   "execution_count": 22,
   "id": "6f6628c9",
   "metadata": {
    "execution": {
     "iopub.execute_input": "2023-05-25T13:01:08.667161Z",
     "iopub.status.busy": "2023-05-25T13:01:08.666649Z",
     "iopub.status.idle": "2023-05-25T13:01:08.983754Z",
     "shell.execute_reply": "2023-05-25T13:01:08.982325Z"
    },
    "papermill": {
     "duration": 0.336245,
     "end_time": "2023-05-25T13:01:08.986833",
     "exception": false,
     "start_time": "2023-05-25T13:01:08.650588",
     "status": "completed"
    },
    "tags": []
   },
   "outputs": [
    {
     "data": {
      "text/html": [
       "<style>#sk-container-id-3 {color: black;background-color: white;}#sk-container-id-3 pre{padding: 0;}#sk-container-id-3 div.sk-toggleable {background-color: white;}#sk-container-id-3 label.sk-toggleable__label {cursor: pointer;display: block;width: 100%;margin-bottom: 0;padding: 0.3em;box-sizing: border-box;text-align: center;}#sk-container-id-3 label.sk-toggleable__label-arrow:before {content: \"▸\";float: left;margin-right: 0.25em;color: #696969;}#sk-container-id-3 label.sk-toggleable__label-arrow:hover:before {color: black;}#sk-container-id-3 div.sk-estimator:hover label.sk-toggleable__label-arrow:before {color: black;}#sk-container-id-3 div.sk-toggleable__content {max-height: 0;max-width: 0;overflow: hidden;text-align: left;background-color: #f0f8ff;}#sk-container-id-3 div.sk-toggleable__content pre {margin: 0.2em;color: black;border-radius: 0.25em;background-color: #f0f8ff;}#sk-container-id-3 input.sk-toggleable__control:checked~div.sk-toggleable__content {max-height: 200px;max-width: 100%;overflow: auto;}#sk-container-id-3 input.sk-toggleable__control:checked~label.sk-toggleable__label-arrow:before {content: \"▾\";}#sk-container-id-3 div.sk-estimator input.sk-toggleable__control:checked~label.sk-toggleable__label {background-color: #d4ebff;}#sk-container-id-3 div.sk-label input.sk-toggleable__control:checked~label.sk-toggleable__label {background-color: #d4ebff;}#sk-container-id-3 input.sk-hidden--visually {border: 0;clip: rect(1px 1px 1px 1px);clip: rect(1px, 1px, 1px, 1px);height: 1px;margin: -1px;overflow: hidden;padding: 0;position: absolute;width: 1px;}#sk-container-id-3 div.sk-estimator {font-family: monospace;background-color: #f0f8ff;border: 1px dotted black;border-radius: 0.25em;box-sizing: border-box;margin-bottom: 0.5em;}#sk-container-id-3 div.sk-estimator:hover {background-color: #d4ebff;}#sk-container-id-3 div.sk-parallel-item::after {content: \"\";width: 100%;border-bottom: 1px solid gray;flex-grow: 1;}#sk-container-id-3 div.sk-label:hover label.sk-toggleable__label {background-color: #d4ebff;}#sk-container-id-3 div.sk-serial::before {content: \"\";position: absolute;border-left: 1px solid gray;box-sizing: border-box;top: 0;bottom: 0;left: 50%;z-index: 0;}#sk-container-id-3 div.sk-serial {display: flex;flex-direction: column;align-items: center;background-color: white;padding-right: 0.2em;padding-left: 0.2em;position: relative;}#sk-container-id-3 div.sk-item {position: relative;z-index: 1;}#sk-container-id-3 div.sk-parallel {display: flex;align-items: stretch;justify-content: center;background-color: white;position: relative;}#sk-container-id-3 div.sk-item::before, #sk-container-id-3 div.sk-parallel-item::before {content: \"\";position: absolute;border-left: 1px solid gray;box-sizing: border-box;top: 0;bottom: 0;left: 50%;z-index: -1;}#sk-container-id-3 div.sk-parallel-item {display: flex;flex-direction: column;z-index: 1;position: relative;background-color: white;}#sk-container-id-3 div.sk-parallel-item:first-child::after {align-self: flex-end;width: 50%;}#sk-container-id-3 div.sk-parallel-item:last-child::after {align-self: flex-start;width: 50%;}#sk-container-id-3 div.sk-parallel-item:only-child::after {width: 0;}#sk-container-id-3 div.sk-dashed-wrapped {border: 1px dashed gray;margin: 0 0.4em 0.5em 0.4em;box-sizing: border-box;padding-bottom: 0.4em;background-color: white;}#sk-container-id-3 div.sk-label label {font-family: monospace;font-weight: bold;display: inline-block;line-height: 1.2em;}#sk-container-id-3 div.sk-label-container {text-align: center;}#sk-container-id-3 div.sk-container {/* jupyter's `normalize.less` sets `[hidden] { display: none; }` but bootstrap.min.css set `[hidden] { display: none !important; }` so we also need the `!important` here to be able to override the default hidden behavior on the sphinx rendered scikit-learn.org. See: https://github.com/scikit-learn/scikit-learn/issues/21755 */display: inline-block !important;position: relative;}#sk-container-id-3 div.sk-text-repr-fallback {display: none;}</style><div id=\"sk-container-id-3\" class=\"sk-top-container\"><div class=\"sk-text-repr-fallback\"><pre>RandomForestClassifier()</pre><b>In a Jupyter environment, please rerun this cell to show the HTML representation or trust the notebook. <br />On GitHub, the HTML representation is unable to render, please try loading this page with nbviewer.org.</b></div><div class=\"sk-container\" hidden><div class=\"sk-item\"><div class=\"sk-estimator sk-toggleable\"><input class=\"sk-toggleable__control sk-hidden--visually\" id=\"sk-estimator-id-3\" type=\"checkbox\" checked><label for=\"sk-estimator-id-3\" class=\"sk-toggleable__label sk-toggleable__label-arrow\">RandomForestClassifier</label><div class=\"sk-toggleable__content\"><pre>RandomForestClassifier()</pre></div></div></div></div></div>"
      ],
      "text/plain": [
       "RandomForestClassifier()"
      ]
     },
     "execution_count": 22,
     "metadata": {},
     "output_type": "execute_result"
    }
   ],
   "source": [
    "rft.fit(x,y)"
   ]
  },
  {
   "cell_type": "code",
   "execution_count": 23,
   "id": "27b090c0",
   "metadata": {
    "execution": {
     "iopub.execute_input": "2023-05-25T13:01:09.018188Z",
     "iopub.status.busy": "2023-05-25T13:01:09.017659Z",
     "iopub.status.idle": "2023-05-25T13:01:09.044168Z",
     "shell.execute_reply": "2023-05-25T13:01:09.042726Z"
    },
    "papermill": {
     "duration": 0.046157,
     "end_time": "2023-05-25T13:01:09.047558",
     "exception": false,
     "start_time": "2023-05-25T13:01:09.001401",
     "status": "completed"
    },
    "tags": []
   },
   "outputs": [],
   "source": [
    "predit_rft = rft.predict(x_test)"
   ]
  },
  {
   "cell_type": "code",
   "execution_count": 24,
   "id": "3b6a31c9",
   "metadata": {
    "execution": {
     "iopub.execute_input": "2023-05-25T13:01:09.079927Z",
     "iopub.status.busy": "2023-05-25T13:01:09.079440Z",
     "iopub.status.idle": "2023-05-25T13:01:09.096352Z",
     "shell.execute_reply": "2023-05-25T13:01:09.095205Z"
    },
    "papermill": {
     "duration": 0.036945,
     "end_time": "2023-05-25T13:01:09.099045",
     "exception": false,
     "start_time": "2023-05-25T13:01:09.062100",
     "status": "completed"
    },
    "tags": []
   },
   "outputs": [
    {
     "name": "stdout",
     "output_type": "stream",
     "text": [
      "              precision    recall  f1-score   support\n",
      "\n",
      "           0       1.00      1.00      1.00        67\n",
      "           1       1.00      1.00      1.00        58\n",
      "\n",
      "    accuracy                           1.00       125\n",
      "   macro avg       1.00      1.00      1.00       125\n",
      "weighted avg       1.00      1.00      1.00       125\n",
      "\n"
     ]
    }
   ],
   "source": [
    "print(classification_report(y_test,predit_rft))"
   ]
  },
  {
   "cell_type": "code",
   "execution_count": 25,
   "id": "4ab71e3a",
   "metadata": {
    "execution": {
     "iopub.execute_input": "2023-05-25T13:01:09.132092Z",
     "iopub.status.busy": "2023-05-25T13:01:09.131616Z",
     "iopub.status.idle": "2023-05-25T13:01:09.137263Z",
     "shell.execute_reply": "2023-05-25T13:01:09.135764Z"
    },
    "papermill": {
     "duration": 0.026063,
     "end_time": "2023-05-25T13:01:09.140105",
     "exception": false,
     "start_time": "2023-05-25T13:01:09.114042",
     "status": "completed"
    },
    "tags": []
   },
   "outputs": [],
   "source": [
    "# 100% Right Prediction useing RandomForestClassifier so i am useing this"
   ]
  },
  {
   "cell_type": "code",
   "execution_count": 26,
   "id": "47bf0f45",
   "metadata": {
    "execution": {
     "iopub.execute_input": "2023-05-25T13:01:09.173372Z",
     "iopub.status.busy": "2023-05-25T13:01:09.171923Z",
     "iopub.status.idle": "2023-05-25T13:01:09.181154Z",
     "shell.execute_reply": "2023-05-25T13:01:09.179491Z"
    },
    "papermill": {
     "duration": 0.028924,
     "end_time": "2023-05-25T13:01:09.183886",
     "exception": false,
     "start_time": "2023-05-25T13:01:09.154962",
     "status": "completed"
    },
    "tags": []
   },
   "outputs": [
    {
     "name": "stdout",
     "output_type": "stream",
     "text": [
      "[[67  0]\n",
      " [ 0 58]]\n"
     ]
    }
   ],
   "source": [
    "print(confusion_matrix(y_test,predit_rft))"
   ]
  },
  {
   "cell_type": "code",
   "execution_count": 27,
   "id": "8925d4cb",
   "metadata": {
    "execution": {
     "iopub.execute_input": "2023-05-25T13:01:09.214770Z",
     "iopub.status.busy": "2023-05-25T13:01:09.214265Z",
     "iopub.status.idle": "2023-05-25T13:01:09.227894Z",
     "shell.execute_reply": "2023-05-25T13:01:09.226223Z"
    },
    "papermill": {
     "duration": 0.032706,
     "end_time": "2023-05-25T13:01:09.231041",
     "exception": false,
     "start_time": "2023-05-25T13:01:09.198335",
     "status": "completed"
    },
    "tags": []
   },
   "outputs": [],
   "source": [
    "test_df = pd.read_csv(\"/kaggle/input/playground-series-s3e12/test.csv\")"
   ]
  },
  {
   "cell_type": "code",
   "execution_count": 28,
   "id": "0a3c5c7b",
   "metadata": {
    "execution": {
     "iopub.execute_input": "2023-05-25T13:01:09.262777Z",
     "iopub.status.busy": "2023-05-25T13:01:09.262293Z",
     "iopub.status.idle": "2023-05-25T13:01:09.281129Z",
     "shell.execute_reply": "2023-05-25T13:01:09.279974Z"
    },
    "papermill": {
     "duration": 0.037651,
     "end_time": "2023-05-25T13:01:09.283627",
     "exception": false,
     "start_time": "2023-05-25T13:01:09.245976",
     "status": "completed"
    },
    "tags": []
   },
   "outputs": [
    {
     "data": {
      "text/html": [
       "<div>\n",
       "<style scoped>\n",
       "    .dataframe tbody tr th:only-of-type {\n",
       "        vertical-align: middle;\n",
       "    }\n",
       "\n",
       "    .dataframe tbody tr th {\n",
       "        vertical-align: top;\n",
       "    }\n",
       "\n",
       "    .dataframe thead th {\n",
       "        text-align: right;\n",
       "    }\n",
       "</style>\n",
       "<table border=\"1\" class=\"dataframe\">\n",
       "  <thead>\n",
       "    <tr style=\"text-align: right;\">\n",
       "      <th></th>\n",
       "      <th>id</th>\n",
       "      <th>gravity</th>\n",
       "      <th>ph</th>\n",
       "      <th>osmo</th>\n",
       "      <th>cond</th>\n",
       "      <th>urea</th>\n",
       "      <th>calc</th>\n",
       "    </tr>\n",
       "  </thead>\n",
       "  <tbody>\n",
       "    <tr>\n",
       "      <th>0</th>\n",
       "      <td>414</td>\n",
       "      <td>1.017</td>\n",
       "      <td>5.24</td>\n",
       "      <td>345</td>\n",
       "      <td>11.5</td>\n",
       "      <td>152</td>\n",
       "      <td>1.16</td>\n",
       "    </tr>\n",
       "    <tr>\n",
       "      <th>1</th>\n",
       "      <td>415</td>\n",
       "      <td>1.020</td>\n",
       "      <td>5.68</td>\n",
       "      <td>874</td>\n",
       "      <td>29.0</td>\n",
       "      <td>385</td>\n",
       "      <td>3.46</td>\n",
       "    </tr>\n",
       "    <tr>\n",
       "      <th>2</th>\n",
       "      <td>416</td>\n",
       "      <td>1.024</td>\n",
       "      <td>5.36</td>\n",
       "      <td>698</td>\n",
       "      <td>19.5</td>\n",
       "      <td>354</td>\n",
       "      <td>13.00</td>\n",
       "    </tr>\n",
       "    <tr>\n",
       "      <th>3</th>\n",
       "      <td>417</td>\n",
       "      <td>1.020</td>\n",
       "      <td>5.33</td>\n",
       "      <td>668</td>\n",
       "      <td>25.3</td>\n",
       "      <td>252</td>\n",
       "      <td>3.46</td>\n",
       "    </tr>\n",
       "    <tr>\n",
       "      <th>4</th>\n",
       "      <td>418</td>\n",
       "      <td>1.011</td>\n",
       "      <td>5.87</td>\n",
       "      <td>567</td>\n",
       "      <td>29.0</td>\n",
       "      <td>457</td>\n",
       "      <td>2.36</td>\n",
       "    </tr>\n",
       "  </tbody>\n",
       "</table>\n",
       "</div>"
      ],
      "text/plain": [
       "    id  gravity    ph  osmo  cond  urea   calc\n",
       "0  414    1.017  5.24   345  11.5   152   1.16\n",
       "1  415    1.020  5.68   874  29.0   385   3.46\n",
       "2  416    1.024  5.36   698  19.5   354  13.00\n",
       "3  417    1.020  5.33   668  25.3   252   3.46\n",
       "4  418    1.011  5.87   567  29.0   457   2.36"
      ]
     },
     "execution_count": 28,
     "metadata": {},
     "output_type": "execute_result"
    }
   ],
   "source": [
    "test_df.head()"
   ]
  },
  {
   "cell_type": "code",
   "execution_count": 29,
   "id": "c7a04736",
   "metadata": {
    "execution": {
     "iopub.execute_input": "2023-05-25T13:01:09.316053Z",
     "iopub.status.busy": "2023-05-25T13:01:09.315567Z",
     "iopub.status.idle": "2023-05-25T13:01:09.326682Z",
     "shell.execute_reply": "2023-05-25T13:01:09.325415Z"
    },
    "papermill": {
     "duration": 0.030489,
     "end_time": "2023-05-25T13:01:09.329388",
     "exception": false,
     "start_time": "2023-05-25T13:01:09.298899",
     "status": "completed"
    },
    "tags": []
   },
   "outputs": [
    {
     "data": {
      "text/plain": [
       "id         0\n",
       "gravity    0\n",
       "ph         0\n",
       "osmo       0\n",
       "cond       0\n",
       "urea       0\n",
       "calc       0\n",
       "dtype: int64"
      ]
     },
     "execution_count": 29,
     "metadata": {},
     "output_type": "execute_result"
    }
   ],
   "source": [
    "test_df.isnull().sum()"
   ]
  },
  {
   "cell_type": "code",
   "execution_count": 30,
   "id": "f20250da",
   "metadata": {
    "execution": {
     "iopub.execute_input": "2023-05-25T13:01:09.362345Z",
     "iopub.status.busy": "2023-05-25T13:01:09.361800Z",
     "iopub.status.idle": "2023-05-25T13:01:09.369740Z",
     "shell.execute_reply": "2023-05-25T13:01:09.368337Z"
    },
    "papermill": {
     "duration": 0.027785,
     "end_time": "2023-05-25T13:01:09.372573",
     "exception": false,
     "start_time": "2023-05-25T13:01:09.344788",
     "status": "completed"
    },
    "tags": []
   },
   "outputs": [],
   "source": [
    "test_df.drop(['id'],axis = 1,inplace = True)"
   ]
  },
  {
   "cell_type": "code",
   "execution_count": 31,
   "id": "a20daaa9",
   "metadata": {
    "execution": {
     "iopub.execute_input": "2023-05-25T13:01:09.404942Z",
     "iopub.status.busy": "2023-05-25T13:01:09.404394Z",
     "iopub.status.idle": "2023-05-25T13:01:09.434191Z",
     "shell.execute_reply": "2023-05-25T13:01:09.432736Z"
    },
    "papermill": {
     "duration": 0.049937,
     "end_time": "2023-05-25T13:01:09.437525",
     "exception": false,
     "start_time": "2023-05-25T13:01:09.387588",
     "status": "completed"
    },
    "tags": []
   },
   "outputs": [],
   "source": [
    "predict_test = rft.predict(test_df)"
   ]
  },
  {
   "cell_type": "code",
   "execution_count": 32,
   "id": "42095fc3",
   "metadata": {
    "execution": {
     "iopub.execute_input": "2023-05-25T13:01:09.470203Z",
     "iopub.status.busy": "2023-05-25T13:01:09.469702Z",
     "iopub.status.idle": "2023-05-25T13:01:09.479668Z",
     "shell.execute_reply": "2023-05-25T13:01:09.478403Z"
    },
    "papermill": {
     "duration": 0.029359,
     "end_time": "2023-05-25T13:01:09.482346",
     "exception": false,
     "start_time": "2023-05-25T13:01:09.452987",
     "status": "completed"
    },
    "tags": []
   },
   "outputs": [
    {
     "data": {
      "text/plain": [
       "array([0, 1, 1, 1, 0, 1, 1, 1, 0, 0, 0, 0, 1, 1, 0, 0, 1, 0, 0, 0, 0, 0,\n",
       "       1, 0, 1, 0, 0, 0, 0, 1, 1, 1, 1, 1, 1, 0, 1, 1, 0, 1, 0, 1, 1, 0,\n",
       "       1, 0, 1, 0, 1, 0, 1, 1, 0, 0, 0, 0, 1, 0, 0, 1, 1, 0, 0, 0, 0, 1,\n",
       "       0, 1, 0, 0, 0, 1, 0, 0, 1, 0, 1, 0, 0, 0, 0, 0, 0, 0, 1, 1, 0, 0,\n",
       "       0, 1, 1, 1, 0, 0, 1, 1, 0, 0, 0, 1, 0, 1, 1, 0, 1, 1, 0, 1, 1, 1,\n",
       "       0, 0, 1, 0, 0, 0, 1, 0, 0, 1, 0, 0, 0, 0, 0, 0, 1, 1, 1, 0, 1, 0,\n",
       "       0, 0, 0, 1, 1, 1, 0, 0, 0, 0, 0, 1, 1, 0, 0, 1, 1, 0, 1, 1, 0, 0,\n",
       "       1, 1, 1, 0, 0, 1, 0, 0, 1, 0, 1, 0, 1, 0, 1, 0, 0, 0, 1, 1, 0, 0,\n",
       "       0, 1, 1, 0, 1, 1, 0, 0, 0, 0, 0, 0, 1, 0, 0, 1, 1, 1, 1, 0, 0, 0,\n",
       "       0, 1, 0, 1, 0, 0, 1, 0, 1, 1, 0, 1, 0, 1, 1, 1, 1, 1, 0, 1, 0, 0,\n",
       "       1, 1, 0, 1, 0, 0, 0, 0, 1, 0, 0, 1, 1, 1, 1, 0, 1, 0, 1, 1, 0, 0,\n",
       "       1, 0, 0, 0, 1, 1, 1, 1, 1, 0, 1, 0, 0, 1, 1, 1, 1, 0, 1, 0, 1, 1,\n",
       "       0, 0, 1, 1, 0, 0, 1, 1, 0, 1, 0, 0])"
      ]
     },
     "execution_count": 32,
     "metadata": {},
     "output_type": "execute_result"
    }
   ],
   "source": [
    "predict_test"
   ]
  },
  {
   "cell_type": "code",
   "execution_count": 33,
   "id": "c2be06b6",
   "metadata": {
    "execution": {
     "iopub.execute_input": "2023-05-25T13:01:09.515634Z",
     "iopub.status.busy": "2023-05-25T13:01:09.515114Z",
     "iopub.status.idle": "2023-05-25T13:01:09.530500Z",
     "shell.execute_reply": "2023-05-25T13:01:09.528823Z"
    },
    "papermill": {
     "duration": 0.036263,
     "end_time": "2023-05-25T13:01:09.534322",
     "exception": false,
     "start_time": "2023-05-25T13:01:09.498059",
     "status": "completed"
    },
    "tags": []
   },
   "outputs": [],
   "source": [
    "sub = pd.read_csv('/kaggle/input/playground-series-s3e12/sample_submission.csv')"
   ]
  },
  {
   "cell_type": "code",
   "execution_count": 34,
   "id": "2fa7a1f9",
   "metadata": {
    "execution": {
     "iopub.execute_input": "2023-05-25T13:01:09.569796Z",
     "iopub.status.busy": "2023-05-25T13:01:09.569289Z",
     "iopub.status.idle": "2023-05-25T13:01:09.586841Z",
     "shell.execute_reply": "2023-05-25T13:01:09.585783Z"
    },
    "papermill": {
     "duration": 0.038762,
     "end_time": "2023-05-25T13:01:09.589418",
     "exception": false,
     "start_time": "2023-05-25T13:01:09.550656",
     "status": "completed"
    },
    "tags": []
   },
   "outputs": [
    {
     "data": {
      "text/html": [
       "<div>\n",
       "<style scoped>\n",
       "    .dataframe tbody tr th:only-of-type {\n",
       "        vertical-align: middle;\n",
       "    }\n",
       "\n",
       "    .dataframe tbody tr th {\n",
       "        vertical-align: top;\n",
       "    }\n",
       "\n",
       "    .dataframe thead th {\n",
       "        text-align: right;\n",
       "    }\n",
       "</style>\n",
       "<table border=\"1\" class=\"dataframe\">\n",
       "  <thead>\n",
       "    <tr style=\"text-align: right;\">\n",
       "      <th></th>\n",
       "      <th>id</th>\n",
       "      <th>target</th>\n",
       "    </tr>\n",
       "  </thead>\n",
       "  <tbody>\n",
       "    <tr>\n",
       "      <th>0</th>\n",
       "      <td>414</td>\n",
       "      <td>0.5</td>\n",
       "    </tr>\n",
       "    <tr>\n",
       "      <th>1</th>\n",
       "      <td>415</td>\n",
       "      <td>0.5</td>\n",
       "    </tr>\n",
       "    <tr>\n",
       "      <th>2</th>\n",
       "      <td>416</td>\n",
       "      <td>0.5</td>\n",
       "    </tr>\n",
       "    <tr>\n",
       "      <th>3</th>\n",
       "      <td>417</td>\n",
       "      <td>0.5</td>\n",
       "    </tr>\n",
       "    <tr>\n",
       "      <th>4</th>\n",
       "      <td>418</td>\n",
       "      <td>0.5</td>\n",
       "    </tr>\n",
       "    <tr>\n",
       "      <th>...</th>\n",
       "      <td>...</td>\n",
       "      <td>...</td>\n",
       "    </tr>\n",
       "    <tr>\n",
       "      <th>271</th>\n",
       "      <td>685</td>\n",
       "      <td>0.5</td>\n",
       "    </tr>\n",
       "    <tr>\n",
       "      <th>272</th>\n",
       "      <td>686</td>\n",
       "      <td>0.5</td>\n",
       "    </tr>\n",
       "    <tr>\n",
       "      <th>273</th>\n",
       "      <td>687</td>\n",
       "      <td>0.5</td>\n",
       "    </tr>\n",
       "    <tr>\n",
       "      <th>274</th>\n",
       "      <td>688</td>\n",
       "      <td>0.5</td>\n",
       "    </tr>\n",
       "    <tr>\n",
       "      <th>275</th>\n",
       "      <td>689</td>\n",
       "      <td>0.5</td>\n",
       "    </tr>\n",
       "  </tbody>\n",
       "</table>\n",
       "<p>276 rows × 2 columns</p>\n",
       "</div>"
      ],
      "text/plain": [
       "      id  target\n",
       "0    414     0.5\n",
       "1    415     0.5\n",
       "2    416     0.5\n",
       "3    417     0.5\n",
       "4    418     0.5\n",
       "..   ...     ...\n",
       "271  685     0.5\n",
       "272  686     0.5\n",
       "273  687     0.5\n",
       "274  688     0.5\n",
       "275  689     0.5\n",
       "\n",
       "[276 rows x 2 columns]"
      ]
     },
     "execution_count": 34,
     "metadata": {},
     "output_type": "execute_result"
    }
   ],
   "source": [
    "sub"
   ]
  },
  {
   "cell_type": "code",
   "execution_count": 35,
   "id": "683389a8",
   "metadata": {
    "execution": {
     "iopub.execute_input": "2023-05-25T13:01:09.622661Z",
     "iopub.status.busy": "2023-05-25T13:01:09.622037Z",
     "iopub.status.idle": "2023-05-25T13:01:09.628374Z",
     "shell.execute_reply": "2023-05-25T13:01:09.627018Z"
    },
    "papermill": {
     "duration": 0.026377,
     "end_time": "2023-05-25T13:01:09.631059",
     "exception": false,
     "start_time": "2023-05-25T13:01:09.604682",
     "status": "completed"
    },
    "tags": []
   },
   "outputs": [],
   "source": [
    "sub['target'] = predict_test"
   ]
  },
  {
   "cell_type": "code",
   "execution_count": 36,
   "id": "8f705eb0",
   "metadata": {
    "execution": {
     "iopub.execute_input": "2023-05-25T13:01:09.665947Z",
     "iopub.status.busy": "2023-05-25T13:01:09.665438Z",
     "iopub.status.idle": "2023-05-25T13:01:09.681865Z",
     "shell.execute_reply": "2023-05-25T13:01:09.680075Z"
    },
    "papermill": {
     "duration": 0.03653,
     "end_time": "2023-05-25T13:01:09.684795",
     "exception": false,
     "start_time": "2023-05-25T13:01:09.648265",
     "status": "completed"
    },
    "tags": []
   },
   "outputs": [
    {
     "data": {
      "text/html": [
       "<div>\n",
       "<style scoped>\n",
       "    .dataframe tbody tr th:only-of-type {\n",
       "        vertical-align: middle;\n",
       "    }\n",
       "\n",
       "    .dataframe tbody tr th {\n",
       "        vertical-align: top;\n",
       "    }\n",
       "\n",
       "    .dataframe thead th {\n",
       "        text-align: right;\n",
       "    }\n",
       "</style>\n",
       "<table border=\"1\" class=\"dataframe\">\n",
       "  <thead>\n",
       "    <tr style=\"text-align: right;\">\n",
       "      <th></th>\n",
       "      <th>id</th>\n",
       "      <th>target</th>\n",
       "    </tr>\n",
       "  </thead>\n",
       "  <tbody>\n",
       "    <tr>\n",
       "      <th>0</th>\n",
       "      <td>414</td>\n",
       "      <td>0</td>\n",
       "    </tr>\n",
       "    <tr>\n",
       "      <th>1</th>\n",
       "      <td>415</td>\n",
       "      <td>1</td>\n",
       "    </tr>\n",
       "    <tr>\n",
       "      <th>2</th>\n",
       "      <td>416</td>\n",
       "      <td>1</td>\n",
       "    </tr>\n",
       "    <tr>\n",
       "      <th>3</th>\n",
       "      <td>417</td>\n",
       "      <td>1</td>\n",
       "    </tr>\n",
       "    <tr>\n",
       "      <th>4</th>\n",
       "      <td>418</td>\n",
       "      <td>0</td>\n",
       "    </tr>\n",
       "    <tr>\n",
       "      <th>...</th>\n",
       "      <td>...</td>\n",
       "      <td>...</td>\n",
       "    </tr>\n",
       "    <tr>\n",
       "      <th>271</th>\n",
       "      <td>685</td>\n",
       "      <td>1</td>\n",
       "    </tr>\n",
       "    <tr>\n",
       "      <th>272</th>\n",
       "      <td>686</td>\n",
       "      <td>0</td>\n",
       "    </tr>\n",
       "    <tr>\n",
       "      <th>273</th>\n",
       "      <td>687</td>\n",
       "      <td>1</td>\n",
       "    </tr>\n",
       "    <tr>\n",
       "      <th>274</th>\n",
       "      <td>688</td>\n",
       "      <td>0</td>\n",
       "    </tr>\n",
       "    <tr>\n",
       "      <th>275</th>\n",
       "      <td>689</td>\n",
       "      <td>0</td>\n",
       "    </tr>\n",
       "  </tbody>\n",
       "</table>\n",
       "<p>276 rows × 2 columns</p>\n",
       "</div>"
      ],
      "text/plain": [
       "      id  target\n",
       "0    414       0\n",
       "1    415       1\n",
       "2    416       1\n",
       "3    417       1\n",
       "4    418       0\n",
       "..   ...     ...\n",
       "271  685       1\n",
       "272  686       0\n",
       "273  687       1\n",
       "274  688       0\n",
       "275  689       0\n",
       "\n",
       "[276 rows x 2 columns]"
      ]
     },
     "execution_count": 36,
     "metadata": {},
     "output_type": "execute_result"
    }
   ],
   "source": [
    "sub"
   ]
  },
  {
   "cell_type": "code",
   "execution_count": 37,
   "id": "40d2a0a6",
   "metadata": {
    "execution": {
     "iopub.execute_input": "2023-05-25T13:01:09.720944Z",
     "iopub.status.busy": "2023-05-25T13:01:09.720411Z",
     "iopub.status.idle": "2023-05-25T13:01:09.734644Z",
     "shell.execute_reply": "2023-05-25T13:01:09.733347Z"
    },
    "papermill": {
     "duration": 0.036326,
     "end_time": "2023-05-25T13:01:09.737916",
     "exception": false,
     "start_time": "2023-05-25T13:01:09.701590",
     "status": "completed"
    },
    "tags": []
   },
   "outputs": [],
   "source": [
    "sub.to_csv('submission.csv',index=False)"
   ]
  },
  {
   "cell_type": "code",
   "execution_count": 38,
   "id": "bcf01db4",
   "metadata": {
    "execution": {
     "iopub.execute_input": "2023-05-25T13:01:09.771825Z",
     "iopub.status.busy": "2023-05-25T13:01:09.771344Z",
     "iopub.status.idle": "2023-05-25T13:01:09.777863Z",
     "shell.execute_reply": "2023-05-25T13:01:09.776058Z"
    },
    "papermill": {
     "duration": 0.027155,
     "end_time": "2023-05-25T13:01:09.781036",
     "exception": false,
     "start_time": "2023-05-25T13:01:09.753881",
     "status": "completed"
    },
    "tags": []
   },
   "outputs": [],
   "source": [
    "# use ths for 100% right prediction RandomForestClassifier"
   ]
  }
 ],
 "metadata": {
  "kernelspec": {
   "display_name": "Python 3",
   "language": "python",
   "name": "python3"
  },
  "language_info": {
   "codemirror_mode": {
    "name": "ipython",
    "version": 3
   },
   "file_extension": ".py",
   "mimetype": "text/x-python",
   "name": "python",
   "nbconvert_exporter": "python",
   "pygments_lexer": "ipython3",
   "version": "3.10.10"
  },
  "papermill": {
   "default_parameters": {},
   "duration": 23.706646,
   "end_time": "2023-05-25T13:01:11.327198",
   "environment_variables": {},
   "exception": null,
   "input_path": "__notebook__.ipynb",
   "output_path": "__notebook__.ipynb",
   "parameters": {},
   "start_time": "2023-05-25T13:00:47.620552",
   "version": "2.4.0"
  }
 },
 "nbformat": 4,
 "nbformat_minor": 5
}
