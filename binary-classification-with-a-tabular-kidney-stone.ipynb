{
 "cells": [
  {
   "cell_type": "code",
   "execution_count": 1,
   "id": "6b6c09b8",
   "metadata": {
    "_cell_guid": "b1076dfc-b9ad-4769-8c92-a6c4dae69d19",
    "_uuid": "8f2839f25d086af736a60e9eeb907d3b93b6e0e5",
    "execution": {
     "iopub.execute_input": "2023-05-25T12:56:46.367233Z",
     "iopub.status.busy": "2023-05-25T12:56:46.366810Z",
     "iopub.status.idle": "2023-05-25T12:56:48.820533Z",
     "shell.execute_reply": "2023-05-25T12:56:48.819072Z"
    },
    "papermill": {
     "duration": 2.47315,
     "end_time": "2023-05-25T12:56:48.823899",
     "exception": false,
     "start_time": "2023-05-25T12:56:46.350749",
     "status": "completed"
    },
    "tags": []
   },
   "outputs": [],
   "source": [
    "import numpy as np\n",
    "import pandas as pd\n",
    "import matplotlib.pyplot as plt\n",
    "import seaborn as sns\n",
    "from sklearn.model_selection import train_test_split\n",
    "from sklearn.linear_model import LogisticRegression\n",
    "from sklearn.metrics import classification_report,confusion_matrix\n",
    "from sklearn.tree import DecisionTreeClassifier\n",
    "from sklearn.ensemble import RandomForestClassifier\n"
   ]
  },
  {
   "cell_type": "code",
   "execution_count": 2,
   "id": "85ba6b52",
   "metadata": {
    "execution": {
     "iopub.execute_input": "2023-05-25T12:56:48.850400Z",
     "iopub.status.busy": "2023-05-25T12:56:48.849977Z",
     "iopub.status.idle": "2023-05-25T12:56:48.876792Z",
     "shell.execute_reply": "2023-05-25T12:56:48.875556Z"
    },
    "papermill": {
     "duration": 0.043786,
     "end_time": "2023-05-25T12:56:48.879762",
     "exception": false,
     "start_time": "2023-05-25T12:56:48.835976",
     "status": "completed"
    },
    "tags": []
   },
   "outputs": [],
   "source": [
    "train_df = pd.read_csv(\"/kaggle/input/playground-series-s3e12/train.csv\")"
   ]
  },
  {
   "cell_type": "code",
   "execution_count": 3,
   "id": "96b4f63b",
   "metadata": {
    "execution": {
     "iopub.execute_input": "2023-05-25T12:56:48.905240Z",
     "iopub.status.busy": "2023-05-25T12:56:48.904822Z",
     "iopub.status.idle": "2023-05-25T12:56:48.944883Z",
     "shell.execute_reply": "2023-05-25T12:56:48.943710Z"
    },
    "papermill": {
     "duration": 0.056906,
     "end_time": "2023-05-25T12:56:48.948365",
     "exception": false,
     "start_time": "2023-05-25T12:56:48.891459",
     "status": "completed"
    },
    "tags": []
   },
   "outputs": [
    {
     "data": {
      "text/html": [
       "<div>\n",
       "<style scoped>\n",
       "    .dataframe tbody tr th:only-of-type {\n",
       "        vertical-align: middle;\n",
       "    }\n",
       "\n",
       "    .dataframe tbody tr th {\n",
       "        vertical-align: top;\n",
       "    }\n",
       "\n",
       "    .dataframe thead th {\n",
       "        text-align: right;\n",
       "    }\n",
       "</style>\n",
       "<table border=\"1\" class=\"dataframe\">\n",
       "  <thead>\n",
       "    <tr style=\"text-align: right;\">\n",
       "      <th></th>\n",
       "      <th>id</th>\n",
       "      <th>gravity</th>\n",
       "      <th>ph</th>\n",
       "      <th>osmo</th>\n",
       "      <th>cond</th>\n",
       "      <th>urea</th>\n",
       "      <th>calc</th>\n",
       "      <th>target</th>\n",
       "    </tr>\n",
       "  </thead>\n",
       "  <tbody>\n",
       "    <tr>\n",
       "      <th>0</th>\n",
       "      <td>0</td>\n",
       "      <td>1.013</td>\n",
       "      <td>6.19</td>\n",
       "      <td>443</td>\n",
       "      <td>14.8</td>\n",
       "      <td>124</td>\n",
       "      <td>1.45</td>\n",
       "      <td>0</td>\n",
       "    </tr>\n",
       "    <tr>\n",
       "      <th>1</th>\n",
       "      <td>1</td>\n",
       "      <td>1.025</td>\n",
       "      <td>5.40</td>\n",
       "      <td>703</td>\n",
       "      <td>23.6</td>\n",
       "      <td>394</td>\n",
       "      <td>4.18</td>\n",
       "      <td>0</td>\n",
       "    </tr>\n",
       "    <tr>\n",
       "      <th>2</th>\n",
       "      <td>2</td>\n",
       "      <td>1.009</td>\n",
       "      <td>6.13</td>\n",
       "      <td>371</td>\n",
       "      <td>24.5</td>\n",
       "      <td>159</td>\n",
       "      <td>9.04</td>\n",
       "      <td>0</td>\n",
       "    </tr>\n",
       "    <tr>\n",
       "      <th>3</th>\n",
       "      <td>3</td>\n",
       "      <td>1.021</td>\n",
       "      <td>4.91</td>\n",
       "      <td>442</td>\n",
       "      <td>20.8</td>\n",
       "      <td>398</td>\n",
       "      <td>6.63</td>\n",
       "      <td>1</td>\n",
       "    </tr>\n",
       "    <tr>\n",
       "      <th>4</th>\n",
       "      <td>4</td>\n",
       "      <td>1.021</td>\n",
       "      <td>5.53</td>\n",
       "      <td>874</td>\n",
       "      <td>17.8</td>\n",
       "      <td>385</td>\n",
       "      <td>2.21</td>\n",
       "      <td>1</td>\n",
       "    </tr>\n",
       "  </tbody>\n",
       "</table>\n",
       "</div>"
      ],
      "text/plain": [
       "   id  gravity    ph  osmo  cond  urea  calc  target\n",
       "0   0    1.013  6.19   443  14.8   124  1.45       0\n",
       "1   1    1.025  5.40   703  23.6   394  4.18       0\n",
       "2   2    1.009  6.13   371  24.5   159  9.04       0\n",
       "3   3    1.021  4.91   442  20.8   398  6.63       1\n",
       "4   4    1.021  5.53   874  17.8   385  2.21       1"
      ]
     },
     "execution_count": 3,
     "metadata": {},
     "output_type": "execute_result"
    }
   ],
   "source": [
    "train_df.head()"
   ]
  },
  {
   "cell_type": "code",
   "execution_count": 4,
   "id": "2bfc7d01",
   "metadata": {
    "execution": {
     "iopub.execute_input": "2023-05-25T12:56:48.975450Z",
     "iopub.status.busy": "2023-05-25T12:56:48.975041Z",
     "iopub.status.idle": "2023-05-25T12:56:48.987686Z",
     "shell.execute_reply": "2023-05-25T12:56:48.986251Z"
    },
    "papermill": {
     "duration": 0.029273,
     "end_time": "2023-05-25T12:56:48.990462",
     "exception": false,
     "start_time": "2023-05-25T12:56:48.961189",
     "status": "completed"
    },
    "tags": []
   },
   "outputs": [
    {
     "data": {
      "text/plain": [
       "id         0\n",
       "gravity    0\n",
       "ph         0\n",
       "osmo       0\n",
       "cond       0\n",
       "urea       0\n",
       "calc       0\n",
       "target     0\n",
       "dtype: int64"
      ]
     },
     "execution_count": 4,
     "metadata": {},
     "output_type": "execute_result"
    }
   ],
   "source": [
    "train_df.isnull().sum()"
   ]
  },
  {
   "cell_type": "code",
   "execution_count": 5,
   "id": "57fed110",
   "metadata": {
    "execution": {
     "iopub.execute_input": "2023-05-25T12:56:49.017558Z",
     "iopub.status.busy": "2023-05-25T12:56:49.017142Z",
     "iopub.status.idle": "2023-05-25T12:56:49.243020Z",
     "shell.execute_reply": "2023-05-25T12:56:49.241599Z"
    },
    "papermill": {
     "duration": 0.242926,
     "end_time": "2023-05-25T12:56:49.245817",
     "exception": false,
     "start_time": "2023-05-25T12:56:49.002891",
     "status": "completed"
    },
    "tags": []
   },
   "outputs": [
    {
     "data": {
      "text/plain": [
       "<Axes: >"
      ]
     },
     "execution_count": 5,
     "metadata": {},
     "output_type": "execute_result"
    },
    {
     "data": {
      "image/png": "[encoded data removed]",
      "text/plain": [
       "<Figure size 640x480 with 1 Axes>"
      ]
     },
     "metadata": {},
     "output_type": "display_data"
    }
   ],
   "source": [
    "sns.heatmap(train_df.isnull(),yticklabels=False,cbar=False,cmap='viridis')"
   ]
  },
  {
   "cell_type": "code",
   "execution_count": 6,
   "id": "d7367f06",
   "metadata": {
    "execution": {
     "iopub.execute_input": "2023-05-25T12:56:49.272570Z",
     "iopub.status.busy": "2023-05-25T12:56:49.272162Z",
     "iopub.status.idle": "2023-05-25T12:56:49.283934Z",
     "shell.execute_reply": "2023-05-25T12:56:49.283031Z"
    },
    "papermill": {
     "duration": 0.028052,
     "end_time": "2023-05-25T12:56:49.286383",
     "exception": false,
     "start_time": "2023-05-25T12:56:49.258331",
     "status": "completed"
    },
    "tags": []
   },
   "outputs": [],
   "source": [
    "x = train_df.drop(['target','id'],axis = 1)\n",
    "y =train_df['target']"
   ]
  },
  {
   "cell_type": "code",
   "execution_count": 7,
   "id": "70f2f701",
   "metadata": {
    "execution": {
     "iopub.execute_input": "2023-05-25T12:56:49.314295Z",
     "iopub.status.busy": "2023-05-25T12:56:49.313679Z",
     "iopub.status.idle": "2023-05-25T12:56:49.320410Z",
     "shell.execute_reply": "2023-05-25T12:56:49.319469Z"
    },
    "papermill": {
     "duration": 0.02332,
     "end_time": "2023-05-25T12:56:49.323124",
     "exception": false,
     "start_time": "2023-05-25T12:56:49.299804",
     "status": "completed"
    },
    "tags": []
   },
   "outputs": [],
   "source": [
    "x_train,x_test,y_train,y_test = train_test_split(x,y,test_size=0.3,random_state=42)"
   ]
  },
  {
   "cell_type": "code",
   "execution_count": 8,
   "id": "bd27d4b5",
   "metadata": {
    "execution": {
     "iopub.execute_input": "2023-05-25T12:56:49.350765Z",
     "iopub.status.busy": "2023-05-25T12:56:49.350284Z",
     "iopub.status.idle": "2023-05-25T12:56:49.355340Z",
     "shell.execute_reply": "2023-05-25T12:56:49.354108Z"
    },
    "papermill": {
     "duration": 0.021742,
     "end_time": "2023-05-25T12:56:49.358008",
     "exception": false,
     "start_time": "2023-05-25T12:56:49.336266",
     "status": "completed"
    },
    "tags": []
   },
   "outputs": [],
   "source": [
    "log = LogisticRegression(max_iter=1000)"
   ]
  },
  {
   "cell_type": "code",
   "execution_count": 9,
   "id": "105e201e",
   "metadata": {
    "execution": {
     "iopub.execute_input": "2023-05-25T12:56:49.385143Z",
     "iopub.status.busy": "2023-05-25T12:56:49.384755Z",
     "iopub.status.idle": "2023-05-25T12:56:49.424881Z",
     "shell.execute_reply": "2023-05-25T12:56:49.423675Z"
    },
    "papermill": {
     "duration": 0.056894,
     "end_time": "2023-05-25T12:56:49.427696",
     "exception": false,
     "start_time": "2023-05-25T12:56:49.370802",
     "status": "completed"
    },
    "tags": []
   },
   "outputs": [
    {
     "data": {
      "text/html": [
       "<style>#sk-container-id-1 {color: black;background-color: white;}#sk-container-id-1 pre{padding: 0;}#sk-container-id-1 div.sk-toggleable {background-color: white;}#sk-container-id-1 label.sk-toggleable__label {cursor: pointer;display: block;width: 100%;margin-bottom: 0;padding: 0.3em;box-sizing: border-box;text-align: center;}#sk-container-id-1 label.sk-toggleable__label-arrow:before {content: \"▸\";float: left;margin-right: 0.25em;color: #696969;}#sk-container-id-1 label.sk-toggleable__label-arrow:hover:before {color: black;}#sk-container-id-1 div.sk-estimator:hover label.sk-toggleable__label-arrow:before {color: black;}#sk-container-id-1 div.sk-toggleable__content {max-height: 0;max-width: 0;overflow: hidden;text-align: left;background-color: #f0f8ff;}#sk-container-id-1 div.sk-toggleable__content pre {margin: 0.2em;color: black;border-radius: 0.25em;background-color: #f0f8ff;}#sk-container-id-1 input.sk-toggleable__control:checked~div.sk-toggleable__content {max-height: 200px;max-width: 100%;overflow: auto;}#sk-container-id-1 input.sk-toggleable__control:checked~label.sk-toggleable__label-arrow:before {content: \"▾\";}#sk-container-id-1 div.sk-estimator input.sk-toggleable__control:checked~label.sk-toggleable__label {background-color: #d4ebff;}#sk-container-id-1 div.sk-label input.sk-toggleable__control:checked~label.sk-toggleable__label {background-color: #d4ebff;}#sk-container-id-1 input.sk-hidden--visually {border: 0;clip: rect(1px 1px 1px 1px);clip: rect(1px, 1px, 1px, 1px);height: 1px;margin: -1px;overflow: hidden;padding: 0;position: absolute;width: 1px;}#sk-container-id-1 div.sk-estimator {font-family: monospace;background-color: #f0f8ff;border: 1px dotted black;border-radius: 0.25em;box-sizing: border-box;margin-bottom: 0.5em;}#sk-container-id-1 div.sk-estimator:hover {background-color: #d4ebff;}#sk-container-id-1 div.sk-parallel-item::after {content: \"\";width: 100%;border-bottom: 1px solid gray;flex-grow: 1;}#sk-container-id-1 div.sk-label:hover label.sk-toggleable__label {background-color: #d4ebff;}#sk-container-id-1 div.sk-serial::before {content: \"\";position: absolute;border-left: 1px solid gray;box-sizing: border-box;top: 0;bottom: 0;left: 50%;z-index: 0;}#sk-container-id-1 div.sk-serial {display: flex;flex-direction: column;align-items: center;background-color: white;padding-right: 0.2em;padding-left: 0.2em;position: relative;}#sk-container-id-1 div.sk-item {position: relative;z-index: 1;}#sk-container-id-1 div.sk-parallel {display: flex;align-items: stretch;justify-content: center;background-color: white;position: relative;}#sk-container-id-1 div.sk-item::before, #sk-container-id-1 div.sk-parallel-item::before {content: \"\";position: absolute;border-left: 1px solid gray;box-sizing: border-box;top: 0;bottom: 0;left: 50%;z-index: -1;}#sk-container-id-1 div.sk-parallel-item {display: flex;flex-direction: column;z-index: 1;position: relative;background-color: white;}#sk-container-id-1 div.sk-parallel-item:first-child::after {align-self: flex-end;width: 50%;}#sk-container-id-1 div.sk-parallel-item:last-child::after {align-self: flex-start;width: 50%;}#sk-container-id-1 div.sk-parallel-item:only-child::after {width: 0;}#sk-container-id-1 div.sk-dashed-wrapped {border: 1px dashed gray;margin: 0 0.4em 0.5em 0.4em;box-sizing: border-box;padding-bottom: 0.4em;background-color: white;}#sk-container-id-1 div.sk-label label {font-family: monospace;font-weight: bold;display: inline-block;line-height: 1.2em;}#sk-container-id-1 div.sk-label-container {text-align: center;}#sk-container-id-1 div.sk-container {/* jupyter's `normalize.less` sets `[hidden] { display: none; }` but bootstrap.min.css set `[hidden] { display: none !important; }` so we also need the `!important` here to be able to override the default hidden behavior on the sphinx rendered scikit-learn.org. See: https://github.com/scikit-learn/scikit-learn/issues/21755 */display: inline-block !important;position: relative;}#sk-container-id-1 div.sk-text-repr-fallback {display: none;}</style><div id=\"sk-container-id-1\" class=\"sk-top-container\"><div class=\"sk-text-repr-fallback\"><pre>LogisticRegression(max_iter=1000)</pre><b>In a Jupyter environment, please rerun this cell to show the HTML representation or trust the notebook. <br />On GitHub, the HTML representation is unable to render, please try loading this page with nbviewer.org.</b></div><div class=\"sk-container\" hidden><div class=\"sk-item\"><div class=\"sk-estimator sk-toggleable\"><input class=\"sk-toggleable__control sk-hidden--visually\" id=\"sk-estimator-id-1\" type=\"checkbox\" checked><label for=\"sk-estimator-id-1\" class=\"sk-toggleable__label sk-toggleable__label-arrow\">LogisticRegression</label><div class=\"sk-toggleable__content\"><pre>LogisticRegression(max_iter=1000)</pre></div></div></div></div></div>"
      ],
      "text/plain": [
       "LogisticRegression(max_iter=1000)"
      ]
     },
     "execution_count": 9,
     "metadata": {},
     "output_type": "execute_result"
    }
   ],
   "source": [
    "log.fit(x_train,y_train)"
   ]
  },
  {
   "cell_type": "code",
   "execution_count": 10,
   "id": "f7d0189a",
   "metadata": {
    "execution": {
     "iopub.execute_input": "2023-05-25T12:56:49.455221Z",
     "iopub.status.busy": "2023-05-25T12:56:49.454773Z",
     "iopub.status.idle": "2023-05-25T12:56:49.462883Z",
     "shell.execute_reply": "2023-05-25T12:56:49.461635Z"
    },
    "papermill": {
     "duration": 0.025147,
     "end_time": "2023-05-25T12:56:49.465667",
     "exception": false,
     "start_time": "2023-05-25T12:56:49.440520",
     "status": "completed"
    },
    "tags": []
   },
   "outputs": [],
   "source": [
    "predict = log.predict(x_test)"
   ]
  },
  {
   "cell_type": "code",
   "execution_count": 11,
   "id": "40a3d0ba",
   "metadata": {
    "execution": {
     "iopub.execute_input": "2023-05-25T12:56:49.494634Z",
     "iopub.status.busy": "2023-05-25T12:56:49.494216Z",
     "iopub.status.idle": "2023-05-25T12:56:49.510203Z",
     "shell.execute_reply": "2023-05-25T12:56:49.508507Z"
    },
    "papermill": {
     "duration": 0.033328,
     "end_time": "2023-05-25T12:56:49.512790",
     "exception": false,
     "start_time": "2023-05-25T12:56:49.479462",
     "status": "completed"
    },
    "tags": []
   },
   "outputs": [
    {
     "name": "stdout",
     "output_type": "stream",
     "text": [
      "              precision    recall  f1-score   support\n",
      "\n",
      "           0       0.75      0.84      0.79        67\n",
      "           1       0.78      0.67      0.72        58\n",
      "\n",
      "    accuracy                           0.76       125\n",
      "   macro avg       0.76      0.75      0.76       125\n",
      "weighted avg       0.76      0.76      0.76       125\n",
      "\n"
     ]
    }
   ],
   "source": [
    "print(classification_report(y_test,predict))"
   ]
  },
  {
   "cell_type": "code",
   "execution_count": 12,
   "id": "50dd8da7",
   "metadata": {
    "execution": {
     "iopub.execute_input": "2023-05-25T12:56:49.540770Z",
     "iopub.status.busy": "2023-05-25T12:56:49.540353Z",
     "iopub.status.idle": "2023-05-25T12:56:49.545936Z",
     "shell.execute_reply": "2023-05-25T12:56:49.544685Z"
    },
    "papermill": {
     "duration": 0.0225,
     "end_time": "2023-05-25T12:56:49.548669",
     "exception": false,
     "start_time": "2023-05-25T12:56:49.526169",
     "status": "completed"
    },
    "tags": []
   },
   "outputs": [],
   "source": [
    "# Try another predicting method"
   ]
  },
  {
   "cell_type": "code",
   "execution_count": 13,
   "id": "0678b08a",
   "metadata": {
    "execution": {
     "iopub.execute_input": "2023-05-25T12:56:49.576989Z",
     "iopub.status.busy": "2023-05-25T12:56:49.575801Z",
     "iopub.status.idle": "2023-05-25T12:56:49.580783Z",
     "shell.execute_reply": "2023-05-25T12:56:49.579909Z"
    },
    "papermill": {
     "duration": 0.021517,
     "end_time": "2023-05-25T12:56:49.583145",
     "exception": false,
     "start_time": "2023-05-25T12:56:49.561628",
     "status": "completed"
    },
    "tags": []
   },
   "outputs": [],
   "source": [
    "# I will defind x and y variable so i dont write again"
   ]
  },
  {
   "cell_type": "code",
   "execution_count": 14,
   "id": "f82dc1ee",
   "metadata": {
    "execution": {
     "iopub.execute_input": "2023-05-25T12:56:49.611115Z",
     "iopub.status.busy": "2023-05-25T12:56:49.610640Z",
     "iopub.status.idle": "2023-05-25T12:56:49.617661Z",
     "shell.execute_reply": "2023-05-25T12:56:49.616416Z"
    },
    "papermill": {
     "duration": 0.02406,
     "end_time": "2023-05-25T12:56:49.620271",
     "exception": false,
     "start_time": "2023-05-25T12:56:49.596211",
     "status": "completed"
    },
    "tags": []
   },
   "outputs": [],
   "source": [
    "x_train,x_test,y_train,y_test = train_test_split(x,y,test_size=0.3,random_state=101)"
   ]
  },
  {
   "cell_type": "code",
   "execution_count": 15,
   "id": "03f76876",
   "metadata": {
    "execution": {
     "iopub.execute_input": "2023-05-25T12:56:49.648060Z",
     "iopub.status.busy": "2023-05-25T12:56:49.647616Z",
     "iopub.status.idle": "2023-05-25T12:56:49.653461Z",
     "shell.execute_reply": "2023-05-25T12:56:49.652130Z"
    },
    "papermill": {
     "duration": 0.022956,
     "end_time": "2023-05-25T12:56:49.656239",
     "exception": false,
     "start_time": "2023-05-25T12:56:49.633283",
     "status": "completed"
    },
    "tags": []
   },
   "outputs": [],
   "source": [
    "dtree = DecisionTreeClassifier()"
   ]
  },
  {
   "cell_type": "code",
   "execution_count": 16,
   "id": "7a4973da",
   "metadata": {
    "execution": {
     "iopub.execute_input": "2023-05-25T12:56:49.684933Z",
     "iopub.status.busy": "2023-05-25T12:56:49.684489Z",
     "iopub.status.idle": "2023-05-25T12:56:49.698838Z",
     "shell.execute_reply": "2023-05-25T12:56:49.697778Z"
    },
    "papermill": {
     "duration": 0.031593,
     "end_time": "2023-05-25T12:56:49.701487",
     "exception": false,
     "start_time": "2023-05-25T12:56:49.669894",
     "status": "completed"
    },
    "tags": []
   },
   "outputs": [
    {
     "data": {
      "text/html": [
       "<style>#sk-container-id-2 {color: black;background-color: white;}#sk-container-id-2 pre{padding: 0;}#sk-container-id-2 div.sk-toggleable {background-color: white;}#sk-container-id-2 label.sk-toggleable__label {cursor: pointer;display: block;width: 100%;margin-bottom: 0;padding: 0.3em;box-sizing: border-box;text-align: center;}#sk-container-id-2 label.sk-toggleable__label-arrow:before {content: \"▸\";float: left;margin-right: 0.25em;color: #696969;}#sk-container-id-2 label.sk-toggleable__label-arrow:hover:before {color: black;}#sk-container-id-2 div.sk-estimator:hover label.sk-toggleable__label-arrow:before {color: black;}#sk-container-id-2 div.sk-toggleable__content {max-height: 0;max-width: 0;overflow: hidden;text-align: left;background-color: #f0f8ff;}#sk-container-id-2 div.sk-toggleable__content pre {margin: 0.2em;color: black;border-radius: 0.25em;background-color: #f0f8ff;}#sk-container-id-2 input.sk-toggleable__control:checked~div.sk-toggleable__content {max-height: 200px;max-width: 100%;overflow: auto;}#sk-container-id-2 input.sk-toggleable__control:checked~label.sk-toggleable__label-arrow:before {content: \"▾\";}#sk-container-id-2 div.sk-estimator input.sk-toggleable__control:checked~label.sk-toggleable__label {background-color: #d4ebff;}#sk-container-id-2 div.sk-label input.sk-toggleable__control:checked~label.sk-toggleable__label {background-color: #d4ebff;}#sk-container-id-2 input.sk-hidden--visually {border: 0;clip: rect(1px 1px 1px 1px);clip: rect(1px, 1px, 1px, 1px);height: 1px;margin: -1px;overflow: hidden;padding: 0;position: absolute;width: 1px;}#sk-container-id-2 div.sk-estimator {font-family: monospace;background-color: #f0f8ff;border: 1px dotted black;border-radius: 0.25em;box-sizing: border-box;margin-bottom: 0.5em;}#sk-container-id-2 div.sk-estimator:hover {background-color: #d4ebff;}#sk-container-id-2 div.sk-parallel-item::after {content: \"\";width: 100%;border-bottom: 1px solid gray;flex-grow: 1;}#sk-container-id-2 div.sk-label:hover label.sk-toggleable__label {background-color: #d4ebff;}#sk-container-id-2 div.sk-serial::before {content: \"\";position: absolute;border-left: 1px solid gray;box-sizing: border-box;top: 0;bottom: 0;left: 50%;z-index: 0;}#sk-container-id-2 div.sk-serial {display: flex;flex-direction: column;align-items: center;background-color: white;padding-right: 0.2em;padding-left: 0.2em;position: relative;}#sk-container-id-2 div.sk-item {position: relative;z-index: 1;}#sk-container-id-2 div.sk-parallel {display: flex;align-items: stretch;justify-content: center;background-color: white;position: relative;}#sk-container-id-2 div.sk-item::before, #sk-container-id-2 div.sk-parallel-item::before {content: \"\";position: absolute;border-left: 1px solid gray;box-sizing: border-box;top: 0;bottom: 0;left: 50%;z-index: -1;}#sk-container-id-2 div.sk-parallel-item {display: flex;flex-direction: column;z-index: 1;position: relative;background-color: white;}#sk-container-id-2 div.sk-parallel-item:first-child::after {align-self: flex-end;width: 50%;}#sk-container-id-2 div.sk-parallel-item:last-child::after {align-self: flex-start;width: 50%;}#sk-container-id-2 div.sk-parallel-item:only-child::after {width: 0;}#sk-container-id-2 div.sk-dashed-wrapped {border: 1px dashed gray;margin: 0 0.4em 0.5em 0.4em;box-sizing: border-box;padding-bottom: 0.4em;background-color: white;}#sk-container-id-2 div.sk-label label {font-family: monospace;font-weight: bold;display: inline-block;line-height: 1.2em;}#sk-container-id-2 div.sk-label-container {text-align: center;}#sk-container-id-2 div.sk-container {/* jupyter's `normalize.less` sets `[hidden] { display: none; }` but bootstrap.min.css set `[hidden] { display: none !important; }` so we also need the `!important` here to be able to override the default hidden behavior on the sphinx rendered scikit-learn.org. See: https://github.com/scikit-learn/scikit-learn/issues/21755 */display: inline-block !important;position: relative;}#sk-container-id-2 div.sk-text-repr-fallback {display: none;}</style><div id=\"sk-container-id-2\" class=\"sk-top-container\"><div class=\"sk-text-repr-fallback\"><pre>DecisionTreeClassifier()</pre><b>In a Jupyter environment, please rerun this cell to show the HTML representation or trust the notebook. <br />On GitHub, the HTML representation is unable to render, please try loading this page with nbviewer.org.</b></div><div class=\"sk-container\" hidden><div class=\"sk-item\"><div class=\"sk-estimator sk-toggleable\"><input class=\"sk-toggleable__control sk-hidden--visually\" id=\"sk-estimator-id-2\" type=\"checkbox\" checked><label for=\"sk-estimator-id-2\" class=\"sk-toggleable__label sk-toggleable__label-arrow\">DecisionTreeClassifier</label><div class=\"sk-toggleable__content\"><pre>DecisionTreeClassifier()</pre></div></div></div></div></div>"
      ],
      "text/plain": [
       "DecisionTreeClassifier()"
      ]
     },
     "execution_count": 16,
     "metadata": {},
     "output_type": "execute_result"
    }
   ],
   "source": [
    "dtree.fit(x_train,y_train)"
   ]
  },
  {
   "cell_type": "code",
   "execution_count": 17,
   "id": "07bc8a8f",
   "metadata": {
    "execution": {
     "iopub.execute_input": "2023-05-25T12:56:49.729960Z",
     "iopub.status.busy": "2023-05-25T12:56:49.729540Z",
     "iopub.status.idle": "2023-05-25T12:56:49.737038Z",
     "shell.execute_reply": "2023-05-25T12:56:49.735648Z"
    },
    "papermill": {
     "duration": 0.025012,
     "end_time": "2023-05-25T12:56:49.739818",
     "exception": false,
     "start_time": "2023-05-25T12:56:49.714806",
     "status": "completed"
    },
    "tags": []
   },
   "outputs": [],
   "source": [
    "predict_dtree = dtree.predict(x_test) "
   ]
  },
  {
   "cell_type": "code",
   "execution_count": 18,
   "id": "413f67d3",
   "metadata": {
    "execution": {
     "iopub.execute_input": "2023-05-25T12:56:49.767990Z",
     "iopub.status.busy": "2023-05-25T12:56:49.767553Z",
     "iopub.status.idle": "2023-05-25T12:56:49.782516Z",
     "shell.execute_reply": "2023-05-25T12:56:49.781245Z"
    },
    "papermill": {
     "duration": 0.032661,
     "end_time": "2023-05-25T12:56:49.785641",
     "exception": false,
     "start_time": "2023-05-25T12:56:49.752980",
     "status": "completed"
    },
    "tags": []
   },
   "outputs": [
    {
     "name": "stdout",
     "output_type": "stream",
     "text": [
      "              precision    recall  f1-score   support\n",
      "\n",
      "           0       0.73      0.73      0.73        67\n",
      "           1       0.69      0.69      0.69        58\n",
      "\n",
      "    accuracy                           0.71       125\n",
      "   macro avg       0.71      0.71      0.71       125\n",
      "weighted avg       0.71      0.71      0.71       125\n",
      "\n"
     ]
    }
   ],
   "source": [
    "print(classification_report(y_test,predict_dtree))"
   ]
  },
  {
   "cell_type": "code",
   "execution_count": 19,
   "id": "ceb03d6f",
   "metadata": {
    "execution": {
     "iopub.execute_input": "2023-05-25T12:56:49.814391Z",
     "iopub.status.busy": "2023-05-25T12:56:49.813950Z",
     "iopub.status.idle": "2023-05-25T12:56:49.819433Z",
     "shell.execute_reply": "2023-05-25T12:56:49.818192Z"
    },
    "papermill": {
     "duration": 0.023091,
     "end_time": "2023-05-25T12:56:49.821991",
     "exception": false,
     "start_time": "2023-05-25T12:56:49.798900",
     "status": "completed"
    },
    "tags": []
   },
   "outputs": [],
   "source": [
    "# Try RandomForest"
   ]
  },
  {
   "cell_type": "code",
   "execution_count": 20,
   "id": "491481af",
   "metadata": {
    "execution": {
     "iopub.execute_input": "2023-05-25T12:56:49.851425Z",
     "iopub.status.busy": "2023-05-25T12:56:49.850732Z",
     "iopub.status.idle": "2023-05-25T12:56:49.859383Z",
     "shell.execute_reply": "2023-05-25T12:56:49.858255Z"
    },
    "papermill": {
     "duration": 0.026169,
     "end_time": "2023-05-25T12:56:49.862131",
     "exception": false,
     "start_time": "2023-05-25T12:56:49.835962",
     "status": "completed"
    },
    "tags": []
   },
   "outputs": [],
   "source": [
    "x_train,x_test,y_train,y_test = train_test_split(x,y,test_size=0.3,random_state=42)"
   ]
  },
  {
   "cell_type": "code",
   "execution_count": 21,
   "id": "53129855",
   "metadata": {
    "execution": {
     "iopub.execute_input": "2023-05-25T12:56:49.890793Z",
     "iopub.status.busy": "2023-05-25T12:56:49.890140Z",
     "iopub.status.idle": "2023-05-25T12:56:49.894521Z",
     "shell.execute_reply": "2023-05-25T12:56:49.893552Z"
    },
    "papermill": {
     "duration": 0.021833,
     "end_time": "2023-05-25T12:56:49.897107",
     "exception": false,
     "start_time": "2023-05-25T12:56:49.875274",
     "status": "completed"
    },
    "tags": []
   },
   "outputs": [],
   "source": [
    "rft = RandomForestClassifier()"
   ]
  },
  {
   "cell_type": "code",
   "execution_count": 22,
   "id": "39857add",
   "metadata": {
    "execution": {
     "iopub.execute_input": "2023-05-25T12:56:49.925732Z",
     "iopub.status.busy": "2023-05-25T12:56:49.925093Z",
     "iopub.status.idle": "2023-05-25T12:56:50.223234Z",
     "shell.execute_reply": "2023-05-25T12:56:50.221991Z"
    },
    "papermill": {
     "duration": 0.316805,
     "end_time": "2023-05-25T12:56:50.227097",
     "exception": false,
     "start_time": "2023-05-25T12:56:49.910292",
     "status": "completed"
    },
    "tags": []
   },
   "outputs": [
    {
     "data": {
      "text/html": [
       "<style>#sk-container-id-3 {color: black;background-color: white;}#sk-container-id-3 pre{padding: 0;}#sk-container-id-3 div.sk-toggleable {background-color: white;}#sk-container-id-3 label.sk-toggleable__label {cursor: pointer;display: block;width: 100%;margin-bottom: 0;padding: 0.3em;box-sizing: border-box;text-align: center;}#sk-container-id-3 label.sk-toggleable__label-arrow:before {content: \"▸\";float: left;margin-right: 0.25em;color: #696969;}#sk-container-id-3 label.sk-toggleable__label-arrow:hover:before {color: black;}#sk-container-id-3 div.sk-estimator:hover label.sk-toggleable__label-arrow:before {color: black;}#sk-container-id-3 div.sk-toggleable__content {max-height: 0;max-width: 0;overflow: hidden;text-align: left;background-color: #f0f8ff;}#sk-container-id-3 div.sk-toggleable__content pre {margin: 0.2em;color: black;border-radius: 0.25em;background-color: #f0f8ff;}#sk-container-id-3 input.sk-toggleable__control:checked~div.sk-toggleable__content {max-height: 200px;max-width: 100%;overflow: auto;}#sk-container-id-3 input.sk-toggleable__control:checked~label.sk-toggleable__label-arrow:before {content: \"▾\";}#sk-container-id-3 div.sk-estimator input.sk-toggleable__control:checked~label.sk-toggleable__label {background-color: #d4ebff;}#sk-container-id-3 div.sk-label input.sk-toggleable__control:checked~label.sk-toggleable__label {background-color: #d4ebff;}#sk-container-id-3 input.sk-hidden--visually {border: 0;clip: rect(1px 1px 1px 1px);clip: rect(1px, 1px, 1px, 1px);height: 1px;margin: -1px;overflow: hidden;padding: 0;position: absolute;width: 1px;}#sk-container-id-3 div.sk-estimator {font-family: monospace;background-color: #f0f8ff;border: 1px dotted black;border-radius: 0.25em;box-sizing: border-box;margin-bottom: 0.5em;}#sk-container-id-3 div.sk-estimator:hover {background-color: #d4ebff;}#sk-container-id-3 div.sk-parallel-item::after {content: \"\";width: 100%;border-bottom: 1px solid gray;flex-grow: 1;}#sk-container-id-3 div.sk-label:hover label.sk-toggleable__label {background-color: #d4ebff;}#sk-container-id-3 div.sk-serial::before {content: \"\";position: absolute;border-left: 1px solid gray;box-sizing: border-box;top: 0;bottom: 0;left: 50%;z-index: 0;}#sk-container-id-3 div.sk-serial {display: flex;flex-direction: column;align-items: center;background-color: white;padding-right: 0.2em;padding-left: 0.2em;position: relative;}#sk-container-id-3 div.sk-item {position: relative;z-index: 1;}#sk-container-id-3 div.sk-parallel {display: flex;align-items: stretch;justify-content: center;background-color: white;position: relative;}#sk-container-id-3 div.sk-item::before, #sk-container-id-3 div.sk-parallel-item::before {content: \"\";position: absolute;border-left: 1px solid gray;box-sizing: border-box;top: 0;bottom: 0;left: 50%;z-index: -1;}#sk-container-id-3 div.sk-parallel-item {display: flex;flex-direction: column;z-index: 1;position: relative;background-color: white;}#sk-container-id-3 div.sk-parallel-item:first-child::after {align-self: flex-end;width: 50%;}#sk-container-id-3 div.sk-parallel-item:last-child::after {align-self: flex-start;width: 50%;}#sk-container-id-3 div.sk-parallel-item:only-child::after {width: 0;}#sk-container-id-3 div.sk-dashed-wrapped {border: 1px dashed gray;margin: 0 0.4em 0.5em 0.4em;box-sizing: border-box;padding-bottom: 0.4em;background-color: white;}#sk-container-id-3 div.sk-label label {font-family: monospace;font-weight: bold;display: inline-block;line-height: 1.2em;}#sk-container-id-3 div.sk-label-container {text-align: center;}#sk-container-id-3 div.sk-container {/* jupyter's `normalize.less` sets `[hidden] { display: none; }` but bootstrap.min.css set `[hidden] { display: none !important; }` so we also need the `!important` here to be able to override the default hidden behavior on the sphinx rendered scikit-learn.org. See: https://github.com/scikit-learn/scikit-learn/issues/21755 */display: inline-block !important;position: relative;}#sk-container-id-3 div.sk-text-repr-fallback {display: none;}</style><div id=\"sk-container-id-3\" class=\"sk-top-container\"><div class=\"sk-text-repr-fallback\"><pre>RandomForestClassifier()</pre><b>In a Jupyter environment, please rerun this cell to show the HTML representation or trust the notebook. <br />On GitHub, the HTML representation is unable to render, please try loading this page with nbviewer.org.</b></div><div class=\"sk-container\" hidden><div class=\"sk-item\"><div class=\"sk-estimator sk-toggleable\"><input class=\"sk-toggleable__control sk-hidden--visually\" id=\"sk-estimator-id-3\" type=\"checkbox\" checked><label for=\"sk-estimator-id-3\" class=\"sk-toggleable__label sk-toggleable__label-arrow\">RandomForestClassifier</label><div class=\"sk-toggleable__content\"><pre>RandomForestClassifier()</pre></div></div></div></div></div>"
      ],
      "text/plain": [
       "RandomForestClassifier()"
      ]
     },
     "execution_count": 22,
     "metadata": {},
     "output_type": "execute_result"
    }
   ],
   "source": [
    "rft.fit(x,y)"
   ]
  },
  {
   "cell_type": "code",
   "execution_count": 23,
   "id": "81d90565",
   "metadata": {
    "execution": {
     "iopub.execute_input": "2023-05-25T12:56:50.257055Z",
     "iopub.status.busy": "2023-05-25T12:56:50.256400Z",
     "iopub.status.idle": "2023-05-25T12:56:50.277773Z",
     "shell.execute_reply": "2023-05-25T12:56:50.276772Z"
    },
    "papermill": {
     "duration": 0.039318,
     "end_time": "2023-05-25T12:56:50.280424",
     "exception": false,
     "start_time": "2023-05-25T12:56:50.241106",
     "status": "completed"
    },
    "tags": []
   },
   "outputs": [],
   "source": [
    "predit_rft = rft.predict(x_test)"
   ]
  },
  {
   "cell_type": "code",
   "execution_count": 24,
   "id": "1c01eede",
   "metadata": {
    "execution": {
     "iopub.execute_input": "2023-05-25T12:56:50.309461Z",
     "iopub.status.busy": "2023-05-25T12:56:50.308663Z",
     "iopub.status.idle": "2023-05-25T12:56:50.322836Z",
     "shell.execute_reply": "2023-05-25T12:56:50.321556Z"
    },
    "papermill": {
     "duration": 0.031643,
     "end_time": "2023-05-25T12:56:50.325433",
     "exception": false,
     "start_time": "2023-05-25T12:56:50.293790",
     "status": "completed"
    },
    "tags": []
   },
   "outputs": [
    {
     "name": "stdout",
     "output_type": "stream",
     "text": [
      "              precision    recall  f1-score   support\n",
      "\n",
      "           0       1.00      1.00      1.00        67\n",
      "           1       1.00      1.00      1.00        58\n",
      "\n",
      "    accuracy                           1.00       125\n",
      "   macro avg       1.00      1.00      1.00       125\n",
      "weighted avg       1.00      1.00      1.00       125\n",
      "\n"
     ]
    }
   ],
   "source": [
    "print(classification_report(y_test,predit_rft))"
   ]
  },
  {
   "cell_type": "code",
   "execution_count": 25,
   "id": "00d90f68",
   "metadata": {
    "execution": {
     "iopub.execute_input": "2023-05-25T12:56:50.355375Z",
     "iopub.status.busy": "2023-05-25T12:56:50.354536Z",
     "iopub.status.idle": "2023-05-25T12:56:50.362679Z",
     "shell.execute_reply": "2023-05-25T12:56:50.361295Z"
    },
    "papermill": {
     "duration": 0.026513,
     "end_time": "2023-05-25T12:56:50.365305",
     "exception": false,
     "start_time": "2023-05-25T12:56:50.338792",
     "status": "completed"
    },
    "tags": []
   },
   "outputs": [
    {
     "name": "stdout",
     "output_type": "stream",
     "text": [
      "[[67  0]\n",
      " [ 0 58]]\n"
     ]
    }
   ],
   "source": [
    "print(confusion_matrix(y_test,predit_rft))"
   ]
  },
  {
   "cell_type": "code",
   "execution_count": 26,
   "id": "ea1b3403",
   "metadata": {
    "execution": {
     "iopub.execute_input": "2023-05-25T12:56:50.395889Z",
     "iopub.status.busy": "2023-05-25T12:56:50.395243Z",
     "iopub.status.idle": "2023-05-25T12:56:50.408933Z",
     "shell.execute_reply": "2023-05-25T12:56:50.407709Z"
    },
    "papermill": {
     "duration": 0.032599,
     "end_time": "2023-05-25T12:56:50.411909",
     "exception": false,
     "start_time": "2023-05-25T12:56:50.379310",
     "status": "completed"
    },
    "tags": []
   },
   "outputs": [],
   "source": [
    "test_df = pd.read_csv(\"/kaggle/input/playground-series-s3e12/test.csv\")"
   ]
  },
  {
   "cell_type": "code",
   "execution_count": 27,
   "id": "3bba0b84",
   "metadata": {
    "execution": {
     "iopub.execute_input": "2023-05-25T12:56:50.441530Z",
     "iopub.status.busy": "2023-05-25T12:56:50.441090Z",
     "iopub.status.idle": "2023-05-25T12:56:50.458600Z",
     "shell.execute_reply": "2023-05-25T12:56:50.457338Z"
    },
    "papermill": {
     "duration": 0.035177,
     "end_time": "2023-05-25T12:56:50.461216",
     "exception": false,
     "start_time": "2023-05-25T12:56:50.426039",
     "status": "completed"
    },
    "tags": []
   },
   "outputs": [
    {
     "data": {
      "text/html": [
       "<div>\n",
       "<style scoped>\n",
       "    .dataframe tbody tr th:only-of-type {\n",
       "        vertical-align: middle;\n",
       "    }\n",
       "\n",
       "    .dataframe tbody tr th {\n",
       "        vertical-align: top;\n",
       "    }\n",
       "\n",
       "    .dataframe thead th {\n",
       "        text-align: right;\n",
       "    }\n",
       "</style>\n",
       "<table border=\"1\" class=\"dataframe\">\n",
       "  <thead>\n",
       "    <tr style=\"text-align: right;\">\n",
       "      <th></th>\n",
       "      <th>id</th>\n",
       "      <th>gravity</th>\n",
       "      <th>ph</th>\n",
       "      <th>osmo</th>\n",
       "      <th>cond</th>\n",
       "      <th>urea</th>\n",
       "      <th>calc</th>\n",
       "    </tr>\n",
       "  </thead>\n",
       "  <tbody>\n",
       "    <tr>\n",
       "      <th>0</th>\n",
       "      <td>414</td>\n",
       "      <td>1.017</td>\n",
       "      <td>5.24</td>\n",
       "      <td>345</td>\n",
       "      <td>11.5</td>\n",
       "      <td>152</td>\n",
       "      <td>1.16</td>\n",
       "    </tr>\n",
       "    <tr>\n",
       "      <th>1</th>\n",
       "      <td>415</td>\n",
       "      <td>1.020</td>\n",
       "      <td>5.68</td>\n",
       "      <td>874</td>\n",
       "      <td>29.0</td>\n",
       "      <td>385</td>\n",
       "      <td>3.46</td>\n",
       "    </tr>\n",
       "    <tr>\n",
       "      <th>2</th>\n",
       "      <td>416</td>\n",
       "      <td>1.024</td>\n",
       "      <td>5.36</td>\n",
       "      <td>698</td>\n",
       "      <td>19.5</td>\n",
       "      <td>354</td>\n",
       "      <td>13.00</td>\n",
       "    </tr>\n",
       "    <tr>\n",
       "      <th>3</th>\n",
       "      <td>417</td>\n",
       "      <td>1.020</td>\n",
       "      <td>5.33</td>\n",
       "      <td>668</td>\n",
       "      <td>25.3</td>\n",
       "      <td>252</td>\n",
       "      <td>3.46</td>\n",
       "    </tr>\n",
       "    <tr>\n",
       "      <th>4</th>\n",
       "      <td>418</td>\n",
       "      <td>1.011</td>\n",
       "      <td>5.87</td>\n",
       "      <td>567</td>\n",
       "      <td>29.0</td>\n",
       "      <td>457</td>\n",
       "      <td>2.36</td>\n",
       "    </tr>\n",
       "  </tbody>\n",
       "</table>\n",
       "</div>"
      ],
      "text/plain": [
       "    id  gravity    ph  osmo  cond  urea   calc\n",
       "0  414    1.017  5.24   345  11.5   152   1.16\n",
       "1  415    1.020  5.68   874  29.0   385   3.46\n",
       "2  416    1.024  5.36   698  19.5   354  13.00\n",
       "3  417    1.020  5.33   668  25.3   252   3.46\n",
       "4  418    1.011  5.87   567  29.0   457   2.36"
      ]
     },
     "execution_count": 27,
     "metadata": {},
     "output_type": "execute_result"
    }
   ],
   "source": [
    "test_df.head()"
   ]
  },
  {
   "cell_type": "code",
   "execution_count": 28,
   "id": "12c1d9e5",
   "metadata": {
    "execution": {
     "iopub.execute_input": "2023-05-25T12:56:50.492821Z",
     "iopub.status.busy": "2023-05-25T12:56:50.492274Z",
     "iopub.status.idle": "2023-05-25T12:56:50.503428Z",
     "shell.execute_reply": "2023-05-25T12:56:50.502249Z"
    },
    "papermill": {
     "duration": 0.02951,
     "end_time": "2023-05-25T12:56:50.506163",
     "exception": false,
     "start_time": "2023-05-25T12:56:50.476653",
     "status": "completed"
    },
    "tags": []
   },
   "outputs": [
    {
     "data": {
      "text/plain": [
       "id         0\n",
       "gravity    0\n",
       "ph         0\n",
       "osmo       0\n",
       "cond       0\n",
       "urea       0\n",
       "calc       0\n",
       "dtype: int64"
      ]
     },
     "execution_count": 28,
     "metadata": {},
     "output_type": "execute_result"
    }
   ],
   "source": [
    "test_df.isnull().sum()"
   ]
  },
  {
   "cell_type": "code",
   "execution_count": 29,
   "id": "96fb6580",
   "metadata": {
    "execution": {
     "iopub.execute_input": "2023-05-25T12:56:50.536374Z",
     "iopub.status.busy": "2023-05-25T12:56:50.535924Z",
     "iopub.status.idle": "2023-05-25T12:56:50.542739Z",
     "shell.execute_reply": "2023-05-25T12:56:50.541493Z"
    },
    "papermill": {
     "duration": 0.024714,
     "end_time": "2023-05-25T12:56:50.545277",
     "exception": false,
     "start_time": "2023-05-25T12:56:50.520563",
     "status": "completed"
    },
    "tags": []
   },
   "outputs": [],
   "source": [
    "test_df.drop(['id'],axis = 1,inplace = True)"
   ]
  },
  {
   "cell_type": "code",
   "execution_count": 30,
   "id": "3edfed78",
   "metadata": {
    "execution": {
     "iopub.execute_input": "2023-05-25T12:56:50.575665Z",
     "iopub.status.busy": "2023-05-25T12:56:50.575222Z",
     "iopub.status.idle": "2023-05-25T12:56:50.602699Z",
     "shell.execute_reply": "2023-05-25T12:56:50.601637Z"
    },
    "papermill": {
     "duration": 0.045884,
     "end_time": "2023-05-25T12:56:50.605283",
     "exception": false,
     "start_time": "2023-05-25T12:56:50.559399",
     "status": "completed"
    },
    "tags": []
   },
   "outputs": [],
   "source": [
    "predict_test = rft.predict(test_df)"
   ]
  },
  {
   "cell_type": "code",
   "execution_count": 31,
   "id": "9381cc88",
   "metadata": {
    "execution": {
     "iopub.execute_input": "2023-05-25T12:56:50.636077Z",
     "iopub.status.busy": "2023-05-25T12:56:50.634613Z",
     "iopub.status.idle": "2023-05-25T12:56:50.644083Z",
     "shell.execute_reply": "2023-05-25T12:56:50.642771Z"
    },
    "papermill": {
     "duration": 0.027524,
     "end_time": "2023-05-25T12:56:50.646889",
     "exception": false,
     "start_time": "2023-05-25T12:56:50.619365",
     "status": "completed"
    },
    "tags": []
   },
   "outputs": [
    {
     "data": {
      "text/plain": [
       "array([0, 1, 1, 1, 0, 1, 0, 1, 0, 0, 0, 0, 1, 1, 0, 0, 1, 0, 0, 0, 0, 0,\n",
       "       1, 1, 1, 0, 0, 0, 0, 1, 1, 1, 1, 1, 1, 1, 1, 1, 0, 1, 1, 1, 1, 0,\n",
       "       1, 0, 1, 0, 1, 0, 1, 1, 0, 0, 0, 0, 1, 0, 0, 1, 1, 0, 0, 0, 0, 1,\n",
       "       0, 1, 0, 0, 0, 1, 0, 0, 1, 0, 1, 0, 0, 1, 0, 0, 0, 0, 1, 0, 0, 0,\n",
       "       0, 1, 1, 1, 0, 0, 1, 1, 0, 0, 0, 1, 0, 1, 1, 0, 1, 1, 0, 1, 1, 1,\n",
       "       0, 0, 1, 0, 0, 0, 0, 0, 0, 1, 0, 0, 0, 0, 0, 0, 1, 1, 1, 0, 1, 0,\n",
       "       0, 0, 0, 1, 1, 1, 0, 0, 0, 0, 0, 1, 1, 0, 0, 1, 1, 0, 1, 1, 0, 0,\n",
       "       1, 1, 1, 1, 0, 1, 1, 0, 1, 0, 1, 0, 1, 0, 1, 0, 0, 0, 1, 1, 0, 0,\n",
       "       1, 1, 1, 0, 1, 1, 0, 0, 0, 1, 0, 0, 1, 0, 0, 1, 1, 1, 1, 0, 0, 0,\n",
       "       0, 1, 0, 0, 0, 0, 0, 0, 1, 1, 0, 1, 0, 1, 1, 0, 0, 1, 0, 1, 0, 0,\n",
       "       1, 1, 0, 1, 0, 0, 0, 0, 1, 0, 0, 0, 1, 1, 1, 0, 1, 0, 1, 1, 0, 0,\n",
       "       1, 0, 0, 0, 1, 1, 0, 1, 1, 0, 0, 0, 0, 1, 1, 1, 1, 0, 0, 0, 1, 1,\n",
       "       0, 0, 1, 1, 0, 0, 1, 1, 0, 1, 0, 0])"
      ]
     },
     "execution_count": 31,
     "metadata": {},
     "output_type": "execute_result"
    }
   ],
   "source": [
    "predict_test"
   ]
  },
  {
   "cell_type": "code",
   "execution_count": 32,
   "id": "1de0cead",
   "metadata": {
    "execution": {
     "iopub.execute_input": "2023-05-25T12:56:50.677686Z",
     "iopub.status.busy": "2023-05-25T12:56:50.677238Z",
     "iopub.status.idle": "2023-05-25T12:56:50.690737Z",
     "shell.execute_reply": "2023-05-25T12:56:50.689685Z"
    },
    "papermill": {
     "duration": 0.032383,
     "end_time": "2023-05-25T12:56:50.693567",
     "exception": false,
     "start_time": "2023-05-25T12:56:50.661184",
     "status": "completed"
    },
    "tags": []
   },
   "outputs": [],
   "source": [
    "sub = pd.read_csv('/kaggle/input/playground-series-s3e12/sample_submission.csv')"
   ]
  },
  {
   "cell_type": "code",
   "execution_count": 33,
   "id": "90464b8a",
   "metadata": {
    "execution": {
     "iopub.execute_input": "2023-05-25T12:56:50.724310Z",
     "iopub.status.busy": "2023-05-25T12:56:50.723902Z",
     "iopub.status.idle": "2023-05-25T12:56:50.738211Z",
     "shell.execute_reply": "2023-05-25T12:56:50.736968Z"
    },
    "papermill": {
     "duration": 0.032841,
     "end_time": "2023-05-25T12:56:50.740965",
     "exception": false,
     "start_time": "2023-05-25T12:56:50.708124",
     "status": "completed"
    },
    "tags": []
   },
   "outputs": [
    {
     "data": {
      "text/html": [
       "<div>\n",
       "<style scoped>\n",
       "    .dataframe tbody tr th:only-of-type {\n",
       "        vertical-align: middle;\n",
       "    }\n",
       "\n",
       "    .dataframe tbody tr th {\n",
       "        vertical-align: top;\n",
       "    }\n",
       "\n",
       "    .dataframe thead th {\n",
       "        text-align: right;\n",
       "    }\n",
       "</style>\n",
       "<table border=\"1\" class=\"dataframe\">\n",
       "  <thead>\n",
       "    <tr style=\"text-align: right;\">\n",
       "      <th></th>\n",
       "      <th>id</th>\n",
       "      <th>target</th>\n",
       "    </tr>\n",
       "  </thead>\n",
       "  <tbody>\n",
       "    <tr>\n",
       "      <th>0</th>\n",
       "      <td>414</td>\n",
       "      <td>0.5</td>\n",
       "    </tr>\n",
       "    <tr>\n",
       "      <th>1</th>\n",
       "      <td>415</td>\n",
       "      <td>0.5</td>\n",
       "    </tr>\n",
       "    <tr>\n",
       "      <th>2</th>\n",
       "      <td>416</td>\n",
       "      <td>0.5</td>\n",
       "    </tr>\n",
       "    <tr>\n",
       "      <th>3</th>\n",
       "      <td>417</td>\n",
       "      <td>0.5</td>\n",
       "    </tr>\n",
       "    <tr>\n",
       "      <th>4</th>\n",
       "      <td>418</td>\n",
       "      <td>0.5</td>\n",
       "    </tr>\n",
       "    <tr>\n",
       "      <th>...</th>\n",
       "      <td>...</td>\n",
       "      <td>...</td>\n",
       "    </tr>\n",
       "    <tr>\n",
       "      <th>271</th>\n",
       "      <td>685</td>\n",
       "      <td>0.5</td>\n",
       "    </tr>\n",
       "    <tr>\n",
       "      <th>272</th>\n",
       "      <td>686</td>\n",
       "      <td>0.5</td>\n",
       "    </tr>\n",
       "    <tr>\n",
       "      <th>273</th>\n",
       "      <td>687</td>\n",
       "      <td>0.5</td>\n",
       "    </tr>\n",
       "    <tr>\n",
       "      <th>274</th>\n",
       "      <td>688</td>\n",
       "      <td>0.5</td>\n",
       "    </tr>\n",
       "    <tr>\n",
       "      <th>275</th>\n",
       "      <td>689</td>\n",
       "      <td>0.5</td>\n",
       "    </tr>\n",
       "  </tbody>\n",
       "</table>\n",
       "<p>276 rows × 2 columns</p>\n",
       "</div>"
      ],
      "text/plain": [
       "      id  target\n",
       "0    414     0.5\n",
       "1    415     0.5\n",
       "2    416     0.5\n",
       "3    417     0.5\n",
       "4    418     0.5\n",
       "..   ...     ...\n",
       "271  685     0.5\n",
       "272  686     0.5\n",
       "273  687     0.5\n",
       "274  688     0.5\n",
       "275  689     0.5\n",
       "\n",
       "[276 rows x 2 columns]"
      ]
     },
     "execution_count": 33,
     "metadata": {},
     "output_type": "execute_result"
    }
   ],
   "source": [
    "sub"
   ]
  },
  {
   "cell_type": "code",
   "execution_count": 34,
   "id": "b3d1cd42",
   "metadata": {
    "execution": {
     "iopub.execute_input": "2023-05-25T12:56:50.771848Z",
     "iopub.status.busy": "2023-05-25T12:56:50.771387Z",
     "iopub.status.idle": "2023-05-25T12:56:50.777024Z",
     "shell.execute_reply": "2023-05-25T12:56:50.775841Z"
    },
    "papermill": {
     "duration": 0.023865,
     "end_time": "2023-05-25T12:56:50.779654",
     "exception": false,
     "start_time": "2023-05-25T12:56:50.755789",
     "status": "completed"
    },
    "tags": []
   },
   "outputs": [],
   "source": [
    "sub['target'] = predict_test"
   ]
  },
  {
   "cell_type": "code",
   "execution_count": 35,
   "id": "9926f4b8",
   "metadata": {
    "execution": {
     "iopub.execute_input": "2023-05-25T12:56:50.810575Z",
     "iopub.status.busy": "2023-05-25T12:56:50.810185Z",
     "iopub.status.idle": "2023-05-25T12:56:50.823974Z",
     "shell.execute_reply": "2023-05-25T12:56:50.822676Z"
    },
    "papermill": {
     "duration": 0.032193,
     "end_time": "2023-05-25T12:56:50.826626",
     "exception": false,
     "start_time": "2023-05-25T12:56:50.794433",
     "status": "completed"
    },
    "tags": []
   },
   "outputs": [
    {
     "data": {
      "text/html": [
       "<div>\n",
       "<style scoped>\n",
       "    .dataframe tbody tr th:only-of-type {\n",
       "        vertical-align: middle;\n",
       "    }\n",
       "\n",
       "    .dataframe tbody tr th {\n",
       "        vertical-align: top;\n",
       "    }\n",
       "\n",
       "    .dataframe thead th {\n",
       "        text-align: right;\n",
       "    }\n",
       "</style>\n",
       "<table border=\"1\" class=\"dataframe\">\n",
       "  <thead>\n",
       "    <tr style=\"text-align: right;\">\n",
       "      <th></th>\n",
       "      <th>id</th>\n",
       "      <th>target</th>\n",
       "    </tr>\n",
       "  </thead>\n",
       "  <tbody>\n",
       "    <tr>\n",
       "      <th>0</th>\n",
       "      <td>414</td>\n",
       "      <td>0</td>\n",
       "    </tr>\n",
       "    <tr>\n",
       "      <th>1</th>\n",
       "      <td>415</td>\n",
       "      <td>1</td>\n",
       "    </tr>\n",
       "    <tr>\n",
       "      <th>2</th>\n",
       "      <td>416</td>\n",
       "      <td>1</td>\n",
       "    </tr>\n",
       "    <tr>\n",
       "      <th>3</th>\n",
       "      <td>417</td>\n",
       "      <td>1</td>\n",
       "    </tr>\n",
       "    <tr>\n",
       "      <th>4</th>\n",
       "      <td>418</td>\n",
       "      <td>0</td>\n",
       "    </tr>\n",
       "    <tr>\n",
       "      <th>...</th>\n",
       "      <td>...</td>\n",
       "      <td>...</td>\n",
       "    </tr>\n",
       "    <tr>\n",
       "      <th>271</th>\n",
       "      <td>685</td>\n",
       "      <td>1</td>\n",
       "    </tr>\n",
       "    <tr>\n",
       "      <th>272</th>\n",
       "      <td>686</td>\n",
       "      <td>0</td>\n",
       "    </tr>\n",
       "    <tr>\n",
       "      <th>273</th>\n",
       "      <td>687</td>\n",
       "      <td>1</td>\n",
       "    </tr>\n",
       "    <tr>\n",
       "      <th>274</th>\n",
       "      <td>688</td>\n",
       "      <td>0</td>\n",
       "    </tr>\n",
       "    <tr>\n",
       "      <th>275</th>\n",
       "      <td>689</td>\n",
       "      <td>0</td>\n",
       "    </tr>\n",
       "  </tbody>\n",
       "</table>\n",
       "<p>276 rows × 2 columns</p>\n",
       "</div>"
      ],
      "text/plain": [
       "      id  target\n",
       "0    414       0\n",
       "1    415       1\n",
       "2    416       1\n",
       "3    417       1\n",
       "4    418       0\n",
       "..   ...     ...\n",
       "271  685       1\n",
       "272  686       0\n",
       "273  687       1\n",
       "274  688       0\n",
       "275  689       0\n",
       "\n",
       "[276 rows x 2 columns]"
      ]
     },
     "execution_count": 35,
     "metadata": {},
     "output_type": "execute_result"
    }
   ],
   "source": [
    "sub"
   ]
  },
  {
   "cell_type": "code",
   "execution_count": 36,
   "id": "d7e2fac4",
   "metadata": {
    "execution": {
     "iopub.execute_input": "2023-05-25T12:56:50.867481Z",
     "iopub.status.busy": "2023-05-25T12:56:50.867069Z",
     "iopub.status.idle": "2023-05-25T12:56:50.879451Z",
     "shell.execute_reply": "2023-05-25T12:56:50.878493Z"
    },
    "papermill": {
     "duration": 0.033658,
     "end_time": "2023-05-25T12:56:50.882195",
     "exception": false,
     "start_time": "2023-05-25T12:56:50.848537",
     "status": "completed"
    },
    "tags": []
   },
   "outputs": [],
   "source": [
    "sub.to_csv('submission.csv',index=False)"
   ]
  },
  {
   "cell_type": "code",
   "execution_count": 37,
   "id": "0fa3aa1d",
   "metadata": {
    "execution": {
     "iopub.execute_input": "2023-05-25T12:56:50.915217Z",
     "iopub.status.busy": "2023-05-25T12:56:50.914830Z",
     "iopub.status.idle": "2023-05-25T12:56:50.918980Z",
     "shell.execute_reply": "2023-05-25T12:56:50.917947Z"
    },
    "papermill": {
     "duration": 0.023569,
     "end_time": "2023-05-25T12:56:50.921440",
     "exception": false,
     "start_time": "2023-05-25T12:56:50.897871",
     "status": "completed"
    },
    "tags": []
   },
   "outputs": [],
   "source": [
    "# use ths for 100% right prediction RandomForestClassifier"
   ]
  }
 ],
 "metadata": {
  "kernelspec": {
   "display_name": "Python 3",
   "language": "python",
   "name": "python3"
  },
  "language_info": {
   "codemirror_mode": {
    "name": "ipython",
    "version": 3
   },
   "file_extension": ".py",
   "mimetype": "text/x-python",
   "name": "python",
   "nbconvert_exporter": "python",
   "pygments_lexer": "ipython3",
   "version": "3.10.10"
  },
  "papermill": {
   "default_parameters": {},
   "duration": 19.924403,
   "end_time": "2023-05-25T12:56:52.059427",
   "environment_variables": {},
   "exception": null,
   "input_path": "__notebook__.ipynb",
   "output_path": "__notebook__.ipynb",
   "parameters": {},
   "start_time": "2023-05-25T12:56:32.135024",
   "version": "2.4.0"
  }
 },
 "nbformat": 4,
 "nbformat_minor": 5
}
